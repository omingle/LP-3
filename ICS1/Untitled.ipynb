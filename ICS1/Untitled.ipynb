{
 "cells": [
  {
   "cell_type": "code",
   "execution_count": 96,
   "id": "f7cd545b",
   "metadata": {},
   "outputs": [],
   "source": [
    "# permutations for keys\n",
    "p10_seq = (3, 5, 2, 7, 4, 10, 1, 9, 8, 6)\n",
    "p8_seq = (6, 3, 7, 4, 8, 5, 10, 9)\n",
    "\n",
    "# permutations for text\n",
    "ip_seq = (2, 6, 3, 1, 4, 8, 5, 7)\n",
    "inv_ip_seq = (4, 1, 3, 5, 7, 2, 8, 6)\n",
    "\n",
    "# permutation to expand 4 bits to 8 bits\n",
    "ep_seq = (4, 1, 2, 3, 2, 3, 4, 1)\n",
    "\n",
    "# permutation for 4 bits\n",
    "p4_seq = (2, 4, 3, 1)\n",
    "\n",
    "# s boxes\n",
    "s0_seq = [\n",
    "            [\"01\", \"00\", \"11\", \"10\"],\n",
    "            [\"11\", \"10\", \"01\", \"00\"],\n",
    "            [\"00\", \"10\", \"01\", \"11\"],\n",
    "            [\"11\", \"01\", \"11\", \"10\"]\n",
    "         ]\n",
    "\n",
    "s1_seq = [\n",
    "            [\"00\", \"01\", \"10\", \"11\"],\n",
    "            [\"10\", \"00\", \"01\", \"11\"],\n",
    "            [\"11\", \"00\", \"01\", \"00\"],\n",
    "            [\"10\", \"01\", \"00\", \"11\"]\n",
    "         ]"
   ]
  },
  {
   "cell_type": "code",
   "execution_count": 97,
   "id": "d43fec34",
   "metadata": {},
   "outputs": [],
   "source": [
    "def left_shift(s, bits):\n",
    "    s = s[bits:] + s[:bits]\n",
    "    \n",
    "    return s"
   ]
  },
  {
   "cell_type": "code",
   "execution_count": 98,
   "id": "301db4db",
   "metadata": {},
   "outputs": [],
   "source": [
    "def permute_and_generate(inp, seq):\n",
    "\n",
    "    s = \"\"\n",
    "    \n",
    "    for val in seq:\n",
    "        s += inp[val-1]\n",
    "        \n",
    "    return s"
   ]
  },
  {
   "cell_type": "code",
   "execution_count": 99,
   "id": "8cdc17a0",
   "metadata": {},
   "outputs": [],
   "source": [
    "def generate_key(key):\n",
    "    p10 = permute_and_generate(key, p10_seq)\n",
    "    \n",
    "    key_half_left = p10[0:5]\n",
    "    key_half_right = p10[5:10]\n",
    "    \n",
    "    ls1_left = left_shift(key_half_left, 1)\n",
    "    ls1_right = left_shift(key_half_right, 1)\n",
    "    \n",
    "    k1 = permute_and_generate(ls1_left+ls1_right, p8_seq)\n",
    "    print(\"k1 : \", k1)\n",
    "    \n",
    "    ls2_left = left_shift(ls1_left, 2)\n",
    "    ls2_right = left_shift(ls1_right, 2)\n",
    "    \n",
    "    k2 = permute_and_generate(ls2_left+ls2_right, p8_seq)\n",
    "    print(\"k2 : \", k2)\n",
    "    \n",
    "    return k1, k2"
   ]
  },
  {
   "cell_type": "code",
   "execution_count": 100,
   "id": "b9617512",
   "metadata": {},
   "outputs": [],
   "source": [
    "def find_xor(s1, s2):\n",
    "    xor = \"\"\n",
    "    \n",
    "    for i in range(0, len(s1)):\n",
    "        if s1[i]==s2[i]:\n",
    "            xor += '0'\n",
    "        else:\n",
    "            xor +='1'\n",
    "            \n",
    "    return xor"
   ]
  },
  {
   "cell_type": "code",
   "execution_count": 101,
   "id": "41d635eb",
   "metadata": {},
   "outputs": [],
   "source": [
    "def find_s0_s1(xor_half, lookup_table):\n",
    "    r = (int(xor_half[0])*2) + int(xor_half[3])\n",
    "    c = (int(xor_half[1])*2) + int(xor_half[2])\n",
    "    \n",
    "    return lookup_table[r][c]"
   ]
  },
  {
   "cell_type": "code",
   "execution_count": 102,
   "id": "8cd8c3ca",
   "metadata": {},
   "outputs": [],
   "source": [
    "def round_encrypt(ip, key):\n",
    "    \n",
    "    expanded_per = permute_and_generate(ip, ep_seq)\n",
    "    expanded_per_xor = find_xor(expanded_per, key)\n",
    "    \n",
    "    left_half = expanded_per_xor[:4]\n",
    "    right_half = expanded_per_xor[4:]\n",
    "    \n",
    "    s0 = find_s0_s1(left_half, s0_seq)\n",
    "    s1 = find_s0_s1(right_half, s1_seq)\n",
    "    \n",
    "    p4 = permute_and_generate(s0+s1, p4_seq)\n",
    "    \n",
    "    return p4"
   ]
  },
  {
   "cell_type": "code",
   "execution_count": 103,
   "id": "a9ca66ca",
   "metadata": {},
   "outputs": [],
   "source": [
    "def encrypt(ip, k1, k2):\n",
    "    input_permutation = permute_and_generate(ip, ip_seq)\n",
    "    \n",
    "    input_permutation_left = input_permutation[:4]\n",
    "    input_permutation_right = input_permutation[4:]\n",
    "    \n",
    "#     round 1\n",
    "\n",
    "    r1_output = round_encrypt(input_permutation_right, k1)\n",
    "    r1_output = find_xor(r1_output, input_permutation_left)\n",
    "    \n",
    "#     round 2\n",
    "\n",
    "    r2_output = round_encrypt(r1_output, k2)\n",
    "    r2_output = find_xor(r2_output, input_permutation_right)\n",
    "    \n",
    "    inv_ip = permute_and_generate(r2_output+r1_output, inv_ip_seq)\n",
    "    \n",
    "    return inv_ip"
   ]
  },
  {
   "cell_type": "code",
   "execution_count": 104,
   "id": "e4a6ae12",
   "metadata": {},
   "outputs": [
    {
     "name": "stdout",
     "output_type": "stream",
     "text": [
      "k1 :  10100100\n",
      "k2 :  01000011\n"
     ]
    }
   ],
   "source": [
    "k1, k2 = generate_key(\"1010000010\")"
   ]
  },
  {
   "cell_type": "code",
   "execution_count": 105,
   "id": "cd4982b5",
   "metadata": {},
   "outputs": [
    {
     "name": "stdout",
     "output_type": "stream",
     "text": [
      "Enter Plaintext : 01100011\n",
      "Ciphertext :  11101000\n",
      "Decrypted Text :  01100011\n"
     ]
    }
   ],
   "source": [
    "plaintext = input(\"Enter Plaintext : \")\n",
    "# plaintext =y \"01100011\"\n",
    "ciphertext = encrypt(plaintext, k1, k2)\n",
    "\n",
    "print(\"Ciphertext : \", ciphertext)\n",
    "\n",
    "decrypted_text = encrypt(ciphertext, k2, k1)\n",
    "print(\"Decrypted Text : \", decrypted_text)"
   ]
  },
  {
   "cell_type": "code",
   "execution_count": null,
   "id": "f22dc3d3",
   "metadata": {},
   "outputs": [],
   "source": []
  }
 ],
 "metadata": {
  "kernelspec": {
   "display_name": "Python 3 (ipykernel)",
   "language": "python",
   "name": "python3"
  },
  "language_info": {
   "codemirror_mode": {
    "name": "ipython",
    "version": 3
   },
   "file_extension": ".py",
   "mimetype": "text/x-python",
   "name": "python",
   "nbconvert_exporter": "python",
   "pygments_lexer": "ipython3",
   "version": "3.9.1"
  }
 },
 "nbformat": 4,
 "nbformat_minor": 5
}
