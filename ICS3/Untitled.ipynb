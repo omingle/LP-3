{
 "cells": [
  {
   "cell_type": "code",
   "execution_count": 3,
   "id": "2858ab61",
   "metadata": {},
   "outputs": [],
   "source": [
    "import random\n",
    "import math"
   ]
  },
  {
   "cell_type": "code",
   "execution_count": 4,
   "id": "2767c3a9",
   "metadata": {},
   "outputs": [],
   "source": [
    "def generate(n, g):\n",
    "    \n",
    "    print(\"Diffie-Hellman Key Exchange\\n\")\n",
    "    \n",
    "    print(\"Modulus Chosen : \", n)\n",
    "    print(\"Base Chosen : \", g)\n",
    "    \n",
    "    a = random.randint(2, 1000)\n",
    "    b = random.randint(2, 1000)\n",
    "    \n",
    "    print(\"Number chosen by A : \", a)\n",
    "    print(\"Number chosen by B : \", b)\n",
    "    \n",
    "    print(\"Calculating shared keys for both A and B\")\n",
    "    A = pow(g, a)%n\n",
    "    B = pow(g, b)%n\n",
    "    \n",
    "    print(\"A's calculated value : \", A)\n",
    "    print(\"B's calculated value : \", B)\n",
    "    \n",
    "    print(\"Exchanging calculated values\")\n",
    "    k1 = pow(B, a)%n\n",
    "    k2 = pow(A, b)%n\n",
    "    \n",
    "    print(\"A's secret key : \", k1)\n",
    "    print(\"B's secret key : \", k2)"
   ]
  },
  {
   "cell_type": "code",
   "execution_count": 8,
   "id": "fd18edb0",
   "metadata": {
    "scrolled": true
   },
   "outputs": [
    {
     "name": "stdout",
     "output_type": "stream",
     "text": [
      "Diffie-Hellman Key Exchange\n",
      "\n",
      "Modulus Chosen :  95\n",
      "Base Chosen :  23\n",
      "Number chosen by A :  269\n",
      "Number chosen by B :  627\n",
      "Calculating shared keys for both A and B\n",
      "A's calculated value :  43\n",
      "B's calculated value :  87\n",
      "Exchanging calculated values\n",
      "A's secret key :  7\n",
      "B's secret key :  7\n"
     ]
    }
   ],
   "source": [
    "generate(95, 23)"
   ]
  },
  {
   "cell_type": "code",
   "execution_count": null,
   "id": "c4e3b6d8",
   "metadata": {},
   "outputs": [],
   "source": []
  }
 ],
 "metadata": {
  "kernelspec": {
   "display_name": "Python 3 (ipykernel)",
   "language": "python",
   "name": "python3"
  },
  "language_info": {
   "codemirror_mode": {
    "name": "ipython",
    "version": 3
   },
   "file_extension": ".py",
   "mimetype": "text/x-python",
   "name": "python",
   "nbconvert_exporter": "python",
   "pygments_lexer": "ipython3",
   "version": "3.9.1"
  }
 },
 "nbformat": 4,
 "nbformat_minor": 5
}
