{
 "cells": [
  {
   "cell_type": "code",
   "execution_count": 35,
   "id": "6ec16447",
   "metadata": {},
   "outputs": [],
   "source": [
    "import random\n",
    "import numpy as np\n",
    "import math\n",
    "from mpmath import mp"
   ]
  },
  {
   "cell_type": "code",
   "execution_count": 36,
   "id": "0bee8ba0",
   "metadata": {},
   "outputs": [],
   "source": [
    "def mod(num,a):\n",
    "    res = 0\n",
    "    for i in range(0, len(num)):\n",
    "        res = (res * 10 + int(num[i])) % a;\n",
    "    return res"
   ]
  },
  {
   "cell_type": "code",
   "execution_count": 37,
   "id": "1730ded0",
   "metadata": {},
   "outputs": [],
   "source": [
    "def gcd(a,h):\n",
    "    temp=\"\"\n",
    "    while (1):\n",
    "        temp = a%h;\n",
    "        if (temp == 0):\n",
    "            return h\n",
    "        a = h\n",
    "        h = temp"
   ]
  },
  {
   "cell_type": "code",
   "execution_count": 38,
   "id": "aa0fbcd9",
   "metadata": {},
   "outputs": [],
   "source": [
    "def selecte(n,P,Q):\n",
    "    max=(P-1)*(Q-1)\n",
    "    e=2\n",
    "    while e < max:\n",
    "        if (gcd(e, max)==1):\n",
    "            break\n",
    "        else:\n",
    "            e=e+1\n",
    "    return e"
   ]
  },
  {
   "cell_type": "code",
   "execution_count": 39,
   "id": "96a7bec9",
   "metadata": {},
   "outputs": [],
   "source": [
    "#Encrypt with public key\n",
    "def encrypt(data,publickey):\n",
    "    n=publickey[0]\n",
    "    e=publickey[1]\n",
    "    return pow(data,e)%n"
   ]
  },
  {
   "cell_type": "code",
   "execution_count": 40,
   "id": "62f0b13b",
   "metadata": {},
   "outputs": [],
   "source": [
    "def decrypt(cipher,privatekey,n):\n",
    "    orig= pow(cipher,privatekey)\n",
    "    return orig%n"
   ]
  },
  {
   "cell_type": "code",
   "execution_count": 41,
   "id": "c66efa29",
   "metadata": {},
   "outputs": [],
   "source": [
    "P=3\n",
    "Q=7\n",
    "firstpart=P*Q\n",
    "e=selecte(firstpart,P,Q)"
   ]
  },
  {
   "cell_type": "code",
   "execution_count": 42,
   "id": "5436bbf0",
   "metadata": {},
   "outputs": [
    {
     "name": "stdout",
     "output_type": "stream",
     "text": [
      "Private Key 5.0\n"
     ]
    }
   ],
   "source": [
    "k=2\n",
    "phi=(P-1)*(Q-1)\n",
    "privatekey = (1 + (k*phi))/e;\n",
    "print(\"Private Key\",privatekey)"
   ]
  },
  {
   "cell_type": "code",
   "execution_count": 43,
   "id": "16bab2f0",
   "metadata": {},
   "outputs": [
    {
     "name": "stdout",
     "output_type": "stream",
     "text": [
      "Public Key: (21, 5)\n"
     ]
    }
   ],
   "source": [
    "publickey=(firstpart,e)\n",
    "print(\"Public Key:\",publickey)"
   ]
  },
  {
   "cell_type": "code",
   "execution_count": 44,
   "id": "4d7fae7c",
   "metadata": {},
   "outputs": [],
   "source": [
    "data=12\n",
    "cipher=encrypt(data,publickey)\n",
    "originaltext=decrypt(cipher,privatekey,firstpart)"
   ]
  },
  {
   "cell_type": "code",
   "execution_count": 45,
   "id": "124ee2ea",
   "metadata": {},
   "outputs": [
    {
     "name": "stdout",
     "output_type": "stream",
     "text": [
      "Data: 12\n",
      "Cipher:(Data after encryption) 3\n",
      "Original Data:(After decryption of cipher) 12.0\n"
     ]
    }
   ],
   "source": [
    "print(\"Data:\",data)\n",
    "print(\"Cipher:(Data after encryption)\",cipher)\n",
    "print(\"Original Data:(After decryption of cipher)\",originaltext)"
   ]
  },
  {
   "cell_type": "code",
   "execution_count": null,
   "id": "4401cedd",
   "metadata": {},
   "outputs": [],
   "source": []
  }
 ],
 "metadata": {
  "kernelspec": {
   "display_name": "Python 3 (ipykernel)",
   "language": "python",
   "name": "python3"
  },
  "language_info": {
   "codemirror_mode": {
    "name": "ipython",
    "version": 3
   },
   "file_extension": ".py",
   "mimetype": "text/x-python",
   "name": "python",
   "nbconvert_exporter": "python",
   "pygments_lexer": "ipython3",
   "version": "3.9.1"
  }
 },
 "nbformat": 4,
 "nbformat_minor": 5
}
