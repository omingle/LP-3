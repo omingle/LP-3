{
 "cells": [
  {
   "cell_type": "markdown",
   "id": "14ef75d1",
   "metadata": {},
   "source": [
    "# RSA"
   ]
  },
  {
   "cell_type": "code",
   "execution_count": 11,
   "id": "e3a95f26",
   "metadata": {},
   "outputs": [],
   "source": [
    "import random\n",
    "import ast"
   ]
  },
  {
   "cell_type": "code",
   "execution_count": 12,
   "id": "715f26d6",
   "metadata": {},
   "outputs": [],
   "source": [
    "def isPrime(n):\n",
    "    if n==0 or n==1:\n",
    "        return False\n",
    "    \n",
    "    for i in range(2, int(n**0.5)+1):\n",
    "        if(n%i)==0:\n",
    "            return False\n",
    "        \n",
    "    return True\n",
    "\n",
    "def generate_prime():\n",
    "    primes = [i for i in range(1, 999) if isPrime(i)]\n",
    "    return random.choices(primes, k=2)"
   ]
  },
  {
   "cell_type": "code",
   "execution_count": 13,
   "id": "63f62a20",
   "metadata": {},
   "outputs": [],
   "source": [
    "class RSA:\n",
    "    \n",
    "    def __init__(self, p, q):\n",
    "        self.p = p\n",
    "        self.q = q\n",
    "        self.N = p * q\n",
    "        self.product = (p-1) * (q-1)\n",
    "        self.generateKey()\n",
    "        \n",
    "    def generateKey(self):\n",
    "        \n",
    "        for i in range(1, 999999):\n",
    "            if(self.product % i !=0):\n",
    "                self.E = i\n",
    "                break\n",
    "        \n",
    "        for i in range(1, self.product-1):\n",
    "            if((i*self.E) % self.product) == 1:\n",
    "                self.D = i\n",
    "                break\n",
    "                \n",
    "        print(\"Encryption Key : \", self.E)\n",
    "        print(\"Decryption Key : \", self.D)\n",
    "        \n",
    "    def encrypt(self, text):\n",
    "        ct = (int(text) ** self.E) % self.N\n",
    "        \n",
    "        return ct\n",
    "    \n",
    "    def decrypt(self, cipher):\n",
    "        dt = (int(cipher) ** self.D) % self.N\n",
    "        \n",
    "        return dt\n",
    "\n",
    "#     def encrypt(self, text):\n",
    "#         pt = []\n",
    "#         ct = []\n",
    "        \n",
    "#         for i in text:\n",
    "#             pt.append(ord(i))\n",
    "            \n",
    "#         for i in pt:\n",
    "#             ct.append((i**self.E)%self.N)\n",
    "            \n",
    "#         return ct\n",
    "    \n",
    "    \n",
    "#     def decrypt(self, cipher):\n",
    "#         dt = []\n",
    "        \n",
    "#         for i in cipher:\n",
    "#             dt.append(chr((i**self.D)%self.N))\n",
    "            \n",
    "#         return ''.join(dt)\n",
    "        \n",
    "        "
   ]
  },
  {
   "cell_type": "code",
   "execution_count": 14,
   "id": "650db600",
   "metadata": {},
   "outputs": [
    {
     "name": "stdout",
     "output_type": "stream",
     "text": [
      "Enter p : 17\n",
      "Enter q : 29\n",
      "Encryption Key :  3\n",
      "Decryption Key :  299\n",
      "Enter Plaintext : 10\n",
      "Ciphertext :  14\n",
      "Decrypted Text :  10\n"
     ]
    }
   ],
   "source": [
    "if __name__ == \"__main__\":\n",
    "    \n",
    "    p = int(input(\"Enter p : \"))\n",
    "    q = int(input(\"Enter q : \"))\n",
    "    \n",
    "    rsa = RSA(p, q)\n",
    "    \n",
    "    plaintext = input(\"Enter Plaintext : \")\n",
    "    \n",
    "    ct = rsa.encrypt(plaintext)\n",
    "    \n",
    "    print(\"Ciphertext : \", ct)\n",
    "    \n",
    "    dt = rsa.decrypt(ct)\n",
    "    \n",
    "    print(\"Decrypted Text : \", dt)"
   ]
  },
  {
   "cell_type": "code",
   "execution_count": null,
   "id": "c2a59376",
   "metadata": {},
   "outputs": [],
   "source": []
  }
 ],
 "metadata": {
  "kernelspec": {
   "display_name": "Python 3 (ipykernel)",
   "language": "python",
   "name": "python3"
  },
  "language_info": {
   "codemirror_mode": {
    "name": "ipython",
    "version": 3
   },
   "file_extension": ".py",
   "mimetype": "text/x-python",
   "name": "python",
   "nbconvert_exporter": "python",
   "pygments_lexer": "ipython3",
   "version": "3.9.1"
  }
 },
 "nbformat": 4,
 "nbformat_minor": 5
}
