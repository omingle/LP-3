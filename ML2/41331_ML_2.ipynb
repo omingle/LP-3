{
 "cells": [
  {
   "cell_type": "code",
   "execution_count": 1,
   "metadata": {},
   "outputs": [],
   "source": [
    "import numpy as np\n",
    "import pandas as pd\n",
    "from numpy import log2 as log"
   ]
  },
  {
   "cell_type": "code",
   "execution_count": 2,
   "metadata": {},
   "outputs": [],
   "source": [
    "dataset = [\n",
    "    ['<21', 'High', 'Male', 'Single', 'No'],\n",
    "    ['<21', 'High', 'Male', 'Married', 'No'],\n",
    "    ['21-35', 'High', 'Male', 'Single', 'Yes'],\n",
    "    ['>35', 'Medium', 'Male', 'Single', 'Yes'],\n",
    "    ['>35', 'Low', 'Female', 'Single', 'Yes'],\n",
    "    ['>35', 'Low', 'Female', 'Married', 'No'],\n",
    "    ['21-35', 'Low', 'Female', 'Married', 'Yes'],\n",
    "    ['<21', 'Medium', 'Male', 'Single', 'No'],\n",
    "    ['<21', 'Low', 'Female', 'Married', 'Yes'],\n",
    "    ['>35', 'Medium', 'Female', 'Single', 'Yes'],\n",
    "    ['<21', 'Medium', 'Female', 'Married', 'Yes'],\n",
    "    ['21-35', 'Medium', 'Male', 'Married', 'Yes'],\n",
    "    ['21-35', 'High', 'Female', 'Single', 'Yes'],\n",
    "    ['>35', 'Medium', 'Male', 'Married', 'No']\n",
    "]"
   ]
  },
  {
   "cell_type": "code",
   "execution_count": 3,
   "metadata": {},
   "outputs": [
    {
     "data": {
      "text/html": [
       "<div>\n",
       "<style scoped>\n",
       "    .dataframe tbody tr th:only-of-type {\n",
       "        vertical-align: middle;\n",
       "    }\n",
       "\n",
       "    .dataframe tbody tr th {\n",
       "        vertical-align: top;\n",
       "    }\n",
       "\n",
       "    .dataframe thead th {\n",
       "        text-align: right;\n",
       "    }\n",
       "</style>\n",
       "<table border=\"1\" class=\"dataframe\">\n",
       "  <thead>\n",
       "    <tr style=\"text-align: right;\">\n",
       "      <th></th>\n",
       "      <th>Age</th>\n",
       "      <th>Income</th>\n",
       "      <th>Gender</th>\n",
       "      <th>Marital Status</th>\n",
       "      <th>Buys</th>\n",
       "    </tr>\n",
       "  </thead>\n",
       "  <tbody>\n",
       "    <tr>\n",
       "      <th>0</th>\n",
       "      <td>&lt;21</td>\n",
       "      <td>High</td>\n",
       "      <td>Male</td>\n",
       "      <td>Single</td>\n",
       "      <td>No</td>\n",
       "    </tr>\n",
       "    <tr>\n",
       "      <th>1</th>\n",
       "      <td>&lt;21</td>\n",
       "      <td>High</td>\n",
       "      <td>Male</td>\n",
       "      <td>Married</td>\n",
       "      <td>No</td>\n",
       "    </tr>\n",
       "    <tr>\n",
       "      <th>2</th>\n",
       "      <td>21-35</td>\n",
       "      <td>High</td>\n",
       "      <td>Male</td>\n",
       "      <td>Single</td>\n",
       "      <td>Yes</td>\n",
       "    </tr>\n",
       "    <tr>\n",
       "      <th>3</th>\n",
       "      <td>&gt;35</td>\n",
       "      <td>Medium</td>\n",
       "      <td>Male</td>\n",
       "      <td>Single</td>\n",
       "      <td>Yes</td>\n",
       "    </tr>\n",
       "    <tr>\n",
       "      <th>4</th>\n",
       "      <td>&gt;35</td>\n",
       "      <td>Low</td>\n",
       "      <td>Female</td>\n",
       "      <td>Single</td>\n",
       "      <td>Yes</td>\n",
       "    </tr>\n",
       "    <tr>\n",
       "      <th>5</th>\n",
       "      <td>&gt;35</td>\n",
       "      <td>Low</td>\n",
       "      <td>Female</td>\n",
       "      <td>Married</td>\n",
       "      <td>No</td>\n",
       "    </tr>\n",
       "    <tr>\n",
       "      <th>6</th>\n",
       "      <td>21-35</td>\n",
       "      <td>Low</td>\n",
       "      <td>Female</td>\n",
       "      <td>Married</td>\n",
       "      <td>Yes</td>\n",
       "    </tr>\n",
       "    <tr>\n",
       "      <th>7</th>\n",
       "      <td>&lt;21</td>\n",
       "      <td>Medium</td>\n",
       "      <td>Male</td>\n",
       "      <td>Single</td>\n",
       "      <td>No</td>\n",
       "    </tr>\n",
       "    <tr>\n",
       "      <th>8</th>\n",
       "      <td>&lt;21</td>\n",
       "      <td>Low</td>\n",
       "      <td>Female</td>\n",
       "      <td>Married</td>\n",
       "      <td>Yes</td>\n",
       "    </tr>\n",
       "    <tr>\n",
       "      <th>9</th>\n",
       "      <td>&gt;35</td>\n",
       "      <td>Medium</td>\n",
       "      <td>Female</td>\n",
       "      <td>Single</td>\n",
       "      <td>Yes</td>\n",
       "    </tr>\n",
       "    <tr>\n",
       "      <th>10</th>\n",
       "      <td>&lt;21</td>\n",
       "      <td>Medium</td>\n",
       "      <td>Female</td>\n",
       "      <td>Married</td>\n",
       "      <td>Yes</td>\n",
       "    </tr>\n",
       "    <tr>\n",
       "      <th>11</th>\n",
       "      <td>21-35</td>\n",
       "      <td>Medium</td>\n",
       "      <td>Male</td>\n",
       "      <td>Married</td>\n",
       "      <td>Yes</td>\n",
       "    </tr>\n",
       "    <tr>\n",
       "      <th>12</th>\n",
       "      <td>21-35</td>\n",
       "      <td>High</td>\n",
       "      <td>Female</td>\n",
       "      <td>Single</td>\n",
       "      <td>Yes</td>\n",
       "    </tr>\n",
       "    <tr>\n",
       "      <th>13</th>\n",
       "      <td>&gt;35</td>\n",
       "      <td>Medium</td>\n",
       "      <td>Male</td>\n",
       "      <td>Married</td>\n",
       "      <td>No</td>\n",
       "    </tr>\n",
       "  </tbody>\n",
       "</table>\n",
       "</div>"
      ],
      "text/plain": [
       "      Age  Income  Gender Marital Status Buys\n",
       "0     <21    High    Male         Single   No\n",
       "1     <21    High    Male        Married   No\n",
       "2   21-35    High    Male         Single  Yes\n",
       "3     >35  Medium    Male         Single  Yes\n",
       "4     >35     Low  Female         Single  Yes\n",
       "5     >35     Low  Female        Married   No\n",
       "6   21-35     Low  Female        Married  Yes\n",
       "7     <21  Medium    Male         Single   No\n",
       "8     <21     Low  Female        Married  Yes\n",
       "9     >35  Medium  Female         Single  Yes\n",
       "10    <21  Medium  Female        Married  Yes\n",
       "11  21-35  Medium    Male        Married  Yes\n",
       "12  21-35    High  Female         Single  Yes\n",
       "13    >35  Medium    Male        Married   No"
      ]
     },
     "execution_count": 3,
     "metadata": {},
     "output_type": "execute_result"
    }
   ],
   "source": [
    "columns = ['Age', 'Income', 'Gender', 'Marital Status', 'Buys']\n",
    "df = pd.DataFrame(dataset,columns=columns)\n",
    "df"
   ]
  },
  {
   "cell_type": "code",
   "execution_count": 4,
   "metadata": {},
   "outputs": [
    {
     "data": {
      "text/html": [
       "<div>\n",
       "<style scoped>\n",
       "    .dataframe tbody tr th:only-of-type {\n",
       "        vertical-align: middle;\n",
       "    }\n",
       "\n",
       "    .dataframe tbody tr th {\n",
       "        vertical-align: top;\n",
       "    }\n",
       "\n",
       "    .dataframe thead th {\n",
       "        text-align: right;\n",
       "    }\n",
       "</style>\n",
       "<table border=\"1\" class=\"dataframe\">\n",
       "  <thead>\n",
       "    <tr style=\"text-align: right;\">\n",
       "      <th></th>\n",
       "      <th>Age</th>\n",
       "      <th>Income</th>\n",
       "      <th>Gender</th>\n",
       "      <th>Marital Status</th>\n",
       "      <th>Buys</th>\n",
       "    </tr>\n",
       "  </thead>\n",
       "  <tbody>\n",
       "    <tr>\n",
       "      <th>0</th>\n",
       "      <td>1</td>\n",
       "      <td>0</td>\n",
       "      <td>1</td>\n",
       "      <td>1</td>\n",
       "      <td>0</td>\n",
       "    </tr>\n",
       "    <tr>\n",
       "      <th>1</th>\n",
       "      <td>1</td>\n",
       "      <td>0</td>\n",
       "      <td>1</td>\n",
       "      <td>0</td>\n",
       "      <td>0</td>\n",
       "    </tr>\n",
       "    <tr>\n",
       "      <th>2</th>\n",
       "      <td>0</td>\n",
       "      <td>0</td>\n",
       "      <td>1</td>\n",
       "      <td>1</td>\n",
       "      <td>1</td>\n",
       "    </tr>\n",
       "    <tr>\n",
       "      <th>3</th>\n",
       "      <td>2</td>\n",
       "      <td>2</td>\n",
       "      <td>1</td>\n",
       "      <td>1</td>\n",
       "      <td>1</td>\n",
       "    </tr>\n",
       "    <tr>\n",
       "      <th>4</th>\n",
       "      <td>2</td>\n",
       "      <td>1</td>\n",
       "      <td>0</td>\n",
       "      <td>1</td>\n",
       "      <td>1</td>\n",
       "    </tr>\n",
       "    <tr>\n",
       "      <th>5</th>\n",
       "      <td>2</td>\n",
       "      <td>1</td>\n",
       "      <td>0</td>\n",
       "      <td>0</td>\n",
       "      <td>0</td>\n",
       "    </tr>\n",
       "    <tr>\n",
       "      <th>6</th>\n",
       "      <td>0</td>\n",
       "      <td>1</td>\n",
       "      <td>0</td>\n",
       "      <td>0</td>\n",
       "      <td>1</td>\n",
       "    </tr>\n",
       "    <tr>\n",
       "      <th>7</th>\n",
       "      <td>1</td>\n",
       "      <td>2</td>\n",
       "      <td>1</td>\n",
       "      <td>1</td>\n",
       "      <td>0</td>\n",
       "    </tr>\n",
       "    <tr>\n",
       "      <th>8</th>\n",
       "      <td>1</td>\n",
       "      <td>1</td>\n",
       "      <td>0</td>\n",
       "      <td>0</td>\n",
       "      <td>1</td>\n",
       "    </tr>\n",
       "    <tr>\n",
       "      <th>9</th>\n",
       "      <td>2</td>\n",
       "      <td>2</td>\n",
       "      <td>0</td>\n",
       "      <td>1</td>\n",
       "      <td>1</td>\n",
       "    </tr>\n",
       "    <tr>\n",
       "      <th>10</th>\n",
       "      <td>1</td>\n",
       "      <td>2</td>\n",
       "      <td>0</td>\n",
       "      <td>0</td>\n",
       "      <td>1</td>\n",
       "    </tr>\n",
       "    <tr>\n",
       "      <th>11</th>\n",
       "      <td>0</td>\n",
       "      <td>2</td>\n",
       "      <td>1</td>\n",
       "      <td>0</td>\n",
       "      <td>1</td>\n",
       "    </tr>\n",
       "    <tr>\n",
       "      <th>12</th>\n",
       "      <td>0</td>\n",
       "      <td>0</td>\n",
       "      <td>0</td>\n",
       "      <td>1</td>\n",
       "      <td>1</td>\n",
       "    </tr>\n",
       "    <tr>\n",
       "      <th>13</th>\n",
       "      <td>2</td>\n",
       "      <td>2</td>\n",
       "      <td>1</td>\n",
       "      <td>0</td>\n",
       "      <td>0</td>\n",
       "    </tr>\n",
       "  </tbody>\n",
       "</table>\n",
       "</div>"
      ],
      "text/plain": [
       "    Age  Income  Gender  Marital Status  Buys\n",
       "0     1       0       1               1     0\n",
       "1     1       0       1               0     0\n",
       "2     0       0       1               1     1\n",
       "3     2       2       1               1     1\n",
       "4     2       1       0               1     1\n",
       "5     2       1       0               0     0\n",
       "6     0       1       0               0     1\n",
       "7     1       2       1               1     0\n",
       "8     1       1       0               0     1\n",
       "9     2       2       0               1     1\n",
       "10    1       2       0               0     1\n",
       "11    0       2       1               0     1\n",
       "12    0       0       0               1     1\n",
       "13    2       2       1               0     0"
      ]
     },
     "execution_count": 4,
     "metadata": {},
     "output_type": "execute_result"
    }
   ],
   "source": [
    "from sklearn.preprocessing import LabelEncoder\n",
    "le = LabelEncoder()\n",
    "for i in range(5):\n",
    "    df[columns[i]] = le.fit_transform(df[columns[i]])\n",
    "df"
   ]
  },
  {
   "cell_type": "code",
   "execution_count": 5,
   "metadata": {},
   "outputs": [
    {
     "data": {
      "text/html": [
       "<div>\n",
       "<style scoped>\n",
       "    .dataframe tbody tr th:only-of-type {\n",
       "        vertical-align: middle;\n",
       "    }\n",
       "\n",
       "    .dataframe tbody tr th {\n",
       "        vertical-align: top;\n",
       "    }\n",
       "\n",
       "    .dataframe thead th {\n",
       "        text-align: right;\n",
       "    }\n",
       "</style>\n",
       "<table border=\"1\" class=\"dataframe\">\n",
       "  <thead>\n",
       "    <tr style=\"text-align: right;\">\n",
       "      <th></th>\n",
       "      <th>Age</th>\n",
       "      <th>Income</th>\n",
       "      <th>Gender</th>\n",
       "      <th>Marital Status</th>\n",
       "    </tr>\n",
       "  </thead>\n",
       "  <tbody>\n",
       "    <tr>\n",
       "      <th>0</th>\n",
       "      <td>1</td>\n",
       "      <td>1</td>\n",
       "      <td>0</td>\n",
       "      <td>0</td>\n",
       "    </tr>\n",
       "  </tbody>\n",
       "</table>\n",
       "</div>"
      ],
      "text/plain": [
       "   Age  Income  Gender  Marital Status\n",
       "0    1       1       0               0"
      ]
     },
     "execution_count": 5,
     "metadata": {},
     "output_type": "execute_result"
    }
   ],
   "source": [
    "test_data=[[1, 1, 0, 0]]\n",
    "test = pd.DataFrame(test_data,columns=['Age', 'Income', 'Gender', 'Marital Status'])\n",
    "test"
   ]
  },
  {
   "cell_type": "code",
   "execution_count": 6,
   "metadata": {},
   "outputs": [],
   "source": [
    "eps = np.finfo(float).eps"
   ]
  },
  {
   "cell_type": "markdown",
   "metadata": {},
   "source": [
    "![title](ent1.png)"
   ]
  },
  {
   "cell_type": "code",
   "execution_count": 7,
   "metadata": {},
   "outputs": [],
   "source": [
    "# Calculate the Cost Function that is Entropy\n",
    "def find_entropy(df):\n",
    "    Class = df.keys()[-1]\n",
    "    entropy = 0\n",
    "    values = df[Class].unique()\n",
    "    for value in values:\n",
    "        fraction = df[Class].value_counts()[value]/len(df[Class])\n",
    "        entropy += -fraction*np.log2(fraction)\n",
    "        print(\"Class: \", Class, \" E(S): \", entropy)\n",
    "    return entropy"
   ]
  },
  {
   "cell_type": "markdown",
   "metadata": {},
   "source": [
    "![title](ent2.png)"
   ]
  },
  {
   "cell_type": "code",
   "execution_count": 8,
   "metadata": {},
   "outputs": [],
   "source": [
    "#Find entropy of the attribute (Each Columns)\n",
    "def find_entropy_attribute(df,attribute):\n",
    "    Class = df.keys()[-1]\n",
    "    target_variables = df[Class].unique()\n",
    "    variables = df[attribute].unique()\n",
    "    entropy2 = 0\n",
    "    for variable in variables:\n",
    "        entropy = 0\n",
    "        for target_variable in target_variables:\n",
    "            num = len(df[attribute][df[attribute]==variable][df[Class]==target_variable])\n",
    "            den = len(df[attribute][df[attribute]==variable])\n",
    "            fraction = num/(den+eps)\n",
    "            entropy += -fraction*log(fraction+eps)\n",
    "        fraction2 = den/len(df)\n",
    "        entropy2 += -fraction2*entropy\n",
    "        print(\"Class: \", Class, \" E(T,X): \", entropy2)\n",
    "    return abs(entropy2)"
   ]
  },
  {
   "cell_type": "markdown",
   "metadata": {},
   "source": [
    "![title](infg.png)"
   ]
  },
  {
   "cell_type": "code",
   "execution_count": 9,
   "metadata": {},
   "outputs": [],
   "source": [
    "#Find Root Node\n",
    "def find_winner(df):\n",
    "    IG = []\n",
    "    for key in df.keys()[:-1]:\n",
    "        IG.append(find_entropy(df)-find_entropy_attribute(df,key))\n",
    "        print(np.argmax(IG))\n",
    "    return df.keys()[:-1][np.argmax(IG)]"
   ]
  },
  {
   "cell_type": "code",
   "execution_count": 10,
   "metadata": {},
   "outputs": [],
   "source": [
    "def get_subtable(df, node,value):\n",
    "    return df[df[node] == value].reset_index(drop=True)"
   ]
  },
  {
   "cell_type": "code",
   "execution_count": 11,
   "metadata": {},
   "outputs": [],
   "source": [
    "def buildTree(df,tree=None): \n",
    "    Class = df.keys()[-1]\n",
    "    #Build Decision Tree\n",
    "\n",
    "    #Get attribute with maximum information gain\n",
    "    node = find_winner(df)\n",
    "    print(\"node with max info gain: \",node)\n",
    "    \n",
    "    #Get distinct value of that attribute\n",
    "    attValue = np.unique(df[node])\n",
    "    print(\"distinct values found: \", attValue)\n",
    "    \n",
    "    #Create an empty dictionary to create tree    \n",
    "    if tree is None:                    \n",
    "        tree={}\n",
    "        tree[node] = {}\n",
    "    \n",
    "    #Check if the subset is pure and stops if it is. \n",
    "    for value in attValue:\n",
    "        subtable = get_subtable(df,node,value)\n",
    "        print(\"subtable: \", subtable)\n",
    "        clValue,counts = np.unique(subtable['Buys'],return_counts=True) \n",
    "        print(\"clValue: \", clValue)\n",
    "        print(\"counts: \", counts)\n",
    "        \n",
    "        if(len(counts)==1): #Checking purity of subset\n",
    "            tree[node][value] = clValue[0]                                                    \n",
    "        else:        \n",
    "            tree[node][value] = buildTree(subtable) #Calling the function recursively \n",
    "                   \n",
    "    return tree"
   ]
  },
  {
   "cell_type": "code",
   "execution_count": 12,
   "metadata": {
    "scrolled": false
   },
   "outputs": [
    {
     "name": "stdout",
     "output_type": "stream",
     "text": [
      "Class:  Buys  E(S):  0.5305095811322292\n",
      "Class:  Buys  E(S):  0.9402859586706311\n",
      "Class:  Buys  E(T,X):  -0.34676806944809574\n",
      "Class:  Buys  E(T,X):  -0.34676806944809563\n",
      "Class:  Buys  E(T,X):  -0.6935361388961914\n",
      "0\n",
      "Class:  Buys  E(S):  0.5305095811322292\n",
      "Class:  Buys  E(S):  0.9402859586706311\n",
      "Class:  Buys  E(T,X):  -0.28571428571428553\n",
      "Class:  Buys  E(T,X):  -0.6792696431662093\n",
      "Class:  Buys  E(T,X):  -0.9110633930116756\n",
      "0\n",
      "Class:  Buys  E(S):  0.5305095811322292\n",
      "Class:  Buys  E(S):  0.9402859586706311\n",
      "Class:  Buys  E(T,X):  -0.49261406801712543\n",
      "Class:  Buys  E(T,X):  -0.7884504573082889\n",
      "0\n",
      "Class:  Buys  E(S):  0.5305095811322292\n",
      "Class:  Buys  E(S):  0.9402859586706311\n",
      "Class:  Buys  E(T,X):  -0.43156028428331517\n",
      "Class:  Buys  E(T,X):  -0.9241743523004406\n",
      "0\n",
      "node with max info gain:  Age\n",
      "distinct values found:  [0 1 2]\n",
      "subtable:     Age  Income  Gender  Marital Status  Buys\n",
      "0    0       0       1               1     1\n",
      "1    0       1       0               0     1\n",
      "2    0       2       1               0     1\n",
      "3    0       0       0               1     1\n",
      "clValue:  [1]\n",
      "counts:  [4]\n",
      "subtable:     Age  Income  Gender  Marital Status  Buys\n",
      "0    1       0       1               1     0\n",
      "1    1       0       1               0     0\n",
      "2    1       2       1               1     0\n",
      "3    1       1       0               0     1\n",
      "4    1       2       0               0     1\n",
      "clValue:  [0 1]\n",
      "counts:  [3 2]\n",
      "Class:  Buys  E(S):  0.44217935649972373\n",
      "Class:  Buys  E(S):  0.9709505944546686\n",
      "Class:  Buys  E(T,X):  -0.970950594454668\n",
      "0\n",
      "Class:  Buys  E(S):  0.44217935649972373\n",
      "Class:  Buys  E(S):  0.9709505944546686\n",
      "Class:  Buys  E(T,X):  1.281370601525967e-16\n",
      "Class:  Buys  E(T,X):  -0.39999999999999963\n",
      "Class:  Buys  E(T,X):  -0.39999999999999963\n",
      "1\n",
      "Class:  Buys  E(S):  0.44217935649972373\n",
      "Class:  Buys  E(S):  0.9709505944546686\n",
      "Class:  Buys  E(T,X):  1.9220559022889502e-16\n",
      "Class:  Buys  E(T,X):  3.203426503814917e-16\n",
      "2\n",
      "Class:  Buys  E(S):  0.44217935649972373\n",
      "Class:  Buys  E(S):  0.9709505944546686\n",
      "Class:  Buys  E(T,X):  1.281370601525967e-16\n",
      "Class:  Buys  E(T,X):  -0.5509775004326932\n",
      "2\n",
      "node with max info gain:  Gender\n",
      "distinct values found:  [0 1]\n",
      "subtable:     Age  Income  Gender  Marital Status  Buys\n",
      "0    1       1       0               0     1\n",
      "1    1       2       0               0     1\n",
      "clValue:  [1]\n",
      "counts:  [2]\n",
      "subtable:     Age  Income  Gender  Marital Status  Buys\n",
      "0    1       0       1               1     0\n",
      "1    1       0       1               0     0\n",
      "2    1       2       1               1     0\n",
      "clValue:  [0]\n",
      "counts:  [3]\n",
      "subtable:     Age  Income  Gender  Marital Status  Buys\n",
      "0    2       2       1               1     1\n",
      "1    2       1       0               1     1\n",
      "2    2       1       0               0     0\n",
      "3    2       2       0               1     1\n",
      "4    2       2       1               0     0\n",
      "clValue:  [0 1]\n",
      "counts:  [2 3]\n",
      "Class:  Buys  E(S):  0.44217935649972373\n",
      "Class:  Buys  E(S):  0.9709505944546686\n",
      "Class:  Buys  E(T,X):  -0.970950594454668\n",
      "0\n",
      "Class:  Buys  E(S):  0.44217935649972373\n",
      "Class:  Buys  E(S):  0.9709505944546686\n",
      "Class:  Buys  E(T,X):  -0.5509775004326933\n",
      "Class:  Buys  E(T,X):  -0.950977500432693\n",
      "1\n",
      "Class:  Buys  E(S):  0.44217935649972373\n",
      "Class:  Buys  E(S):  0.9709505944546686\n",
      "Class:  Buys  E(T,X):  -0.39999999999999974\n",
      "Class:  Buys  E(T,X):  -0.950977500432693\n",
      "1\n",
      "Class:  Buys  E(S):  0.44217935649972373\n",
      "Class:  Buys  E(S):  0.9709505944546686\n",
      "Class:  Buys  E(T,X):  1.9220559022889502e-16\n",
      "Class:  Buys  E(T,X):  3.203426503814917e-16\n",
      "3\n",
      "node with max info gain:  Marital Status\n",
      "distinct values found:  [0 1]\n",
      "subtable:     Age  Income  Gender  Marital Status  Buys\n",
      "0    2       1       0               0     0\n",
      "1    2       2       1               0     0\n",
      "clValue:  [0]\n",
      "counts:  [2]\n",
      "subtable:     Age  Income  Gender  Marital Status  Buys\n",
      "0    2       2       1               1     1\n",
      "1    2       1       0               1     1\n",
      "2    2       2       0               1     1\n",
      "clValue:  [1]\n",
      "counts:  [3]\n"
     ]
    },
    {
     "data": {
      "text/plain": [
       "{'Age': {0: 1,\n",
       "  1: {'Gender': {0: 1, 1: 0}},\n",
       "  2: {'Marital Status': {0: 0, 1: 1}}}}"
      ]
     },
     "execution_count": 12,
     "metadata": {},
     "output_type": "execute_result"
    }
   ],
   "source": [
    "dtree = buildTree(df)\n",
    "dtree"
   ]
  },
  {
   "cell_type": "code",
   "execution_count": 13,
   "metadata": {},
   "outputs": [],
   "source": [
    "def predict(inst,tree):    \n",
    "    #Recursively we going through the tree that built earlier\n",
    "    for nodes in tree.keys():        \n",
    "        value = inst[nodes]\n",
    "        tree = tree[nodes][value]\n",
    "        prediction = 0\n",
    "            \n",
    "        if type(tree) is dict:\n",
    "            prediction = predict(inst, tree)\n",
    "        else:\n",
    "            prediction = tree\n",
    "            break;                            \n",
    "        \n",
    "    return prediction"
   ]
  },
  {
   "cell_type": "code",
   "execution_count": 14,
   "metadata": {},
   "outputs": [],
   "source": [
    "tester = test.iloc[0]\n",
    "Prediction = predict(tester,dtree)"
   ]
  },
  {
   "cell_type": "code",
   "execution_count": 15,
   "metadata": {},
   "outputs": [
    {
     "data": {
      "text/plain": [
       "1"
      ]
     },
     "execution_count": 15,
     "metadata": {},
     "output_type": "execute_result"
    }
   ],
   "source": [
    "Prediction"
   ]
  },
  {
   "cell_type": "code",
   "execution_count": 16,
   "metadata": {},
   "outputs": [],
   "source": [
    "from sklearn.tree import DecisionTreeClassifier\n",
    "from sklearn.metrics import classification_report, confusion_matrix\n",
    "from sklearn.tree import plot_tree\n",
    "sklearn_dtree=DecisionTreeClassifier(criterion=\"entropy\")"
   ]
  },
  {
   "cell_type": "code",
   "execution_count": 17,
   "metadata": {},
   "outputs": [],
   "source": [
    "df1 = df.copy()\n",
    "df1.drop('Buys', axis=1, inplace=True)\n",
    "X=df1"
   ]
  },
  {
   "cell_type": "code",
   "execution_count": 18,
   "metadata": {},
   "outputs": [
    {
     "data": {
      "text/plain": [
       "array([1])"
      ]
     },
     "execution_count": 18,
     "metadata": {},
     "output_type": "execute_result"
    }
   ],
   "source": [
    "sklearn_dtree.fit(X, df['Buys'])\n",
    "sklearn_dtree.predict(test)"
   ]
  },
  {
   "cell_type": "code",
   "execution_count": 19,
   "metadata": {},
   "outputs": [
    {
     "data": {
      "image/png": "[encoded data removed]",
      "text/plain": [
       "<Figure size 864x864 with 1 Axes>"
      ]
     },
     "metadata": {
      "needs_background": "light"
     },
     "output_type": "display_data"
    }
   ],
   "source": [
    "import matplotlib.pyplot as plt\n",
    "plt.figure(figsize=(12,12))\n",
    "dec_tree = plot_tree(decision_tree=sklearn_dtree, feature_names = df.columns, class_names =[\"Yes\", \"No\"])\n",
    "plt.show()"
   ]
  },
  {
   "cell_type": "code",
   "execution_count": 20,
   "metadata": {},
   "outputs": [
    {
     "data": {
      "text/plain": [
       "{'Age': {0: 1,\n",
       "  1: {'Gender': {0: 1, 1: 0}},\n",
       "  2: {'Marital Status': {0: 0, 1: 1}}}}"
      ]
     },
     "execution_count": 20,
     "metadata": {},
     "output_type": "execute_result"
    }
   ],
   "source": [
    "dtree"
   ]
  },
  {
   "cell_type": "code",
   "execution_count": null,
   "metadata": {},
   "outputs": [],
   "source": []
  }
 ],
 "metadata": {
  "kernelspec": {
   "display_name": "Python 3 (ipykernel)",
   "language": "python",
   "name": "python3"
  },
  "language_info": {
   "codemirror_mode": {
    "name": "ipython",
    "version": 3
   },
   "file_extension": ".py",
   "mimetype": "text/x-python",
   "name": "python",
   "nbconvert_exporter": "python",
   "pygments_lexer": "ipython3",
   "version": "3.9.1"
  }
 },
 "nbformat": 4,
 "nbformat_minor": 4
}
