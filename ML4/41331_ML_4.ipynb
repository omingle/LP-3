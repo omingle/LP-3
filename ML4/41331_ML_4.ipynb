{
 "cells": [
  {
   "cell_type": "markdown",
   "metadata": {
    "id": "taoo6ykJymGq"
   },
   "source": [
    "# K-Means Clustering Implementation"
   ]
  },
  {
   "cell_type": "markdown",
   "metadata": {},
   "source": [
    "We have given a collection of 8 points. P1=[0.1,0.6] ,P2=[0.15,0.71], P3=[0.08,0.9] P4=[0.16, 0.85], P5=[0.2,0.3], P6=[0.25,0.5], P7=[0.24,0.1], P8=[0.3,0.2]. Perform the k-mean clustering with initial centroids as m1=P1 = Cluster#1=C1 and m2=P8=cluster#2=C2. Answer the following: <br/>\n",
    "1] Which cluster does P6 belong to?<br/>\n",
    "2] What is the population of cluster around m2?  <br/>\n",
    "3] What is updated value of m1 and m2?<br/>"
   ]
  },
  {
   "cell_type": "code",
   "execution_count": 4,
   "metadata": {},
   "outputs": [],
   "source": [
    "import matplotlib.pyplot as plt\n",
    "import numpy as np"
   ]
  },
  {
   "cell_type": "code",
   "execution_count": 5,
   "metadata": {},
   "outputs": [],
   "source": [
    "P1=[0.1,0.6]\n",
    "P2=[0.15,0.71]\n",
    "P3=[0.08,0.9] \n",
    "P4=[0.16, 0.85] \n",
    "P5=[0.2,0.3]\n",
    "P6=[0.25,0.5]\n",
    "P7=[0.24,0.1]\n",
    "P8=[0.3,0.2]\n",
    "K=2\n",
    "\n",
    "points=[P1,P2,P3,P4,P5,P6,P7,P8]"
   ]
  },
  {
   "cell_type": "markdown",
   "metadata": {},
   "source": [
    "### KMeans Clustering using sklearn"
   ]
  },
  {
   "cell_type": "code",
   "execution_count": 6,
   "metadata": {},
   "outputs": [
    {
     "data": {
      "image/png": "[encoded data removed]",
      "text/plain": [
       "<Figure size 432x288 with 1 Axes>"
      ]
     },
     "metadata": {
      "needs_background": "light"
     },
     "output_type": "display_data"
    }
   ],
   "source": [
    "from sklearn.cluster import KMeans\n",
    "\n",
    "# Configuration options\n",
    "num_samples_total = 8\n",
    "cluster_centers = [(0.1,0.6), (0.3, 0.2)]\n",
    "num_classes = len(cluster_centers)\n",
    "\n",
    "X = np.array(points)\n",
    "\n",
    "# Fit K-means with Scikit\n",
    "kmeans = KMeans(init='k-means++', n_clusters=num_classes)\n",
    "kmeans.fit(X)\n",
    "\n",
    "# Predict the cluster for all the samples\n",
    "P = kmeans.predict(X)\n",
    "\n",
    "# Generate scatter plot for training data\n",
    "colors = list(map(lambda x: 'blue' if x == 1 else 'red', P))\n",
    "plt.scatter(X[:,0], X[:,1], c=colors, marker=\"o\", picker=True)\n",
    "plt.title('Two clusters of data')\n",
    "plt.show()"
   ]
  },
  {
   "cell_type": "markdown",
   "metadata": {},
   "source": [
    "### Kmeans clustering implementation"
   ]
  },
  {
   "cell_type": "code",
   "execution_count": 7,
   "metadata": {
    "id": "geQrWj6ADwC6"
   },
   "outputs": [],
   "source": [
    "import math\n",
    "def dist(A,B):\n",
    "    xd=(A[0]-B[0])**2\n",
    "    yd=(A[1]-B[1])**2\n",
    "    d=math.sqrt(xd+yd)\n",
    "    return d"
   ]
  },
  {
   "cell_type": "code",
   "execution_count": 8,
   "metadata": {},
   "outputs": [],
   "source": [
    "def cluster(C1,C2):\n",
    "    cluster1=list()\n",
    "    cluster2=list()\n",
    "    c1=C1\n",
    "    c2=C2\n",
    "    for p in points:\n",
    "        d1=dist(p,C1)\n",
    "        d2=dist(p,C2)\n",
    "        if d1<d2:\n",
    "            cluster1.append(p)\n",
    "        else:\n",
    "            cluster2.append(p)\n",
    "    x1=0\n",
    "    y1=0\n",
    "\n",
    "    for i in cluster1:\n",
    "        x1=x1+i[0]\n",
    "        y1=y1+i[1]\n",
    "\n",
    "    x1=x1/len(cluster1)\n",
    "    y1=y1/len(cluster1)\n",
    "\n",
    "    centroid1=[x1,y1]\n",
    "\n",
    "    x2=0\n",
    "    y2=0\n",
    "\n",
    "    for i in cluster2:\n",
    "        x2=x2+i[0]\n",
    "        y2=y2+i[1]\n",
    "    \n",
    "    x2=x2/len(cluster2)\n",
    "    y2=y2/len(cluster2)\n",
    "\n",
    "    centroid2=[x2,y2]\n",
    "\n",
    "    C1=centroid1\n",
    "    C2=centroid2\n",
    "    \n",
    "    if centroid1[0]==c1[0] and centroid2[0]==c2[0] and centroid1[1]==c1[1] and centroid2[1]==c2[1]:\n",
    "        print(\"Clusters are:\")\n",
    "        print(cluster1)\n",
    "        print(cluster2)\n",
    "        \n",
    "        if [0.25,0.5] in cluster1:\n",
    "            print(\"P6 belongs to cluster 1\")\n",
    "        elif [0.25,0.5] in cluster2:\n",
    "            print(\"P6 belongs to cluster 2\")\n",
    "    \n",
    "        print(\"Population of cluster around m2:\",len(cluster2))\n",
    "        print(\"Updated value of centroids:\")\n",
    "        print(\"C1:\",C1)\n",
    "        print(\"C2:\",C2)\n",
    "        P=list()\n",
    "    \n",
    "        for i in points:\n",
    "            if i in cluster1:\n",
    "                P.append(0)\n",
    "            else:\n",
    "                P.append(1)\n",
    "\n",
    "        # Generate scatter plot for training data\n",
    "        X = np.array(points)\n",
    "        colors = list(map(lambda x: 'blue' if x == 1 else 'red', P))\n",
    "        plt.scatter(X[:,0], X[:,1], c=colors, marker=\"o\", picker=True)\n",
    "        plt.title('Two clusters of data')\n",
    "        plt.show()\n",
    "    else:\n",
    "        cluster(C1,C2)"
   ]
  },
  {
   "cell_type": "code",
   "execution_count": 9,
   "metadata": {
    "colab": {
     "base_uri": "https://localhost:8080/",
     "height": 733
    },
    "id": "2egyL6YH_-Ev",
    "outputId": "831d4bcf-b1ad-437d-9af2-d05a9bdbff77"
   },
   "outputs": [
    {
     "data": {
      "image/png": "[encoded data removed]",
      "text/plain": [
       "<Figure size 432x288 with 1 Axes>"
      ]
     },
     "metadata": {
      "needs_background": "light"
     },
     "output_type": "display_data"
    },
    {
     "name": "stdout",
     "output_type": "stream",
     "text": [
      "Points are:\n",
      " [[0.1, 0.6], [0.15, 0.71], [0.08, 0.9], [0.16, 0.85], [0.2, 0.3], [0.25, 0.5], [0.24, 0.1], [0.3, 0.2]]\n",
      "Clusters are:\n",
      "[[0.2, 0.3], [0.25, 0.5], [0.24, 0.1], [0.3, 0.2]]\n",
      "[[0.1, 0.6], [0.15, 0.71], [0.08, 0.9], [0.16, 0.85]]\n",
      "P6 belongs to cluster 1\n",
      "Population of cluster around m2: 4\n",
      "Updated value of centroids:\n",
      "C1: [0.2475, 0.275]\n",
      "C2: [0.1225, 0.765]\n"
     ]
    },
    {
     "data": {
      "image/png": "[encoded data removed]",
      "text/plain": [
       "<Figure size 432x288 with 1 Axes>"
      ]
     },
     "metadata": {
      "needs_background": "light"
     },
     "output_type": "display_data"
    }
   ],
   "source": [
    "plt.scatter(X[:,0], X[:,1], marker=\"o\", picker=True)\n",
    "plt.title('Data Points')\n",
    "plt.show()\n",
    "\n",
    "C1=P1\n",
    "C2=P2\n",
    "\n",
    "print(\"Points are:\\n\",points)\n",
    "cluster(C1,C2)"
   ]
  },
  {
   "cell_type": "code",
   "execution_count": null,
   "metadata": {},
   "outputs": [],
   "source": []
  }
 ],
 "metadata": {
  "colab": {
   "collapsed_sections": [],
   "name": "ML-4.ipynb",
   "provenance": []
  },
  "kernelspec": {
   "display_name": "Python 3 (ipykernel)",
   "language": "python",
   "name": "python3"
  },
  "language_info": {
   "codemirror_mode": {
    "name": "ipython",
    "version": 3
   },
   "file_extension": ".py",
   "mimetype": "text/x-python",
   "name": "python",
   "nbconvert_exporter": "python",
   "pygments_lexer": "ipython3",
   "version": "3.9.1"
  }
 },
 "nbformat": 4,
 "nbformat_minor": 1
}
