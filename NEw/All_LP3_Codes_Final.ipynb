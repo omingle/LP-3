{
 "cells": [
  {
   "cell_type": "markdown",
   "id": "464798f7",
   "metadata": {},
   "source": [
    "# ML Assignment 1"
   ]
  },
  {
   "cell_type": "code",
   "execution_count": 1,
   "id": "5f0eb753",
   "metadata": {},
   "outputs": [],
   "source": [
    "import numpy as np\n",
    "import pandas as pd\n",
    "import matplotlib.pyplot as plt"
   ]
  },
  {
   "cell_type": "code",
   "execution_count": 2,
   "id": "863e5393",
   "metadata": {},
   "outputs": [],
   "source": [
    "X_driving_hours = [10, 9, 2, 15, 10, 16, 11, 16]\n",
    "y_risk_score = [95, 80, 10, 50, 45, 98, 38, 93]"
   ]
  },
  {
   "cell_type": "code",
   "execution_count": 7,
   "id": "787ed3a4",
   "metadata": {},
   "outputs": [
    {
     "data": {
      "image/png": "[encoded data removed]",
      "text/plain": [
       "<Figure size 432x288 with 1 Axes>"
      ]
     },
     "metadata": {
      "needs_background": "light"
     },
     "output_type": "display_data"
    }
   ],
   "source": [
    "plt.plot(X_driving_hours, y_risk_score, \"o\")\n",
    "plt.xlabel(\"X_driving_hours\")\n",
    "plt.ylabel(\"y_risk_score\")\n",
    "plt.show()"
   ]
  },
  {
   "cell_type": "code",
   "execution_count": 13,
   "id": "ffcaf3d0",
   "metadata": {},
   "outputs": [],
   "source": [
    "def find_mean(values):\n",
    "    return sum(values)/float(len(values))\n",
    "\n",
    "def find_variance(values, mean):\n",
    "    return sum([(x-mean)**2 for x in values])\n",
    "\n",
    "def find_covariance(x, x_mean, y, y_mean):\n",
    "    covar = 0.0\n",
    "    \n",
    "    for i in range(len(x)):\n",
    "        covar += (x[i] - x_mean) * (y[i] - y_mean)\n",
    "        \n",
    "    return covar"
   ]
  },
  {
   "cell_type": "code",
   "execution_count": 14,
   "id": "ed1e5c26",
   "metadata": {},
   "outputs": [],
   "source": [
    "def find_coeficients(x, y):\n",
    "    mean_x = find_mean(x)\n",
    "    mean_y = find_mean(y)\n",
    "    \n",
    "    b1 = find_covariance(x, mean_x, y, mean_y)/find_variance(x, mean_x)\n",
    "    \n",
    "    b0 = mean_y - b1 * mean_x\n",
    "    \n",
    "    return [b0, b1]"
   ]
  },
  {
   "cell_type": "code",
   "execution_count": 16,
   "id": "e2041032",
   "metadata": {},
   "outputs": [
    {
     "name": "stdout",
     "output_type": "stream",
     "text": [
      "b0 =  12.584627964022893\n",
      "b1 =  4.58789860997547\n",
      "y = b0 + b1*x => y = 12.585 + 4.588 * x\n"
     ]
    }
   ],
   "source": [
    "b0, b1 = find_coeficients(X_driving_hours, y_risk_score)\n",
    "\n",
    "print(\"b0 = \", b0)\n",
    "print(\"b1 = \", b1)\n",
    "\n",
    "print(\"y = b0 + b1*x => y = %.3f + %.3f * x\" % (b0, b1))"
   ]
  },
  {
   "cell_type": "code",
   "execution_count": 20,
   "id": "578116f6",
   "metadata": {},
   "outputs": [],
   "source": [
    "def abline(intercept, slope):\n",
    "    axes = plt.gca()\n",
    "    xval = np.array(axes.get_xlim())\n",
    "    yval = intercept + slope * xval\n",
    "    \n",
    "    plt.plot(xval, yval, \"--\")\n",
    "    "
   ]
  },
  {
   "cell_type": "code",
   "execution_count": 21,
   "id": "dcd1f7ab",
   "metadata": {},
   "outputs": [
    {
     "data": {
      "image/png": "[encoded data removed]",
      "text/plain": [
       "<Figure size 432x288 with 1 Axes>"
      ]
     },
     "metadata": {
      "needs_background": "light"
     },
     "output_type": "display_data"
    }
   ],
   "source": [
    "plt.plot(X_driving_hours, y_risk_score, \"o\")\n",
    "abline(b0, b1)"
   ]
  },
  {
   "cell_type": "code",
   "execution_count": 22,
   "id": "0ea99724",
   "metadata": {},
   "outputs": [],
   "source": [
    "# predict\n",
    "\n",
    "def linear_regression(X_train, y_train, X_test):\n",
    "    \n",
    "    b0, b1 = find_coeficients(X_train, y_train)\n",
    "    \n",
    "    pred = []\n",
    "    \n",
    "    for row in X_test:\n",
    "        p = b0 + b1 * row\n",
    "        pred.append(p)\n",
    "        \n",
    "    return pred"
   ]
  },
  {
   "cell_type": "code",
   "execution_count": 24,
   "id": "31932337",
   "metadata": {},
   "outputs": [
    {
     "name": "stdout",
     "output_type": "stream",
     "text": [
      "Enter the number of predictions : 3\n",
      "3\n",
      "7\n",
      "14\n"
     ]
    },
    {
     "data": {
      "text/plain": [
       "[26.348323793949305, 44.699918233851186, 76.81520850367949]"
      ]
     },
     "execution_count": 24,
     "metadata": {},
     "output_type": "execute_result"
    }
   ],
   "source": [
    "n = int(input(\"Enter the number of predictions : \"))\n",
    "\n",
    "res = []\n",
    "\n",
    "for i in range(n):\n",
    "    e = int(input())\n",
    "    res.append(e)\n",
    "    \n",
    "prediction = linear_regression(X_driving_hours, y_risk_score, res)\n",
    "\n",
    "prediction"
   ]
  },
  {
   "cell_type": "code",
   "execution_count": 25,
   "id": "83149019",
   "metadata": {},
   "outputs": [],
   "source": [
    "import math\n",
    "\n",
    "def find_rmse(actual, pred):\n",
    "    \n",
    "    sum_err = 0\n",
    "    \n",
    "    for i in range(len(actual)):\n",
    "        pred_err = pred[i] - actual[i]\n",
    "        \n",
    "        sum_err += pred_err**2\n",
    "        \n",
    "    mean_err = sum_err/float(len(actual))\n",
    "    \n",
    "    return math.sqrt(mean_err)"
   ]
  },
  {
   "cell_type": "code",
   "execution_count": 27,
   "id": "f08549ad",
   "metadata": {},
   "outputs": [
    {
     "name": "stdout",
     "output_type": "stream",
     "text": [
      "RMSE :  29.547856861944695\n"
     ]
    }
   ],
   "source": [
    "from sklearn.model_selection import train_test_split\n",
    "\n",
    "X_train, X_test, y_train, y_test = train_test_split(X_driving_hours, y_risk_score, test_size = 1/3, random_state = 0)\n",
    "\n",
    "y_pred = linear_regression(X_train, y_train, X_test)\n",
    "\n",
    "print(\"RMSE : \", find_rmse(y_test, y_pred))"
   ]
  },
  {
   "cell_type": "code",
   "execution_count": 28,
   "id": "3ed9ac56",
   "metadata": {},
   "outputs": [],
   "source": [
    "from sklearn.linear_model import LinearRegression\n",
    "\n",
    "X = np.array(X_driving_hours).reshape(-1, 1)\n",
    "y = np.array(y_risk_score).reshape(-1, 1)\n",
    "\n",
    "lr = LinearRegression().fit(X, y)"
   ]
  },
  {
   "cell_type": "code",
   "execution_count": 29,
   "id": "45ef436c",
   "metadata": {},
   "outputs": [
    {
     "data": {
      "text/plain": [
       "array([12.58462796])"
      ]
     },
     "execution_count": 29,
     "metadata": {},
     "output_type": "execute_result"
    }
   ],
   "source": [
    "lr.intercept_"
   ]
  },
  {
   "cell_type": "code",
   "execution_count": 30,
   "id": "19da583a",
   "metadata": {},
   "outputs": [
    {
     "data": {
      "text/plain": [
       "array([[4.58789861]])"
      ]
     },
     "execution_count": 30,
     "metadata": {},
     "output_type": "execute_result"
    }
   ],
   "source": [
    "lr.coef_"
   ]
  },
  {
   "cell_type": "code",
   "execution_count": 31,
   "id": "4c84fe96",
   "metadata": {},
   "outputs": [
    {
     "data": {
      "image/png": "[encoded data removed]",
      "text/plain": [
       "<Figure size 432x288 with 1 Axes>"
      ]
     },
     "metadata": {
      "needs_background": "light"
     },
     "output_type": "display_data"
    }
   ],
   "source": [
    "plt.plot(X_train, y_train, \"bo\")\n",
    "plt.plot(X_test, y_test, \"ro\")\n",
    "plt.plot(X_test, y_pred, \"y\")\n",
    "abline(b0, b1)\n",
    "plt.show()"
   ]
  },
  {
   "cell_type": "code",
   "execution_count": null,
   "id": "9a1ada43",
   "metadata": {},
   "outputs": [],
   "source": []
  },
  {
   "cell_type": "markdown",
   "id": "3e9c6e8e",
   "metadata": {},
   "source": [
    "# ML Assignment 2"
   ]
  },
  {
   "cell_type": "code",
   "execution_count": 33,
   "id": "db1deb7c",
   "metadata": {},
   "outputs": [],
   "source": [
    "import numpy as np\n",
    "import pandas as pd\n",
    "from numpy import log2 as log"
   ]
  },
  {
   "cell_type": "code",
   "execution_count": 65,
   "id": "73fecd59",
   "metadata": {},
   "outputs": [],
   "source": [
    "dataset = [\n",
    "    ['<21', 'High', 'Male', 'Single' ,'No'],\n",
    "    ['<21', 'High', 'Male', 'Married' ,'No'],\n",
    "    ['21-35', 'High', 'Male', 'Single' ,'Yes'],\n",
    "    ['>35', 'Medium', 'Male', 'Single', 'Yes'],\n",
    "    ['>35', 'Low', 'Female', 'Single' ,'Yes'],\n",
    "    ['>35', 'Low', 'Female', 'Married' ,'No'],\n",
    "    ['21-35', 'Low', 'Female', 'Married' ,'Yes'],\n",
    "    ['<21', 'Medium', 'Male', 'Single' ,'No'],\n",
    "    ['<21', 'Low', 'Female', 'Married' ,'Yes'],\n",
    "    ['>35', 'Medium', 'Female', 'Single' ,'Yes'],\n",
    "    ['<21', 'Medium', 'Female', 'Married' ,'Yes'],\n",
    "    ['21-35', 'Medium', 'Male', 'Married' ,'Yes'],\n",
    "    ['21-35', 'High', 'Female', 'Single' ,'Yes'],\n",
    "    ['>35', 'Medium', 'Male', 'Married' ,'No'],\n",
    "]"
   ]
  },
  {
   "cell_type": "code",
   "execution_count": 66,
   "id": "fc90f4a8",
   "metadata": {},
   "outputs": [
    {
     "data": {
      "text/html": [
       "<div>\n",
       "<style scoped>\n",
       "    .dataframe tbody tr th:only-of-type {\n",
       "        vertical-align: middle;\n",
       "    }\n",
       "\n",
       "    .dataframe tbody tr th {\n",
       "        vertical-align: top;\n",
       "    }\n",
       "\n",
       "    .dataframe thead th {\n",
       "        text-align: right;\n",
       "    }\n",
       "</style>\n",
       "<table border=\"1\" class=\"dataframe\">\n",
       "  <thead>\n",
       "    <tr style=\"text-align: right;\">\n",
       "      <th></th>\n",
       "      <th>Age</th>\n",
       "      <th>Income</th>\n",
       "      <th>Gender</th>\n",
       "      <th>Marital Status</th>\n",
       "      <th>Buys</th>\n",
       "    </tr>\n",
       "  </thead>\n",
       "  <tbody>\n",
       "    <tr>\n",
       "      <th>0</th>\n",
       "      <td>&lt;21</td>\n",
       "      <td>High</td>\n",
       "      <td>Male</td>\n",
       "      <td>Single</td>\n",
       "      <td>No</td>\n",
       "    </tr>\n",
       "    <tr>\n",
       "      <th>1</th>\n",
       "      <td>&lt;21</td>\n",
       "      <td>High</td>\n",
       "      <td>Male</td>\n",
       "      <td>Married</td>\n",
       "      <td>No</td>\n",
       "    </tr>\n",
       "    <tr>\n",
       "      <th>2</th>\n",
       "      <td>21-35</td>\n",
       "      <td>High</td>\n",
       "      <td>Male</td>\n",
       "      <td>Single</td>\n",
       "      <td>Yes</td>\n",
       "    </tr>\n",
       "    <tr>\n",
       "      <th>3</th>\n",
       "      <td>&gt;35</td>\n",
       "      <td>Medium</td>\n",
       "      <td>Male</td>\n",
       "      <td>Single</td>\n",
       "      <td>Yes</td>\n",
       "    </tr>\n",
       "    <tr>\n",
       "      <th>4</th>\n",
       "      <td>&gt;35</td>\n",
       "      <td>Low</td>\n",
       "      <td>Female</td>\n",
       "      <td>Single</td>\n",
       "      <td>Yes</td>\n",
       "    </tr>\n",
       "    <tr>\n",
       "      <th>5</th>\n",
       "      <td>&gt;35</td>\n",
       "      <td>Low</td>\n",
       "      <td>Female</td>\n",
       "      <td>Married</td>\n",
       "      <td>No</td>\n",
       "    </tr>\n",
       "    <tr>\n",
       "      <th>6</th>\n",
       "      <td>21-35</td>\n",
       "      <td>Low</td>\n",
       "      <td>Female</td>\n",
       "      <td>Married</td>\n",
       "      <td>Yes</td>\n",
       "    </tr>\n",
       "    <tr>\n",
       "      <th>7</th>\n",
       "      <td>&lt;21</td>\n",
       "      <td>Medium</td>\n",
       "      <td>Male</td>\n",
       "      <td>Single</td>\n",
       "      <td>No</td>\n",
       "    </tr>\n",
       "    <tr>\n",
       "      <th>8</th>\n",
       "      <td>&lt;21</td>\n",
       "      <td>Low</td>\n",
       "      <td>Female</td>\n",
       "      <td>Married</td>\n",
       "      <td>Yes</td>\n",
       "    </tr>\n",
       "    <tr>\n",
       "      <th>9</th>\n",
       "      <td>&gt;35</td>\n",
       "      <td>Medium</td>\n",
       "      <td>Female</td>\n",
       "      <td>Single</td>\n",
       "      <td>Yes</td>\n",
       "    </tr>\n",
       "    <tr>\n",
       "      <th>10</th>\n",
       "      <td>&lt;21</td>\n",
       "      <td>Medium</td>\n",
       "      <td>Female</td>\n",
       "      <td>Married</td>\n",
       "      <td>Yes</td>\n",
       "    </tr>\n",
       "    <tr>\n",
       "      <th>11</th>\n",
       "      <td>21-35</td>\n",
       "      <td>Medium</td>\n",
       "      <td>Male</td>\n",
       "      <td>Married</td>\n",
       "      <td>Yes</td>\n",
       "    </tr>\n",
       "    <tr>\n",
       "      <th>12</th>\n",
       "      <td>21-35</td>\n",
       "      <td>High</td>\n",
       "      <td>Female</td>\n",
       "      <td>Single</td>\n",
       "      <td>Yes</td>\n",
       "    </tr>\n",
       "    <tr>\n",
       "      <th>13</th>\n",
       "      <td>&gt;35</td>\n",
       "      <td>Medium</td>\n",
       "      <td>Male</td>\n",
       "      <td>Married</td>\n",
       "      <td>No</td>\n",
       "    </tr>\n",
       "  </tbody>\n",
       "</table>\n",
       "</div>"
      ],
      "text/plain": [
       "      Age  Income  Gender Marital Status Buys\n",
       "0     <21    High    Male         Single   No\n",
       "1     <21    High    Male        Married   No\n",
       "2   21-35    High    Male         Single  Yes\n",
       "3     >35  Medium    Male         Single  Yes\n",
       "4     >35     Low  Female         Single  Yes\n",
       "5     >35     Low  Female        Married   No\n",
       "6   21-35     Low  Female        Married  Yes\n",
       "7     <21  Medium    Male         Single   No\n",
       "8     <21     Low  Female        Married  Yes\n",
       "9     >35  Medium  Female         Single  Yes\n",
       "10    <21  Medium  Female        Married  Yes\n",
       "11  21-35  Medium    Male        Married  Yes\n",
       "12  21-35    High  Female         Single  Yes\n",
       "13    >35  Medium    Male        Married   No"
      ]
     },
     "execution_count": 66,
     "metadata": {},
     "output_type": "execute_result"
    }
   ],
   "source": [
    "columns = [\"Age\", \"Income\", \"Gender\", \"Marital Status\", \"Buys\"]\n",
    "\n",
    "df = pd.DataFrame(dataset, columns=columns)\n",
    "\n",
    "df"
   ]
  },
  {
   "cell_type": "code",
   "execution_count": 67,
   "id": "b4d66bfe",
   "metadata": {},
   "outputs": [],
   "source": [
    "from sklearn.preprocessing import LabelEncoder\n",
    "\n",
    "le = LabelEncoder()\n",
    "\n",
    "for i in range(0, 5):\n",
    "    df[columns[i]] = le.fit_transform(df[columns[i]])"
   ]
  },
  {
   "cell_type": "code",
   "execution_count": 68,
   "id": "57443016",
   "metadata": {},
   "outputs": [
    {
     "data": {
      "text/html": [
       "<div>\n",
       "<style scoped>\n",
       "    .dataframe tbody tr th:only-of-type {\n",
       "        vertical-align: middle;\n",
       "    }\n",
       "\n",
       "    .dataframe tbody tr th {\n",
       "        vertical-align: top;\n",
       "    }\n",
       "\n",
       "    .dataframe thead th {\n",
       "        text-align: right;\n",
       "    }\n",
       "</style>\n",
       "<table border=\"1\" class=\"dataframe\">\n",
       "  <thead>\n",
       "    <tr style=\"text-align: right;\">\n",
       "      <th></th>\n",
       "      <th>Age</th>\n",
       "      <th>Income</th>\n",
       "      <th>Gender</th>\n",
       "      <th>Marital Status</th>\n",
       "      <th>Buys</th>\n",
       "    </tr>\n",
       "  </thead>\n",
       "  <tbody>\n",
       "    <tr>\n",
       "      <th>0</th>\n",
       "      <td>1</td>\n",
       "      <td>0</td>\n",
       "      <td>1</td>\n",
       "      <td>1</td>\n",
       "      <td>0</td>\n",
       "    </tr>\n",
       "    <tr>\n",
       "      <th>1</th>\n",
       "      <td>1</td>\n",
       "      <td>0</td>\n",
       "      <td>1</td>\n",
       "      <td>0</td>\n",
       "      <td>0</td>\n",
       "    </tr>\n",
       "    <tr>\n",
       "      <th>2</th>\n",
       "      <td>0</td>\n",
       "      <td>0</td>\n",
       "      <td>1</td>\n",
       "      <td>1</td>\n",
       "      <td>1</td>\n",
       "    </tr>\n",
       "    <tr>\n",
       "      <th>3</th>\n",
       "      <td>2</td>\n",
       "      <td>2</td>\n",
       "      <td>1</td>\n",
       "      <td>1</td>\n",
       "      <td>1</td>\n",
       "    </tr>\n",
       "    <tr>\n",
       "      <th>4</th>\n",
       "      <td>2</td>\n",
       "      <td>1</td>\n",
       "      <td>0</td>\n",
       "      <td>1</td>\n",
       "      <td>1</td>\n",
       "    </tr>\n",
       "    <tr>\n",
       "      <th>5</th>\n",
       "      <td>2</td>\n",
       "      <td>1</td>\n",
       "      <td>0</td>\n",
       "      <td>0</td>\n",
       "      <td>0</td>\n",
       "    </tr>\n",
       "    <tr>\n",
       "      <th>6</th>\n",
       "      <td>0</td>\n",
       "      <td>1</td>\n",
       "      <td>0</td>\n",
       "      <td>0</td>\n",
       "      <td>1</td>\n",
       "    </tr>\n",
       "    <tr>\n",
       "      <th>7</th>\n",
       "      <td>1</td>\n",
       "      <td>2</td>\n",
       "      <td>1</td>\n",
       "      <td>1</td>\n",
       "      <td>0</td>\n",
       "    </tr>\n",
       "    <tr>\n",
       "      <th>8</th>\n",
       "      <td>1</td>\n",
       "      <td>1</td>\n",
       "      <td>0</td>\n",
       "      <td>0</td>\n",
       "      <td>1</td>\n",
       "    </tr>\n",
       "    <tr>\n",
       "      <th>9</th>\n",
       "      <td>2</td>\n",
       "      <td>2</td>\n",
       "      <td>0</td>\n",
       "      <td>1</td>\n",
       "      <td>1</td>\n",
       "    </tr>\n",
       "    <tr>\n",
       "      <th>10</th>\n",
       "      <td>1</td>\n",
       "      <td>2</td>\n",
       "      <td>0</td>\n",
       "      <td>0</td>\n",
       "      <td>1</td>\n",
       "    </tr>\n",
       "    <tr>\n",
       "      <th>11</th>\n",
       "      <td>0</td>\n",
       "      <td>2</td>\n",
       "      <td>1</td>\n",
       "      <td>0</td>\n",
       "      <td>1</td>\n",
       "    </tr>\n",
       "    <tr>\n",
       "      <th>12</th>\n",
       "      <td>0</td>\n",
       "      <td>0</td>\n",
       "      <td>0</td>\n",
       "      <td>1</td>\n",
       "      <td>1</td>\n",
       "    </tr>\n",
       "    <tr>\n",
       "      <th>13</th>\n",
       "      <td>2</td>\n",
       "      <td>2</td>\n",
       "      <td>1</td>\n",
       "      <td>0</td>\n",
       "      <td>0</td>\n",
       "    </tr>\n",
       "  </tbody>\n",
       "</table>\n",
       "</div>"
      ],
      "text/plain": [
       "    Age  Income  Gender  Marital Status  Buys\n",
       "0     1       0       1               1     0\n",
       "1     1       0       1               0     0\n",
       "2     0       0       1               1     1\n",
       "3     2       2       1               1     1\n",
       "4     2       1       0               1     1\n",
       "5     2       1       0               0     0\n",
       "6     0       1       0               0     1\n",
       "7     1       2       1               1     0\n",
       "8     1       1       0               0     1\n",
       "9     2       2       0               1     1\n",
       "10    1       2       0               0     1\n",
       "11    0       2       1               0     1\n",
       "12    0       0       0               1     1\n",
       "13    2       2       1               0     0"
      ]
     },
     "execution_count": 68,
     "metadata": {},
     "output_type": "execute_result"
    }
   ],
   "source": [
    "df"
   ]
  },
  {
   "cell_type": "code",
   "execution_count": 77,
   "id": "54137b68",
   "metadata": {},
   "outputs": [
    {
     "name": "stdout",
     "output_type": "stream",
     "text": [
      "2.220446049250313e-16\n"
     ]
    }
   ],
   "source": [
    "eps = np.finfo(float).eps\n",
    "\n",
    "print(eps)"
   ]
  },
  {
   "cell_type": "code",
   "execution_count": 70,
   "id": "805cddf7",
   "metadata": {},
   "outputs": [],
   "source": [
    "def find_entropy(df):\n",
    "    Class = df.keys()[-1]\n",
    "    \n",
    "    values = df[Class].unique()\n",
    "    \n",
    "    entropy = 0\n",
    "    \n",
    "    for value in values:\n",
    "        fraction = df[Class].value_counts()[value]/len(df[Class])\n",
    "        entropy += -fraction*np.log2(fraction)\n",
    "        \n",
    "        print(\"Class : \", Class, \", E(S) : \", entropy)\n",
    "        \n",
    "    return entropy"
   ]
  },
  {
   "cell_type": "code",
   "execution_count": 71,
   "id": "ff8625eb",
   "metadata": {},
   "outputs": [],
   "source": [
    "def find_entropy_attribute(df, attribute):\n",
    "    Class = df.keys()[-1]\n",
    "    \n",
    "    variables = df[attribute].unique()\n",
    "    \n",
    "    target_variables = df[Class].unique()\n",
    "    \n",
    "    entropy2 = 0\n",
    "    \n",
    "    for variable in variables:\n",
    "        entropy1 = 0\n",
    "        \n",
    "        for target_variable in target_variables:\n",
    "            num = len(df[attribute][df[attribute]==variable][df[Class]==target_variable])\n",
    "            den = len(df[attribute][df[attribute]==variable])\n",
    "            \n",
    "            fraction1 = num/(den+eps)\n",
    "            entropy1 += -fraction1*log(fraction1+eps)\n",
    "\n",
    "        \n",
    "        fraction2 = den/len(df)\n",
    "        entropy2 += -fraction2*entropy1\n",
    "        \n",
    "        print(\"Class : \", Class, \", E(T, X) : \", entropy2)\n",
    "\n",
    "    return abs(entropy2)"
   ]
  },
  {
   "cell_type": "code",
   "execution_count": 72,
   "id": "2569f2dd",
   "metadata": {},
   "outputs": [],
   "source": [
    "def find_winner(df):\n",
    "    \n",
    "    IG = []\n",
    "    \n",
    "    for key in df.keys()[:-1]:\n",
    "        IG.append(find_entropy(df) - find_entropy_attribute(df, key))\n",
    "        print(\"Index of Attribute with max gain : \", np.argmax(IG))\n",
    "        \n",
    "    return df.keys()[:-1][np.argmax(IG)]"
   ]
  },
  {
   "cell_type": "code",
   "execution_count": 73,
   "id": "ba398c19",
   "metadata": {},
   "outputs": [],
   "source": [
    "def find_subtable(df, node, value):\n",
    "    return df[df[node]==value].reset_index(drop=True)"
   ]
  },
  {
   "cell_type": "code",
   "execution_count": 78,
   "id": "9dd54db9",
   "metadata": {},
   "outputs": [],
   "source": [
    "def build_tree(df, tree=None):\n",
    "    \n",
    "    node = find_winner(df)\n",
    "    \n",
    "    print(\"Node with max gain : \", node)\n",
    "    \n",
    "    attrVal = np.unique(df[node])\n",
    "    \n",
    "    print(\"Distinct values of \", node, \" : \", attrVal)\n",
    "    \n",
    "    if tree is None:\n",
    "        tree = {}\n",
    "        tree[node] ={}\n",
    "        \n",
    "    for value in attrVal:\n",
    "        subtable = find_subtable(df, node, value)\n",
    "        \n",
    "        print(\"Subtable : \\n\", subtable)\n",
    "        \n",
    "        uval, counts = np.unique(subtable['Buys'], return_counts=True)\n",
    "        \n",
    "        print(uval, counts)\n",
    "        \n",
    "        if len(counts)==1:\n",
    "            tree[node][value] = uval[0]\n",
    "        else:\n",
    "            tree[node][value] = build_tree(subtable)\n",
    "            \n",
    "    return tree"
   ]
  },
  {
   "cell_type": "code",
   "execution_count": 90,
   "id": "149fab9a",
   "metadata": {},
   "outputs": [],
   "source": [
    "def predict(instr, tree):\n",
    "    \n",
    "    for node in tree.keys():\n",
    "        \n",
    "        value = instr[node]\n",
    "        \n",
    "        preds = 0\n",
    "        \n",
    "        tree = tree[node][value]\n",
    "        \n",
    "        if type(tree) is dict:\n",
    "            preds = predict(instr, tree)\n",
    "        else:\n",
    "            preds = tree\n",
    "            break\n",
    "            \n",
    "    return preds"
   ]
  },
  {
   "cell_type": "code",
   "execution_count": 91,
   "id": "48b36994",
   "metadata": {
    "scrolled": false
   },
   "outputs": [
    {
     "name": "stdout",
     "output_type": "stream",
     "text": [
      "Class :  Buys , E(S) :  0.5305095811322292\n",
      "Class :  Buys , E(S) :  0.9402859586706311\n",
      "Class :  Buys , E(T, X) :  -0.34676806944809574\n",
      "Class :  Buys , E(T, X) :  -0.34676806944809563\n",
      "Class :  Buys , E(T, X) :  -0.6935361388961914\n",
      "Index of Attribute with max gain :  0\n",
      "Class :  Buys , E(S) :  0.5305095811322292\n",
      "Class :  Buys , E(S) :  0.9402859586706311\n",
      "Class :  Buys , E(T, X) :  -0.28571428571428553\n",
      "Class :  Buys , E(T, X) :  -0.6792696431662093\n",
      "Class :  Buys , E(T, X) :  -0.9110633930116756\n",
      "Index of Attribute with max gain :  0\n",
      "Class :  Buys , E(S) :  0.5305095811322292\n",
      "Class :  Buys , E(S) :  0.9402859586706311\n",
      "Class :  Buys , E(T, X) :  -0.49261406801712543\n",
      "Class :  Buys , E(T, X) :  -0.7884504573082889\n",
      "Index of Attribute with max gain :  0\n",
      "Class :  Buys , E(S) :  0.5305095811322292\n",
      "Class :  Buys , E(S) :  0.9402859586706311\n",
      "Class :  Buys , E(T, X) :  -0.43156028428331517\n",
      "Class :  Buys , E(T, X) :  -0.9241743523004406\n",
      "Index of Attribute with max gain :  0\n",
      "Node with max gain :  Age\n",
      "Distinct values of  Age  :  [0 1 2]\n",
      "Subtable : \n",
      "    Age  Income  Gender  Marital Status  Buys\n",
      "0    0       0       1               1     1\n",
      "1    0       1       0               0     1\n",
      "2    0       2       1               0     1\n",
      "3    0       0       0               1     1\n",
      "[1] [4]\n",
      "Subtable : \n",
      "    Age  Income  Gender  Marital Status  Buys\n",
      "0    1       0       1               1     0\n",
      "1    1       0       1               0     0\n",
      "2    1       2       1               1     0\n",
      "3    1       1       0               0     1\n",
      "4    1       2       0               0     1\n",
      "[0 1] [3 2]\n",
      "Class :  Buys , E(S) :  0.44217935649972373\n",
      "Class :  Buys , E(S) :  0.9709505944546686\n",
      "Class :  Buys , E(T, X) :  -0.970950594454668\n",
      "Index of Attribute with max gain :  0\n",
      "Class :  Buys , E(S) :  0.44217935649972373\n",
      "Class :  Buys , E(S) :  0.9709505944546686\n",
      "Class :  Buys , E(T, X) :  1.281370601525967e-16\n",
      "Class :  Buys , E(T, X) :  -0.39999999999999963\n",
      "Class :  Buys , E(T, X) :  -0.39999999999999963\n",
      "Index of Attribute with max gain :  1\n",
      "Class :  Buys , E(S) :  0.44217935649972373\n",
      "Class :  Buys , E(S) :  0.9709505944546686\n",
      "Class :  Buys , E(T, X) :  1.9220559022889502e-16\n",
      "Class :  Buys , E(T, X) :  3.203426503814917e-16\n",
      "Index of Attribute with max gain :  2\n",
      "Class :  Buys , E(S) :  0.44217935649972373\n",
      "Class :  Buys , E(S) :  0.9709505944546686\n",
      "Class :  Buys , E(T, X) :  1.281370601525967e-16\n",
      "Class :  Buys , E(T, X) :  -0.5509775004326932\n",
      "Index of Attribute with max gain :  2\n",
      "Node with max gain :  Gender\n",
      "Distinct values of  Gender  :  [0 1]\n",
      "Subtable : \n",
      "    Age  Income  Gender  Marital Status  Buys\n",
      "0    1       1       0               0     1\n",
      "1    1       2       0               0     1\n",
      "[1] [2]\n",
      "Subtable : \n",
      "    Age  Income  Gender  Marital Status  Buys\n",
      "0    1       0       1               1     0\n",
      "1    1       0       1               0     0\n",
      "2    1       2       1               1     0\n",
      "[0] [3]\n",
      "Subtable : \n",
      "    Age  Income  Gender  Marital Status  Buys\n",
      "0    2       2       1               1     1\n",
      "1    2       1       0               1     1\n",
      "2    2       1       0               0     0\n",
      "3    2       2       0               1     1\n",
      "4    2       2       1               0     0\n",
      "[0 1] [2 3]\n",
      "Class :  Buys , E(S) :  0.44217935649972373\n",
      "Class :  Buys , E(S) :  0.9709505944546686\n",
      "Class :  Buys , E(T, X) :  -0.970950594454668\n",
      "Index of Attribute with max gain :  0\n",
      "Class :  Buys , E(S) :  0.44217935649972373\n",
      "Class :  Buys , E(S) :  0.9709505944546686\n",
      "Class :  Buys , E(T, X) :  -0.5509775004326933\n",
      "Class :  Buys , E(T, X) :  -0.950977500432693\n",
      "Index of Attribute with max gain :  1\n",
      "Class :  Buys , E(S) :  0.44217935649972373\n",
      "Class :  Buys , E(S) :  0.9709505944546686\n",
      "Class :  Buys , E(T, X) :  -0.39999999999999974\n",
      "Class :  Buys , E(T, X) :  -0.950977500432693\n",
      "Index of Attribute with max gain :  1\n",
      "Class :  Buys , E(S) :  0.44217935649972373\n",
      "Class :  Buys , E(S) :  0.9709505944546686\n",
      "Class :  Buys , E(T, X) :  1.9220559022889502e-16\n",
      "Class :  Buys , E(T, X) :  3.203426503814917e-16\n",
      "Index of Attribute with max gain :  3\n",
      "Node with max gain :  Marital Status\n",
      "Distinct values of  Marital Status  :  [0 1]\n",
      "Subtable : \n",
      "    Age  Income  Gender  Marital Status  Buys\n",
      "0    2       1       0               0     0\n",
      "1    2       2       1               0     0\n",
      "[0] [2]\n",
      "Subtable : \n",
      "    Age  Income  Gender  Marital Status  Buys\n",
      "0    2       2       1               1     1\n",
      "1    2       1       0               1     1\n",
      "2    2       2       0               1     1\n",
      "[1] [3]\n"
     ]
    },
    {
     "data": {
      "text/plain": [
       "{'Age': {0: 1,\n",
       "  1: {'Gender': {0: 1, 1: 0}},\n",
       "  2: {'Marital Status': {0: 0, 1: 1}}}}"
      ]
     },
     "execution_count": 91,
     "metadata": {},
     "output_type": "execute_result"
    }
   ],
   "source": [
    "dtree = build_tree(df)\n",
    "\n",
    "dtree"
   ]
  },
  {
   "cell_type": "code",
   "execution_count": 92,
   "id": "97b30d9c",
   "metadata": {},
   "outputs": [
    {
     "data": {
      "text/html": [
       "<div>\n",
       "<style scoped>\n",
       "    .dataframe tbody tr th:only-of-type {\n",
       "        vertical-align: middle;\n",
       "    }\n",
       "\n",
       "    .dataframe tbody tr th {\n",
       "        vertical-align: top;\n",
       "    }\n",
       "\n",
       "    .dataframe thead th {\n",
       "        text-align: right;\n",
       "    }\n",
       "</style>\n",
       "<table border=\"1\" class=\"dataframe\">\n",
       "  <thead>\n",
       "    <tr style=\"text-align: right;\">\n",
       "      <th></th>\n",
       "      <th>Age</th>\n",
       "      <th>Income</th>\n",
       "      <th>Gender</th>\n",
       "      <th>Marital Status</th>\n",
       "    </tr>\n",
       "  </thead>\n",
       "  <tbody>\n",
       "    <tr>\n",
       "      <th>0</th>\n",
       "      <td>1</td>\n",
       "      <td>1</td>\n",
       "      <td>0</td>\n",
       "      <td>0</td>\n",
       "    </tr>\n",
       "  </tbody>\n",
       "</table>\n",
       "</div>"
      ],
      "text/plain": [
       "   Age  Income  Gender  Marital Status\n",
       "0    1       1       0               0"
      ]
     },
     "execution_count": 92,
     "metadata": {},
     "output_type": "execute_result"
    }
   ],
   "source": [
    "test = pd.DataFrame([[1, 1, 0 , 0]], columns=['Age', 'Income', 'Gender', 'Marital Status'])\n",
    "\n",
    "test"
   ]
  },
  {
   "cell_type": "code",
   "execution_count": 94,
   "id": "0a6f7047",
   "metadata": {},
   "outputs": [
    {
     "data": {
      "text/plain": [
       "1"
      ]
     },
     "execution_count": 94,
     "metadata": {},
     "output_type": "execute_result"
    }
   ],
   "source": [
    "p = predict(test.iloc[0], dtree)\n",
    "\n",
    "p"
   ]
  },
  {
   "cell_type": "code",
   "execution_count": 95,
   "id": "0f04263a",
   "metadata": {},
   "outputs": [
    {
     "data": {
      "text/plain": [
       "array([1])"
      ]
     },
     "execution_count": 95,
     "metadata": {},
     "output_type": "execute_result"
    }
   ],
   "source": [
    "from sklearn.tree import DecisionTreeClassifier\n",
    "from sklearn.tree import plot_tree\n",
    "\n",
    "\n",
    "skdt = DecisionTreeClassifier(criterion=\"entropy\")\n",
    "df1 = df.copy()\n",
    "df1.drop('Buys', inplace =True, axis=1)\n",
    "X = df1\n",
    "skdt.fit(X, df['Buys'])\n",
    "\n",
    "p1 =skdt.predict(test)\n",
    "\n",
    "p1"
   ]
  },
  {
   "cell_type": "code",
   "execution_count": 97,
   "id": "70d62ee3",
   "metadata": {},
   "outputs": [
    {
     "data": {
      "image/png": "[encoded data removed]",
      "text/plain": [
       "<Figure size 864x864 with 1 Axes>"
      ]
     },
     "metadata": {
      "needs_background": "light"
     },
     "output_type": "display_data"
    }
   ],
   "source": [
    "import matplotlib.pyplot as plt\n",
    "\n",
    "plt.figure(figsize=(12, 12))\n",
    "dec_tree = plot_tree(decision_tree=skdt, feature_names=df.columns, class_names=[\"Yes\", \"No\"])\n",
    "plt.show()"
   ]
  },
  {
   "cell_type": "code",
   "execution_count": 98,
   "id": "2e539ee5",
   "metadata": {},
   "outputs": [
    {
     "data": {
      "text/plain": [
       "{'Age': {0: 1,\n",
       "  1: {'Gender': {0: 1, 1: 0}},\n",
       "  2: {'Marital Status': {0: 0, 1: 1}}}}"
      ]
     },
     "execution_count": 98,
     "metadata": {},
     "output_type": "execute_result"
    }
   ],
   "source": [
    "dtree"
   ]
  },
  {
   "cell_type": "code",
   "execution_count": null,
   "id": "616f0cae",
   "metadata": {},
   "outputs": [],
   "source": []
  },
  {
   "cell_type": "markdown",
   "id": "fd927045",
   "metadata": {},
   "source": [
    "# ML Assignment 3"
   ]
  },
  {
   "cell_type": "code",
   "execution_count": 113,
   "id": "bb173859",
   "metadata": {},
   "outputs": [],
   "source": [
    "import numpy as np\n",
    "import pandas as pd\n",
    "import math"
   ]
  },
  {
   "cell_type": "code",
   "execution_count": 127,
   "id": "0badc6c7",
   "metadata": {},
   "outputs": [],
   "source": [
    "class KNN:\n",
    "    def __init__(self, k):\n",
    "        self.k = k\n",
    "        self.X = []\n",
    "        self.y = []\n",
    "        \n",
    "    def fit(self, X, y):\n",
    "        self.X = self.X + X\n",
    "        self.y = self.y + y\n",
    "        \n",
    "    def distance(self, x, y):\n",
    "        return math.sqrt(((x[0]-y[0])**2) + ((x[1]-y[1])**2))\n",
    "    \n",
    "    def get_class(self, x):\n",
    "        \n",
    "        distances = []\n",
    "        \n",
    "        for i in range(len(self.X)):\n",
    "            distances.append((self.distance(x, self.X[i]), self.y[i]))\n",
    "            \n",
    "        distances.sort()\n",
    "        \n",
    "        distances = distances[:self.k]\n",
    "        \n",
    "        count = {}\n",
    "        \n",
    "        for d in distances:\n",
    "            try: count[d[1]] += 1\n",
    "            except: count[d[1]] = 1\n",
    "                \n",
    "        return max(count, key=lambda i : count[i])\n",
    "    \n",
    "    def predict(self, X):\n",
    "        \n",
    "        pred = []\n",
    "        \n",
    "        for x in X:\n",
    "            pred.append(self.get_class(x))\n",
    "            \n",
    "        return pred\n",
    "    \n",
    "    \n",
    "    def get_class_weighted(self, x):\n",
    "        \n",
    "        distances = []\n",
    "        \n",
    "        for i in range(len(self.X)):\n",
    "            distances.append((self.distance(x, self.X[i]), self.y[i]))\n",
    "            \n",
    "        distances.sort()\n",
    "        \n",
    "        distances = distances[:self.k]\n",
    "        \n",
    "        count = {}\n",
    "        \n",
    "        for d in distances:\n",
    "            try: count[d[1]] += 1/d[0]\n",
    "            except: count[d[1]] = 0\n",
    "                \n",
    "        return max(count, key=lambda i : count[i])\n",
    "    \n",
    "    def predict_weighted(self, X):\n",
    "        \n",
    "        pred = []\n",
    "        \n",
    "        for x in X:\n",
    "            pred.append(self.get_class_weighted(x))\n",
    "            \n",
    "        return pred\n",
    "    \n",
    "    \n",
    "    def get_class_locally_average(self, x):\n",
    "        \n",
    "        distances = []\n",
    "        \n",
    "        for i in range(len(self.X)):\n",
    "            distances.append((self.distance(x, self.X[i]), self.y[i]))\n",
    "            \n",
    "        distances.sort()\n",
    "        \n",
    "        distances = distances[:self.k]\n",
    "        \n",
    "        count = {}\n",
    "        \n",
    "        for d in distances:\n",
    "            try: count[d[1]].append(1/d[0])\n",
    "            except: count[d[1]] = 0\n",
    "                \n",
    "        for c in count:\n",
    "            count[d[1]] = np.mean(count[d[1]])\n",
    "                \n",
    "        return max(count, key=lambda i : count[i])\n",
    "    \n",
    "    def predict_locally_average(self, X):\n",
    "        \n",
    "        pred = []\n",
    "        \n",
    "        for x in X:\n",
    "            pred.append(self.get_class_locally_average(x))\n",
    "            \n",
    "        return pred"
   ]
  },
  {
   "cell_type": "code",
   "execution_count": 128,
   "id": "47901283",
   "metadata": {},
   "outputs": [],
   "source": [
    "X = [(2, 4), (4, 2), (4, 4), (4, 6), (6, 2), (6, 4)]\n",
    "y = ['Y', 'Y', 'B', 'Y', 'B', 'Y']"
   ]
  },
  {
   "cell_type": "code",
   "execution_count": 129,
   "id": "36ef7895",
   "metadata": {},
   "outputs": [],
   "source": [
    "knn = KNN(3)\n",
    "\n",
    "knn.fit(X, y)"
   ]
  },
  {
   "cell_type": "code",
   "execution_count": 136,
   "id": "0b09a358",
   "metadata": {},
   "outputs": [
    {
     "name": "stdout",
     "output_type": "stream",
     "text": [
      "Std KNN (6, 6) :  ['Y']\n",
      "Weighted KNN (6, 6) :  ['Y']\n",
      "Locally average KNN (6, 6) :  ['Y']\n"
     ]
    }
   ],
   "source": [
    "print(\"Std KNN (6, 6) : \", knn.predict([(6, 6)]))\n",
    "print(\"Weighted KNN (6, 6) : \", knn.predict_weighted([(6, 6)]))\n",
    "print(\"Locally average KNN (6, 6) : \", knn.predict_locally_average([(6, 6)]))"
   ]
  },
  {
   "cell_type": "code",
   "execution_count": null,
   "id": "71990d53",
   "metadata": {},
   "outputs": [],
   "source": []
  },
  {
   "cell_type": "code",
   "execution_count": 148,
   "id": "9e7f051e",
   "metadata": {},
   "outputs": [
    {
     "name": "stdout",
     "output_type": "stream",
     "text": [
      "['Y']\n"
     ]
    }
   ],
   "source": [
    "from sklearn.neighbors import KNeighborsClassifier\n",
    "\n",
    "knn1 = KNeighborsClassifier(n_neighbors=3)\n",
    "\n",
    "knn1.fit(X, y)\n",
    "\n",
    "p1 = knn1.predict([(6, 6)])\n",
    "\n",
    "print(p1)"
   ]
  },
  {
   "cell_type": "code",
   "execution_count": 149,
   "id": "7166d511",
   "metadata": {},
   "outputs": [
    {
     "name": "stdout",
     "output_type": "stream",
     "text": [
      "['Y']\n"
     ]
    }
   ],
   "source": [
    "from sklearn.neighbors import KNeighborsClassifier\n",
    "\n",
    "knn2 = KNeighborsClassifier(n_neighbors=3, weights='distance')\n",
    "\n",
    "knn2.fit(X, y)\n",
    "\n",
    "p2 = knn2.predict([(6, 6)])\n",
    "\n",
    "print(p2)"
   ]
  },
  {
   "cell_type": "code",
   "execution_count": null,
   "id": "ee83b358",
   "metadata": {},
   "outputs": [],
   "source": []
  },
  {
   "cell_type": "markdown",
   "id": "db2ecf34",
   "metadata": {},
   "source": [
    "# ML Assignment 4"
   ]
  },
  {
   "cell_type": "code",
   "execution_count": 1,
   "id": "78324e08",
   "metadata": {},
   "outputs": [],
   "source": [
    "import numpy as np\n",
    "import pandas as pd\n",
    "import matplotlib.pyplot as plt"
   ]
  },
  {
   "cell_type": "code",
   "execution_count": 2,
   "id": "73e141c0",
   "metadata": {},
   "outputs": [],
   "source": [
    "P1 = [0.1, 0.6]\n",
    "P2 = [0.15, 0.71]\n",
    "P3 = [0.08, 0.9]\n",
    "P4 = [0.16, 0.85]\n",
    "P5 = [0.2, 0.3]\n",
    "P6 = [0.25, 0.5]\n",
    "P7 = [0.24, 0.1]\n",
    "P8 = [0.3, 0.2]\n",
    "\n",
    "points = [P1, P2, P3, P4, P5, P6, P7, P8]"
   ]
  },
  {
   "cell_type": "code",
   "execution_count": 3,
   "id": "31455a55",
   "metadata": {},
   "outputs": [],
   "source": [
    "import math\n",
    "def dist(A, B):\n",
    "    S = 0\n",
    "    \n",
    "    for i in range(len(A)):\n",
    "        S += ((A[i] - B[i]) ** 2)\n",
    "        \n",
    "    return math.sqrt(S)\n"
   ]
  },
  {
   "cell_type": "code",
   "execution_count": 4,
   "id": "725bc083",
   "metadata": {},
   "outputs": [],
   "source": [
    "def cluster(C1, C2):\n",
    "    c1 = C1\n",
    "    c2 = C2\n",
    "    \n",
    "    cluster1 = list()\n",
    "    cluster2 = list()\n",
    "    \n",
    "    for p in points:\n",
    "        d1 = dist(p, C1)\n",
    "        d2 = dist(p, C2)\n",
    "        \n",
    "        if d1<d2:\n",
    "            cluster1.append(p)\n",
    "        else:\n",
    "            cluster2.append(p)\n",
    "            \n",
    "    \n",
    "    x1 = 0\n",
    "    y1 = 0\n",
    "    \n",
    "    for i in cluster1:\n",
    "        x1 = x1 + i[0]\n",
    "        y1 = y1 + i[1]\n",
    "        \n",
    "    x1 = x1/len(cluster1)\n",
    "    y1 = y1/len(cluster1)\n",
    "    \n",
    "    centroid1 = [x1, y1]\n",
    "    \n",
    "    \n",
    "    x2 = 0\n",
    "    y2 = 0\n",
    "    \n",
    "    for i in cluster2:\n",
    "        x2 = x2 + i[0]\n",
    "        y2 = y2 + i[1]\n",
    "        \n",
    "    x2 = x2/len(cluster2)\n",
    "    y2 = y2/len(cluster2)\n",
    "    \n",
    "    centroid2 = [x2, y2]\n",
    "    \n",
    "    \n",
    "    C1 = centroid1\n",
    "    C2 = centroid2\n",
    "    \n",
    "    if centroid1[0]==c1[0] and centroid1[1]==c1[1] and centroid2[0]==c2[0] and centroid2[1]==c2[1]:\n",
    "        \n",
    "        print(\"Clusters are : \")\n",
    "        print(\"C1 : \", cluster1)\n",
    "        print(\"C2 : \", cluster2)\n",
    "        \n",
    "        if P6 in cluster1:\n",
    "            print(\"Point P6 belongs to Cluster 1\")\n",
    "        else:\n",
    "            print(\"Point P6 belongs to Cluster 2\")\n",
    "            \n",
    "        print(\"Population of Cluster around m2 : \", len(cluster2))\n",
    "        \n",
    "        print(\"Updated Values : \")\n",
    "        print(\"M1/C1 : \", C1)\n",
    "        print(\"M2/C2 : \", C2)\n",
    "        \n",
    "        P = list()\n",
    "        \n",
    "        for p in points:\n",
    "            if p in cluster1:\n",
    "                P.append(0)\n",
    "            else:\n",
    "                P.append(1)\n",
    "                \n",
    "        C = [C1, C2]\n",
    "        C_arr = np.array(C)\n",
    "        \n",
    "        X = np.array(points)\n",
    "        \n",
    "        colors = list(map(lambda x: 'blue' if x==1 else 'red', P))\n",
    "        plt.scatter(X[:,0], X[:,1], c=colors, marker=\"o\")\n",
    "        plt.scatter(C_arr[:,0], C_arr[:,1], c='g', marker=\"x\")\n",
    "        plt.show()\n",
    "        \n",
    "    else:\n",
    "        cluster(C1, C2)"
   ]
  },
  {
   "cell_type": "code",
   "execution_count": 5,
   "id": "eef44a5b",
   "metadata": {},
   "outputs": [
    {
     "name": "stdout",
     "output_type": "stream",
     "text": [
      "Initial Data Points and their clusters : \n",
      " [[0.1, 0.6], [0.15, 0.71], [0.08, 0.9], [0.16, 0.85], [0.2, 0.3], [0.25, 0.5], [0.24, 0.1], [0.3, 0.2]]\n"
     ]
    },
    {
     "data": {
      "image/png": "[encoded data removed]",
      "text/plain": [
       "<Figure size 432x288 with 1 Axes>"
      ]
     },
     "metadata": {
      "needs_background": "light"
     },
     "output_type": "display_data"
    },
    {
     "name": "stdout",
     "output_type": "stream",
     "text": [
      "Clusters are : \n",
      "C1 :  [[0.1, 0.6], [0.15, 0.71], [0.08, 0.9], [0.16, 0.85], [0.25, 0.5]]\n",
      "C2 :  [[0.2, 0.3], [0.24, 0.1], [0.3, 0.2]]\n",
      "Point P6 belongs to Cluster 1\n",
      "Population of Cluster around m2 :  3\n",
      "Updated Values : \n",
      "M1/C1 :  [0.148, 0.712]\n",
      "M2/C2 :  [0.24666666666666667, 0.20000000000000004]\n"
     ]
    },
    {
     "data": {
      "image/png": "[encoded data removed]",
      "text/plain": [
       "<Figure size 432x288 with 1 Axes>"
      ]
     },
     "metadata": {
      "needs_background": "light"
     },
     "output_type": "display_data"
    }
   ],
   "source": [
    "C1 = P1\n",
    "C2 = P8\n",
    "\n",
    "print(\"Initial Data Points and their clusters : \\n\", points)\n",
    "\n",
    "X = np.array(points)\n",
    "C = [C1, C2]\n",
    "C_arr = np.array(C)\n",
    "    \n",
    "plt.scatter(X[:,0], X[:,1], marker=\"o\")\n",
    "plt.scatter(C_arr[:,0], C_arr[:,1], c='r', marker=\"x\")\n",
    "plt.show()\n",
    "\n",
    "cluster(C1, C2)"
   ]
  },
  {
   "cell_type": "code",
   "execution_count": null,
   "id": "508ca5e2",
   "metadata": {},
   "outputs": [],
   "source": []
  },
  {
   "cell_type": "code",
   "execution_count": 8,
   "id": "cfd06bb3",
   "metadata": {},
   "outputs": [
    {
     "name": "stdout",
     "output_type": "stream",
     "text": [
      "[[0.2475 0.275 ]\n",
      " [0.1225 0.765 ]]\n",
      "[1 1 1 1 0 0 0 0]\n"
     ]
    },
    {
     "data": {
      "image/png": "[encoded data removed]",
      "text/plain": [
       "<Figure size 432x288 with 1 Axes>"
      ]
     },
     "metadata": {
      "needs_background": "light"
     },
     "output_type": "display_data"
    }
   ],
   "source": [
    "from sklearn.cluster import KMeans\n",
    "\n",
    "X = np.array(points)\n",
    "ic = [P1, P8]\n",
    "\n",
    "km = KMeans(init=np.array(ic), n_clusters=2)\n",
    "# km = KMeans(init=\"k-means++\", n_clusters=2)\n",
    "\n",
    "km.fit(X)\n",
    "\n",
    "pred = km.predict(X)\n",
    "\n",
    "print(km.cluster_centers_)\n",
    "print(km.labels_)\n",
    "\n",
    "colors = list(map(lambda x: 'blue' if x==1 else 'red', pred))\n",
    "plt.scatter(X[:,0], X[:,1], c=colors, marker=\"o\")\n",
    "# plt.scatter(C_arr[:,0], C_arr[:,1], c='g', marker=\"x\")\n",
    "plt.show()"
   ]
  },
  {
   "cell_type": "code",
   "execution_count": null,
   "id": "f009c5e1",
   "metadata": {},
   "outputs": [],
   "source": []
  },
  {
   "cell_type": "code",
   "execution_count": null,
   "id": "56884f4b",
   "metadata": {},
   "outputs": [],
   "source": []
  },
  {
   "cell_type": "markdown",
   "id": "e01a08eb",
   "metadata": {},
   "source": [
    "# ICS Assignment 1"
   ]
  },
  {
   "cell_type": "code",
   "execution_count": 73,
   "id": "ef0af92e",
   "metadata": {},
   "outputs": [],
   "source": [
    "#permutations for keys\n",
    "p10_seq = (3, 5, 2, 7, 4, 10, 1, 9, 8, 6)\n",
    "p8_seq = (6, 3, 7, 4, 8, 5, 10, 9)\n",
    "\n",
    "#permutations for text\n",
    "ip_seq = (2, 6, 3, 1, 4, 8, 5, 7)\n",
    "inv_ip_seq = (4, 1, 3, 5, 7, 2, 8, 6)\n",
    "\n",
    "#permutation to expand 4 bit to 8 bit\n",
    "ep_seq = (4, 1, 2, 3, 2, 3, 4, 1)\n",
    "\n",
    "#permutation for 4 bits\n",
    "p4_seq = (2, 4, 3, 1)\n",
    "\n",
    "#s boxes\n",
    "s0_seq = [\n",
    "            [\"01\", \"00\", \"11\", \"10\"],\n",
    "            [\"11\", \"10\", \"01\", \"00\"],\n",
    "            [\"00\", \"10\", \"01\", \"11\"],\n",
    "            [\"11\", \"01\", \"11\", \"10\"]\n",
    "         ]\n",
    "\n",
    "s1_seq = [\n",
    "            [\"00\", \"01\", \"10\", \"11\"],\n",
    "            [\"10\", \"00\", \"01\", \"11\"],\n",
    "            [\"11\", \"00\", \"01\", \"00\"],\n",
    "            [\"10\", \"01\", \"00\", \"11\"]\n",
    "         ]"
   ]
  },
  {
   "cell_type": "code",
   "execution_count": 74,
   "id": "9b9d25ad",
   "metadata": {},
   "outputs": [],
   "source": [
    "def left_shif(s, bits):\n",
    "    s = s[bits:] + s[:bits]\n",
    "    \n",
    "    return s"
   ]
  },
  {
   "cell_type": "code",
   "execution_count": 75,
   "id": "410a35d5",
   "metadata": {},
   "outputs": [],
   "source": [
    "def permute_and_generate(ip, seq):\n",
    "    \n",
    "    s = \"\"\n",
    "    \n",
    "    for val in seq:\n",
    "        s += ip[val-1]\n",
    "        \n",
    "    return s"
   ]
  },
  {
   "cell_type": "code",
   "execution_count": 76,
   "id": "21d14eaf",
   "metadata": {},
   "outputs": [],
   "source": [
    "def generate_keys(key):\n",
    "    \n",
    "    p10 = permute_and_generate(key, p10_seq)\n",
    "    \n",
    "    left_p10 = p10[0:5]\n",
    "    right_p10 = p10[5:10]\n",
    "    \n",
    "    ls_left1 = left_shif(left_p10, 1)\n",
    "    ls_right1 = left_shif(right_p10, 1)\n",
    "    \n",
    "    k1 = permute_and_generate(ls_left1 + ls_right1, p8_seq)\n",
    "    \n",
    "    print(\"k1 : \", k1)\n",
    "    \n",
    "    ls_left2 = left_shif(ls_left1, 2)\n",
    "    ls_right2 = left_shif(ls_right1, 2)\n",
    "    \n",
    "    k2 = permute_and_generate(ls_left2 + ls_right2, p8_seq)\n",
    "    \n",
    "    print(\"k2 : \", k2)\n",
    "    \n",
    "    \n",
    "    return k1, k2"
   ]
  },
  {
   "cell_type": "code",
   "execution_count": 77,
   "id": "13397690",
   "metadata": {},
   "outputs": [],
   "source": [
    "def find_xor(s1, s2):\n",
    "    xor = \"\"\n",
    "    \n",
    "    for i in range(len(s1)):\n",
    "        if s1[i]==s2[i]:\n",
    "            xor+=\"0\"\n",
    "        else:\n",
    "            xor+=\"1\"\n",
    "            \n",
    "    return xor"
   ]
  },
  {
   "cell_type": "code",
   "execution_count": 78,
   "id": "710161ec",
   "metadata": {},
   "outputs": [],
   "source": [
    "def find_s0_s1(xor_half, lookup_table):\n",
    "    r = (int(xor_half[0]) * 2) + int(xor_half[3])\n",
    "    c = (int(xor_half[1]) * 2) + int(xor_half[2])\n",
    "    \n",
    "    return lookup_table[r][c]"
   ]
  },
  {
   "cell_type": "code",
   "execution_count": 79,
   "id": "290a685c",
   "metadata": {},
   "outputs": [],
   "source": [
    "def round_encrypt(ip, key):\n",
    "    \n",
    "    ep_per = permute_and_generate(ip, ep_seq)\n",
    "    print(\"EP(IP) : \", ep_per)\n",
    "\n",
    "    ep_per_xor = find_xor(ep_per, key)\n",
    "    \n",
    "    print(\"EP(IP) XOR key : \", ep_per_xor)\n",
    "\n",
    "    ep_left = ep_per_xor[:4]\n",
    "    ep_right = ep_per_xor[4:]\n",
    "    \n",
    "    s0 = find_s0_s1(ep_left, s0_seq)\n",
    "    s1 = find_s0_s1(ep_right, s1_seq)\n",
    "    \n",
    "    print(\"s0 : \", s0)\n",
    "    print(\"s1 : \", s1)\n",
    "    \n",
    "    p4 = permute_and_generate(s0 + s1, p4_seq)\n",
    "    \n",
    "    return p4"
   ]
  },
  {
   "cell_type": "code",
   "execution_count": 80,
   "id": "c9985349",
   "metadata": {},
   "outputs": [],
   "source": [
    "def encrypt_decrypt(ip, k1, k2):\n",
    "    \n",
    "    ip_per = permute_and_generate(ip, ip_seq)\n",
    "    \n",
    "    print(\"IP(IP) : \", ip_per)\n",
    "\n",
    "    \n",
    "    ip_left = ip_per[:4]\n",
    "    ip_right = ip_per[4:]\n",
    "    \n",
    "#     round 1\n",
    "    r1_output = round_encrypt(ip_right, k1)\n",
    "    print(\"round1(R, k1) : \", r1_output)\n",
    "\n",
    "    r1_output = find_xor(r1_output, ip_left)\n",
    "    print(\"L XOR round1(r1_output, k1) : \", r1_output)\n",
    "\n",
    "    \n",
    "#     round 2\n",
    "    r2_output = round_encrypt(r1_output, k2)\n",
    "    print(\"round2(r1_output, k2) : \", r2_output)\n",
    "\n",
    "    r2_output = find_xor(r2_output, ip_right)\n",
    "    print(\"R XOR round2(r2_output, k2) : \", r2_output)\n",
    "\n",
    "    \n",
    "    ip_inv = permute_and_generate(r2_output + r1_output, inv_ip_seq)\n",
    "    \n",
    "    return ip_inv"
   ]
  },
  {
   "cell_type": "code",
   "execution_count": 81,
   "id": "b52fbe0a",
   "metadata": {},
   "outputs": [
    {
     "name": "stdout",
     "output_type": "stream",
     "text": [
      "k1 :  11101001\n",
      "k2 :  10100111\n"
     ]
    }
   ],
   "source": [
    "k1, k2 = generate_keys(\"1100011110\")"
   ]
  },
  {
   "cell_type": "code",
   "execution_count": 82,
   "id": "769a2617",
   "metadata": {},
   "outputs": [
    {
     "name": "stdout",
     "output_type": "stream",
     "text": [
      "IP(IP) :  00100010\n",
      "EP(IP) :  00010100\n",
      "EP(IP) XOR key :  11111101\n",
      "s0 :  10\n",
      "s1 :  00\n",
      "round1(R, k1) :  0001\n",
      "L XOR round1(r1_output, k1) :  0011\n",
      "EP(IP) :  10010110\n",
      "EP(IP) XOR key :  00110001\n",
      "s0 :  10\n",
      "s1 :  10\n",
      "round2(r1_output, k2) :  0011\n",
      "R XOR round2(r2_output, k2) :  0001\n",
      "pt :  00101000\n",
      "ct :  10001010\n",
      "IP(IP) :  00010011\n",
      "EP(IP) :  10010110\n",
      "EP(IP) XOR key :  00110001\n",
      "s0 :  10\n",
      "s1 :  10\n",
      "round1(R, k1) :  0011\n",
      "L XOR round1(r1_output, k1) :  0010\n",
      "EP(IP) :  00010100\n",
      "EP(IP) XOR key :  11111101\n",
      "s0 :  10\n",
      "s1 :  00\n",
      "round2(r1_output, k2) :  0001\n",
      "R XOR round2(r2_output, k2) :  0010\n",
      "dt :  00101000\n"
     ]
    }
   ],
   "source": [
    "plaintext = \"00101000\"\n",
    "\n",
    "ct = encrypt_decrypt(plaintext, k1, k2)\n",
    "\n",
    "print(\"pt : \", plaintext)\n",
    "print(\"ct : \", ct)\n",
    "\n",
    "dt = encrypt_decrypt(ct, k2, k1)\n",
    "\n",
    "print(\"dt : \", dt)"
   ]
  },
  {
   "cell_type": "code",
   "execution_count": null,
   "id": "fea60f8b",
   "metadata": {},
   "outputs": [],
   "source": []
  },
  {
   "cell_type": "markdown",
   "id": "ee591a5f",
   "metadata": {},
   "source": [
    "# ICS Assignment 2 (ECC)"
   ]
  },
  {
   "cell_type": "code",
   "execution_count": 105,
   "id": "ad4b750b",
   "metadata": {},
   "outputs": [],
   "source": [
    "P = 101"
   ]
  },
  {
   "cell_type": "code",
   "execution_count": 106,
   "id": "63320733",
   "metadata": {},
   "outputs": [],
   "source": [
    "def mod_mul(a, b, m = P):\n",
    "    return ((a%m) * (b%m)) % m\n",
    "\n",
    "def mod_pow(a, b, m = P):\n",
    "    if b==0:\n",
    "        return 1\n",
    "    \n",
    "    r = mod_pow(a, b//2, m)\n",
    "    \n",
    "    r = (r*r)%m\n",
    "    \n",
    "    if b%2:\n",
    "        r = (r*a)%m\n",
    "        \n",
    "    return r\n",
    "\n",
    "def mod_div(a, b, m = P):\n",
    "    return mod_mul(a, mod_pow(b, m-2, m), m)"
   ]
  },
  {
   "cell_type": "code",
   "execution_count": 107,
   "id": "a4219a4b",
   "metadata": {},
   "outputs": [],
   "source": [
    "class Point:\n",
    "    def __init__(self, x, y):\n",
    "        self.x = x\n",
    "        self.y = y\n",
    "        \n",
    "    def __eq__(self, p2):\n",
    "        return self.x==p2.x and self.y==p2.y\n",
    "    \n",
    "    def __str__(self) -> str:\n",
    "        return f\"({self.x}, {self.y})\"\n",
    "    "
   ]
  },
  {
   "cell_type": "code",
   "execution_count": 108,
   "id": "36b37572",
   "metadata": {},
   "outputs": [],
   "source": [
    "class EllipticCurve:\n",
    "    def __init__(self, a, b):\n",
    "        self.a = a\n",
    "        self.b = b\n",
    "        \n",
    "    def add(self, p1, p2, m = P):\n",
    "        l = 0\n",
    "        \n",
    "        if p1 == p2:\n",
    "            num = 3 * p1.x * p1.x + self.a\n",
    "            den = 2 * p1.y\n",
    "        else:\n",
    "            num = p2.y - p1.y\n",
    "            den = p2.x - p1.x\n",
    "            \n",
    "        l = mod_div(num, den, m)\n",
    "        \n",
    "        x3 = ((l*l) - p1.x - p2.x) % m\n",
    "        y3 = (l*(p1.x - x3) - p1.y) % m\n",
    "        \n",
    "        return Point(x3, y3)\n",
    "    \n",
    "    def mul(self, k, p):\n",
    "        temp = p\n",
    "        \n",
    "        while k!=1:\n",
    "            temp = self.add(temp, p)\n",
    "            k -= 1\n",
    "            \n",
    "        return temp\n",
    "    \n",
    "    def sub(self, p1, p2):\n",
    "        np = Point(p2.x , -p2.y)\n",
    "        return self.add(p1, np)"
   ]
  },
  {
   "cell_type": "code",
   "execution_count": 109,
   "id": "1e1e8743",
   "metadata": {},
   "outputs": [],
   "source": [
    "curve = EllipticCurve(2, 4)\n",
    "G = Point(0, 2)"
   ]
  },
  {
   "cell_type": "code",
   "execution_count": 110,
   "id": "d92305d6",
   "metadata": {},
   "outputs": [],
   "source": [
    "def encrypt(p, U):\n",
    "    k = 5\n",
    "    \n",
    "    c = [\n",
    "        curve.mul(k, G),\n",
    "        curve.add(p, curve.mul(k, U))\n",
    "    ]\n",
    "    \n",
    "    return c"
   ]
  },
  {
   "cell_type": "code",
   "execution_count": 111,
   "id": "6de002cd",
   "metadata": {},
   "outputs": [],
   "source": [
    "def decrypt(C, R):\n",
    "    p = curve.sub(C[1], curve.mul(R, C[0]))\n",
    "    \n",
    "    return p"
   ]
  },
  {
   "cell_type": "code",
   "execution_count": 112,
   "id": "83be5d3f",
   "metadata": {},
   "outputs": [
    {
     "name": "stdout",
     "output_type": "stream",
     "text": [
      "Private Key:  5\n",
      "Public Key :  (52, 15)\n"
     ]
    }
   ],
   "source": [
    "R = 5\n",
    "U = curve.mul(R, G)\n",
    "\n",
    "print(\"Private Key: \", R)\n",
    "print(\"Public Key : \", U)"
   ]
  },
  {
   "cell_type": "code",
   "execution_count": 113,
   "id": "610f9811",
   "metadata": {},
   "outputs": [
    {
     "name": "stdout",
     "output_type": "stream",
     "text": [
      "PT:  (3, 4)\n",
      "CT :  (52, 15) (9, 34)\n"
     ]
    }
   ],
   "source": [
    "pt = Point(3, 4)\n",
    "\n",
    "print(\"PT: \", pt)\n",
    "\n",
    "ct = encrypt(pt, U)\n",
    "\n",
    "print(\"CT : \", ct[0], ct[1])"
   ]
  },
  {
   "cell_type": "code",
   "execution_count": 114,
   "id": "2e7bf47c",
   "metadata": {},
   "outputs": [
    {
     "name": "stdout",
     "output_type": "stream",
     "text": [
      "DT :  (3, 4)\n"
     ]
    }
   ],
   "source": [
    "dt = decrypt(ct, R)\n",
    "print(\"DT : \", dt)"
   ]
  },
  {
   "cell_type": "code",
   "execution_count": 115,
   "id": "cccad3ed",
   "metadata": {},
   "outputs": [],
   "source": [
    "assert(pt == dt)"
   ]
  },
  {
   "cell_type": "code",
   "execution_count": 116,
   "id": "fd953847",
   "metadata": {},
   "outputs": [
    {
     "name": "stdout",
     "output_type": "stream",
     "text": [
      "PT and DT are same\n"
     ]
    }
   ],
   "source": [
    "if(pt==dt):\n",
    "    print(\"PT and DT are same\")"
   ]
  },
  {
   "cell_type": "code",
   "execution_count": null,
   "id": "6921c480",
   "metadata": {},
   "outputs": [],
   "source": []
  },
  {
   "cell_type": "markdown",
   "id": "b231ef95",
   "metadata": {},
   "source": [
    "# ICS Assignment 3"
   ]
  },
  {
   "cell_type": "code",
   "execution_count": 78,
   "id": "ba2bd0f8",
   "metadata": {},
   "outputs": [],
   "source": [
    "from math import gcd\n",
    "\n",
    "\n",
    "def isPrime(n):\n",
    "    if n==0 or n==1:\n",
    "        return False\n",
    "    \n",
    "    r = int(n/2)\n",
    "    \n",
    "    for i in range(2, r):\n",
    "        if(n%i == 0):\n",
    "            return False\n",
    "        \n",
    "    return True\n",
    "\n",
    "\n",
    "def get_primitive_root(n):\n",
    "    flag = False\n",
    "    \n",
    "    for r in range(1, n):\n",
    "        \n",
    "        values = {}\n",
    "        \n",
    "        for x in range(0, n-1):\n",
    "            val = pow(r, x, n)\n",
    "            \n",
    "            if val in values.keys():\n",
    "                break\n",
    "                \n",
    "            values[val] = True\n",
    "            \n",
    "            if x==n-2:\n",
    "                flag = True\n",
    "\n",
    "        if flag==True:\n",
    "            return r\n",
    "        \n",
    "    return None\n",
    "\n",
    "\n",
    "def DHKE():\n",
    "    \n",
    "    n = int(input(\"Enter n : \"))\n",
    "    \n",
    "    if(isPrime(n)):\n",
    "        g = get_primitive_root(n)\n",
    "\n",
    "#         g = int(input(\"Enter g : \"))\n",
    "        \n",
    "        print(\"g is : \", g)\n",
    "        \n",
    "        a = int(input(\"Enter A's secret number (a) : \"))\n",
    "        b = int(input(\"Enter B's secret number (b) : \"))\n",
    "        \n",
    "        \n",
    "        A = pow(g, a)%n\n",
    "        B = pow(g, b)%n\n",
    "        \n",
    "        print(\"A's public key : \", A)\n",
    "        print(\"B's public key : \", B)\n",
    "        \n",
    "        print(\"Calculating the shared key\")\n",
    "        \n",
    "        k1 = pow(B, a)%n\n",
    "        \n",
    "        k2 = pow(A, b)%n\n",
    "        \n",
    "        print(\"Shared Key of A : \", k1)\n",
    "        \n",
    "        print(\"Shared Key of B : \", k2)\n",
    "                \n",
    "        \n",
    "    else:\n",
    "        print(\"Please enter prime number\")"
   ]
  },
  {
   "cell_type": "code",
   "execution_count": 79,
   "id": "43dcad86",
   "metadata": {},
   "outputs": [
    {
     "name": "stdout",
     "output_type": "stream",
     "text": [
      "Enter n : 23\n",
      "g is :  5\n",
      "Enter A's secret number (a) : 2\n",
      "Enter B's secret number (b) : 3\n",
      "A's public key :  2\n",
      "B's public key :  10\n",
      "Calculating the shared key\n",
      "Shared Key of A :  8\n",
      "Shared Key of B :  8\n"
     ]
    }
   ],
   "source": [
    "DHKE()"
   ]
  },
  {
   "cell_type": "code",
   "execution_count": null,
   "id": "bea3172d",
   "metadata": {},
   "outputs": [],
   "source": []
  },
  {
   "cell_type": "markdown",
   "id": "789d104b",
   "metadata": {},
   "source": [
    "# ICS Assignment 4"
   ]
  },
  {
   "cell_type": "code",
   "execution_count": 7,
   "id": "f917a932",
   "metadata": {},
   "outputs": [],
   "source": [
    "def isPrime(n):\n",
    "    if n==0 or n==1:\n",
    "        return False\n",
    "    \n",
    "    r = int(n/2)\n",
    "    \n",
    "    for i in range(2, r):\n",
    "        if(n%i)==0:\n",
    "            return False\n",
    "        \n",
    "    return True\n",
    "\n",
    "def generate_primes():\n",
    "    primes = [i for i in range(1, 999) if isPrime(i)]\n",
    "    \n",
    "    return random.choices(primes, key=2)"
   ]
  },
  {
   "cell_type": "code",
   "execution_count": 24,
   "id": "e5d7d680",
   "metadata": {},
   "outputs": [],
   "source": [
    "class RSA:\n",
    "    def __init__(self, p, q):\n",
    "        self.p = p\n",
    "        self.q = q\n",
    "        self.N = p * q\n",
    "        self.product = (p-1) * (q-1)\n",
    "        self.generateKeys()\n",
    "        \n",
    "    def generateKeys(self):\n",
    "        \n",
    "        for i in range (1, 999999):\n",
    "            if(self.product % i != 0):\n",
    "                self.E = i\n",
    "                break\n",
    "                \n",
    "        for i in range(1, self.product-1):\n",
    "            if((i*self.E) % self.product == 1):\n",
    "                self.D = i\n",
    "                break\n",
    "                \n",
    "        print(\"Encryption Key (N, E) : (\", self.N, \", \", self.E, \")\")\n",
    "        print(\"Decryption Key (N, D) : (\", self.N, \", \", self.D, \")\")\n",
    "        \n",
    "    def encrypt(self, plain):\n",
    "        pt = []\n",
    "        ct = []\n",
    "\n",
    "        for i in plain:\n",
    "            pt.append(ord(i))\n",
    "\n",
    "        for i in pt:\n",
    "            ct.append((i**self.E)%self.N)\n",
    "\n",
    "        return ct\n",
    "\n",
    "    def decrypt(self, cipher):\n",
    "\n",
    "        dt = []\n",
    "\n",
    "        for i in cipher:\n",
    "            dt.append(chr((i**self.D)%self.N))\n",
    "\n",
    "        return ''.join(dt)\n",
    "\n",
    "\n",
    "    def encrypt2(self, plain):\n",
    "        ct = (int(plain)**self.E)%self.N\n",
    "\n",
    "        return ct\n",
    "\n",
    "    def decrypt2(self, cipher):\n",
    "\n",
    "        dt = (int(cipher)**self.D)%self.N\n",
    "\n",
    "        return dt\n"
   ]
  },
  {
   "cell_type": "code",
   "execution_count": 25,
   "id": "accaf35c",
   "metadata": {},
   "outputs": [
    {
     "name": "stdout",
     "output_type": "stream",
     "text": [
      "Enter P : 17\n",
      "Enter Q : 29\n",
      "Encryption Key (N, E) : ( 493 ,  3 )\n",
      "Decryption Key (N, D) : ( 493 ,  299 )\n",
      "Enter PT : 10\n",
      "CT :  [315, 160]\n",
      "DT :  10\n",
      "----------------\n",
      "CT :  14\n",
      "DT :  10\n"
     ]
    }
   ],
   "source": [
    "if __name__ == \"__main__\":\n",
    "    \n",
    "    p = int(input(\"Enter P : \"))\n",
    "    q = int(input(\"Enter Q : \"))\n",
    "    \n",
    "#     p, q = generate_primes()\n",
    "\n",
    "    if(isPrime(p) and isPrime(q)):\n",
    "        rsa = RSA(p, q)\n",
    "        \n",
    "        pt = input(\"Enter PT : \")\n",
    "        \n",
    "        ct = rsa.encrypt(pt)\n",
    "        \n",
    "        print(\"CT : \", ct)\n",
    "        \n",
    "        dt = rsa.decrypt(ct)\n",
    "        \n",
    "        print(\"DT : \", dt)\n",
    "        \n",
    "        print(\"----------------\")\n",
    "        \n",
    "        ct = rsa.encrypt2(pt)\n",
    "        \n",
    "        print(\"CT : \", ct)\n",
    "        \n",
    "        dt = rsa.decrypt2(ct)\n",
    "        \n",
    "        print(\"DT : \", dt)\n",
    "    else:\n",
    "        print(\"Both numbers should be prime\")"
   ]
  },
  {
   "cell_type": "code",
   "execution_count": null,
   "id": "ad511723",
   "metadata": {},
   "outputs": [],
   "source": []
  }
 ],
 "metadata": {
  "kernelspec": {
   "display_name": "Python 3 (ipykernel)",
   "language": "python",
   "name": "python3"
  },
  "language_info": {
   "codemirror_mode": {
    "name": "ipython",
    "version": 3
   },
   "file_extension": ".py",
   "mimetype": "text/x-python",
   "name": "python",
   "nbconvert_exporter": "python",
   "pygments_lexer": "ipython3",
   "version": "3.9.1"
  }
 },
 "nbformat": 4,
 "nbformat_minor": 5
}
