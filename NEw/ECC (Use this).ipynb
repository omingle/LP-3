{
 "cells": [
  {
   "cell_type": "code",
   "execution_count": 44,
   "id": "dce3816a",
   "metadata": {},
   "outputs": [],
   "source": [
    "P = 101"
   ]
  },
  {
   "cell_type": "code",
   "execution_count": 45,
   "id": "7c8b57ae",
   "metadata": {},
   "outputs": [],
   "source": [
    "def mod_mul(a, b, m = P):\n",
    "    return ((a % m) * (b % m)) % m\n",
    "\n",
    "def mod_pow(a, b, m = P):\n",
    "    if b == 0:\n",
    "        return 1\n",
    "    \n",
    "    r = mod_pow(a, b//2, m)\n",
    "    \n",
    "    r = (r*r)%m\n",
    "    \n",
    "    if b%2:\n",
    "        r = (r*a)%m\n",
    "        \n",
    "    return r\n",
    "\n",
    "def mod_div(a, b, m = P):\n",
    "    return mod_mul(a, mod_pow(b, m-2, m), m)"
   ]
  },
  {
   "cell_type": "code",
   "execution_count": 46,
   "id": "63c7d998",
   "metadata": {},
   "outputs": [],
   "source": [
    "class Point:\n",
    "    def __init__(self, x, y):\n",
    "        self.x = x\n",
    "        self.y = y\n",
    "    \n",
    "    def __eq__(self, p2):\n",
    "        return self.x==p2.x and self.y==p2.y\n",
    "    \n",
    "    def __str__(self) -> str:\n",
    "        return f\"({self.x}, {self.y})\""
   ]
  },
  {
   "cell_type": "code",
   "execution_count": 47,
   "id": "e9ea0762",
   "metadata": {},
   "outputs": [],
   "source": [
    "class EllipticCurve:\n",
    "    def __init__(self, a, b):\n",
    "        self.a = a\n",
    "        self.b = b\n",
    "        \n",
    "    def add(self, p1, p2, m = P):\n",
    "        l = 0\n",
    "        \n",
    "        if p1 == p2:\n",
    "            num = 3 * p1.x * p1.x + self.a\n",
    "            den = 2 * p1.y\n",
    "        else:\n",
    "            num = p2.y - p1.y\n",
    "            den = p2.x - p1.x\n",
    "            \n",
    "        l = mod_div(num, den, m)\n",
    "        \n",
    "        x3 = ((l * l) - p1.x - p2.x) % m\n",
    "        y3 = (l * (p1.x - x3) - p1.y) % m\n",
    "        \n",
    "        return Point(x3, y3)\n",
    "    \n",
    "    def mul(self, k, p):\n",
    "        temp = p\n",
    "        \n",
    "        while k!=1:\n",
    "            temp = self.add(temp, p)\n",
    "            k -= 1\n",
    "            \n",
    "        return temp\n",
    "    \n",
    "    def sub(self, p1, p2):\n",
    "        np = Point(p2.x, -p2.y)\n",
    "        return self.add(p1, np)"
   ]
  },
  {
   "cell_type": "code",
   "execution_count": 48,
   "id": "33ba8772",
   "metadata": {},
   "outputs": [],
   "source": [
    "curve = EllipticCurve(2, 4)\n",
    "\n",
    "G = Point(0, 2)"
   ]
  },
  {
   "cell_type": "code",
   "execution_count": 49,
   "id": "440d15a7",
   "metadata": {},
   "outputs": [],
   "source": [
    "def encrypt(p, U):\n",
    "#     k*G   p + k*U\n",
    "    k = 5\n",
    "    \n",
    "    c = [\n",
    "        curve.mul(k, G),\n",
    "        curve.add(p, curve.mul(k, U))\n",
    "    ]\n",
    "    \n",
    "    return c"
   ]
  },
  {
   "cell_type": "code",
   "execution_count": 50,
   "id": "fb5f1395",
   "metadata": {},
   "outputs": [],
   "source": [
    "def decrypt(C, R):\n",
    "#     C[1] - R*C[0]\n",
    "    \n",
    "    p = curve.sub(C[1], curve.mul(R, C[0]))\n",
    "    \n",
    "    return p"
   ]
  },
  {
   "cell_type": "code",
   "execution_count": 51,
   "id": "81e57230",
   "metadata": {},
   "outputs": [
    {
     "name": "stdout",
     "output_type": "stream",
     "text": [
      "Private Key :  5\n",
      "Public Key :  (52, 15)\n"
     ]
    }
   ],
   "source": [
    "R = 5      # private key\n",
    "U = curve.mul(R, G) # public key\n",
    "\n",
    "print(\"Private Key : \", R)\n",
    "print(\"Public Key : \", U)"
   ]
  },
  {
   "cell_type": "code",
   "execution_count": 123,
   "id": "843a385b",
   "metadata": {},
   "outputs": [
    {
     "name": "stdout",
     "output_type": "stream",
     "text": [
      "Plaintext :  (3, 4)\n"
     ]
    }
   ],
   "source": [
    "# import random\n",
    "\n",
    "# plaintext = \"OmIngle\"\n",
    "\n",
    "# pt = 0\n",
    "# for c in plaintext:\n",
    "#     pt += ord(c)\n",
    "\n",
    "# x = pt%P\n",
    "# y = len(plaintext)%P\n",
    "\n",
    "# plaintext = Point(x, y)\n",
    "\n",
    "\n",
    "plaintext = Point(3, 4)\n",
    "\n",
    "print(\"Plaintext : \", plaintext)"
   ]
  },
  {
   "cell_type": "code",
   "execution_count": 124,
   "id": "5b7d50c0",
   "metadata": {},
   "outputs": [
    {
     "name": "stdout",
     "output_type": "stream",
     "text": [
      "Ciphertext :  (52, 15) (9, 34)\n"
     ]
    }
   ],
   "source": [
    "ciphertext = encrypt(plaintext, U)\n",
    "\n",
    "print(\"Ciphertext : \", ciphertext[0], ciphertext[1])"
   ]
  },
  {
   "cell_type": "code",
   "execution_count": 125,
   "id": "35c66957",
   "metadata": {},
   "outputs": [
    {
     "name": "stdout",
     "output_type": "stream",
     "text": [
      "Decrypted Text:  (3, 4)\n"
     ]
    }
   ],
   "source": [
    "decryptedtext = decrypt(ciphertext, R)\n",
    "\n",
    "# if((plaintext.x%P == decryptedtext.x) and (plaintext.y%P == decryptedtext.y)):\n",
    "#     print(plaintext, decryptedtext)\n",
    "#     decryptedtext = plaintext\n",
    "\n",
    "\n",
    "print(\"Decrypted Text: \", decryptedtext)"
   ]
  },
  {
   "cell_type": "code",
   "execution_count": 126,
   "id": "3419b465",
   "metadata": {},
   "outputs": [],
   "source": [
    "assert(decryptedtext == plaintext)"
   ]
  },
  {
   "cell_type": "code",
   "execution_count": 127,
   "id": "54af5995",
   "metadata": {},
   "outputs": [
    {
     "name": "stdout",
     "output_type": "stream",
     "text": [
      "Plaintext and Decrypted text is same\n"
     ]
    }
   ],
   "source": [
    "if decryptedtext == plaintext:\n",
    "    print(\"Plaintext and Decrypted text is same\")"
   ]
  },
  {
   "cell_type": "code",
   "execution_count": null,
   "id": "a2d479fa",
   "metadata": {},
   "outputs": [],
   "source": []
  }
 ],
 "metadata": {
  "kernelspec": {
   "display_name": "Python 3 (ipykernel)",
   "language": "python",
   "name": "python3"
  },
  "language_info": {
   "codemirror_mode": {
    "name": "ipython",
    "version": 3
   },
   "file_extension": ".py",
   "mimetype": "text/x-python",
   "name": "python",
   "nbconvert_exporter": "python",
   "pygments_lexer": "ipython3",
   "version": "3.9.1"
  }
 },
 "nbformat": 4,
 "nbformat_minor": 5
}
