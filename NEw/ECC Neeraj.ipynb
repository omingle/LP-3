{
 "cells": [
  {
   "cell_type": "code",
   "execution_count": 13,
   "id": "05132181",
   "metadata": {},
   "outputs": [],
   "source": [
    "P = 101"
   ]
  },
  {
   "cell_type": "code",
   "execution_count": 14,
   "id": "0d624e27",
   "metadata": {},
   "outputs": [],
   "source": [
    "def modmul(a, b, m = P):\n",
    "  return ((a % m) * (b % m)) % m\n",
    "\n",
    "def mod_pow(a, b, m = P):\n",
    "  if b == 0:\n",
    "    return 1\n",
    "  r = mod_pow(a, b//2, m)\n",
    "  r = (r*r)%m\n",
    "  if b%2:\n",
    "    r = (r*a)%m\n",
    "  return r\n",
    "\n",
    "def moddiv(a, b, m = P):\n",
    "  return modmul(a, mod_pow(b, m-2, m), m)"
   ]
  },
  {
   "cell_type": "code",
   "execution_count": 15,
   "id": "e73ee3fa",
   "metadata": {},
   "outputs": [],
   "source": [
    "class Point:\n",
    "  def __init__(self, x, y):\n",
    "    self.x = x\n",
    "    self.y = y\n",
    "  def __eq__(self, p2):\n",
    "    return self.x == p2.x and self.y == p2.y\n",
    "  def __str__(self) -> str:\n",
    "      return f\"({self.x}, {self.y})\""
   ]
  },
  {
   "cell_type": "code",
   "execution_count": 16,
   "id": "e64167af",
   "metadata": {},
   "outputs": [],
   "source": [
    "class EllipticCurve:\n",
    "  def __init__(self, a, b):\n",
    "    self.a = a\n",
    "    self.b = b\n",
    "  \n",
    "  def add(self, p1, p2, m = P):\n",
    "    # num - 3p1x^2+a\n",
    "    # den - 2p1y\n",
    "    # num - p2y - p1y\n",
    "    # den - p2x - p1x\n",
    "    # x3 - (l^2 - p1.x - p2.x) % m\n",
    "    # y3 = (l*(p1x-x3)-p1y) % m\n",
    "    l = 0\n",
    "    if p1 == p2:\n",
    "      num = 3 * p1.x * p1.x + self.a\n",
    "      den = 2 * p1.y\n",
    "    else:\n",
    "      num = p2.y - p1.y\n",
    "      den = p2.x - p1.x\n",
    "    l = moddiv(num, den, m)\n",
    "    x3 = (l*l - p1.x - p2.x) % m\n",
    "    y3 = (l*(p1.x - x3) - p1.y) % m\n",
    "    return Point(x3, y3)\n",
    "\n",
    "  def mul(self, k, p): # p is always generator point G\n",
    "    temp = p\n",
    "    while k != 1:\n",
    "      temp = self.add(temp, p)\n",
    "      k -= 1 \n",
    "    return temp\n",
    "  \n",
    "  def sub(self, p1, p2):\n",
    "    np = Point(p2.x, -p2.y)\n",
    "    return self.add(p1, np)"
   ]
  },
  {
   "cell_type": "code",
   "execution_count": 17,
   "id": "bf1d610f",
   "metadata": {},
   "outputs": [],
   "source": [
    "# y^2 = x^3 + 2x + 4 \n",
    "curve = EllipticCurve(2, 4) # Points lying on this curve:{0, 2}, {0, 5}, {1, 0}, {2, 3}, {2, 4}, {3, 3}, {3, 4}, {6, 1}, {6, 6}\n",
    "G = Point(0, 2) "
   ]
  },
  {
   "cell_type": "code",
   "execution_count": 18,
   "id": "a945daca",
   "metadata": {},
   "outputs": [],
   "source": [
    "def encrypt(p, U):\n",
    "  # k*G    p + k*U\n",
    "  k = 5\n",
    "  c = [\n",
    "       curve.mul(k, G),\n",
    "       curve.add(p, curve.mul(k, U))\n",
    "  ]\n",
    "  return c"
   ]
  },
  {
   "cell_type": "code",
   "execution_count": 19,
   "id": "c63211bf",
   "metadata": {},
   "outputs": [],
   "source": [
    "def decrypt(C, R):\n",
    "  #c1-r*c0\n",
    "  p = curve.sub(C[1], curve.mul(R, C[0]))\n",
    "  return p"
   ]
  },
  {
   "cell_type": "code",
   "execution_count": 20,
   "id": "6307114b",
   "metadata": {},
   "outputs": [],
   "source": [
    "R = 5               # Private key\n",
    "U = curve.mul(R, G) # Public key"
   ]
  },
  {
   "cell_type": "code",
   "execution_count": 33,
   "id": "a3cb7d5c",
   "metadata": {},
   "outputs": [],
   "source": [
    "plaintext = Point(46, 100)"
   ]
  },
  {
   "cell_type": "code",
   "execution_count": 34,
   "id": "045ed238",
   "metadata": {},
   "outputs": [],
   "source": [
    "ciphertext = encrypt(plaintext, U)\n",
    "p = decrypt(ciphertext, R)"
   ]
  },
  {
   "cell_type": "code",
   "execution_count": 35,
   "id": "928c8d40",
   "metadata": {},
   "outputs": [
    {
     "name": "stdout",
     "output_type": "stream",
     "text": [
      "(46, 100)\n"
     ]
    }
   ],
   "source": [
    "print(p)"
   ]
  },
  {
   "cell_type": "code",
   "execution_count": 1,
   "id": "32e8ed4f",
   "metadata": {},
   "outputs": [],
   "source": [
    "def isPrime(n):\n",
    "    if n==0 or n==1:\n",
    "        return False\n",
    "    \n",
    "    r = int(n/2)\n",
    "    \n",
    "    for i in range(2, r):\n",
    "        if(n%i == 0):\n",
    "            return False\n",
    "        \n",
    "    return True"
   ]
  },
  {
   "cell_type": "code",
   "execution_count": null,
   "id": "4e37a835",
   "metadata": {},
   "outputs": [],
   "source": []
  }
 ],
 "metadata": {
  "kernelspec": {
   "display_name": "Python 3 (ipykernel)",
   "language": "python",
   "name": "python3"
  },
  "language_info": {
   "codemirror_mode": {
    "name": "ipython",
    "version": 3
   },
   "file_extension": ".py",
   "mimetype": "text/x-python",
   "name": "python",
   "nbconvert_exporter": "python",
   "pygments_lexer": "ipython3",
   "version": "3.9.1"
  }
 },
 "nbformat": 4,
 "nbformat_minor": 5
}
