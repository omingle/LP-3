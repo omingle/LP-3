{
 "cells": [
  {
   "cell_type": "markdown",
   "metadata": {
    "id": "XiJZTdzMF1qP"
   },
   "source": [
    "# **ECC**"
   ]
  },
  {
   "cell_type": "code",
   "execution_count": 1,
   "metadata": {
    "id": "FCvsrGKnu6XI"
   },
   "outputs": [],
   "source": [
    "class ECC:\n",
    "  def __init__(self, a, b, q, G):\n",
    "    ### CURVE EQUATION = x ** 3 + a * x + b\n",
    "    self.a = a\n",
    "    self.b = b\n",
    "    self.q = q\n",
    "    self.G = G\n",
    "    self.private_key = 5\n",
    "    self.public_key = self.__generate_public_key()\n",
    "\n",
    "  def __round(self, p):\n",
    "    x, y = p\n",
    "    if abs(x - int(x)) <= 0.0001: x = int(x)\n",
    "    if abs(y - int(y)) <= 0.0001: y = int(y)\n",
    "    return (x, y)\n",
    "  \n",
    "  def negate(self, p):\n",
    "    return (p[0], -p[1])\n",
    "\n",
    "  def add(self, p1, p2):\n",
    "    if p1 == p2:\n",
    "      x = ((3*p1[0]*p1[0] + self.a)/(2*p1[1]))**2 - 2*p1[0]\n",
    "      y = -p1[1] + (3*p1[0]*p1[0] + self.a)/(2*p1[1]) * (p1[0] - x)\n",
    "    else:\n",
    "      x = ((p2[1]-p1[1])/(p2[0]-p1[0]))**2 - p1[0] - p2[0]\n",
    "      y = -p1[1] + (p2[1]-p1[1])/(p2[0]-p1[0]) * (p1[0]-x)\n",
    "    return self.__round((x, y))\n",
    "\n",
    "  def sub(self, p1, p2):\n",
    "    return self.add(p1, self.negate(p2))\n",
    "\n",
    "  def dot(self, k, p):\n",
    "    res = (p[0], p[1])\n",
    "    for _ in range(k-1):\n",
    "      res = self.add(res, p)\n",
    "      res = self.negate(res)\n",
    "    return res\n",
    "\n",
    "  def __generate_public_key(self):\n",
    "    return self.dot(self.private_key, self.G)\n",
    "\n",
    "  def get_public_key(self):\n",
    "    return self.public_key\n",
    "\n",
    "  def generate_secret_key(self, public_key):\n",
    "    self.secret_key = self.dot(self.private_key, public_key)\n",
    "\n",
    "  def encrypt(self, message, public_key):\n",
    "    k = 3\n",
    "    return (self.dot(k, G), self.add(message, self.dot(k, public_key)))\n",
    "\n",
    "  def decrypt(self, message):\n",
    "    return self.sub(message[1], self.dot(self.private_key, message[0]))"
   ]
  },
  {
   "cell_type": "code",
   "execution_count": 2,
   "metadata": {
    "id": "YVBxaRKnYmyV"
   },
   "outputs": [],
   "source": [
    "a = 1\n",
    "b = 6\n",
    "q = 11\n",
    "G = (5, 2)"
   ]
  },
  {
   "cell_type": "code",
   "execution_count": 3,
   "metadata": {
    "id": "eDEZ0gw7S9DK"
   },
   "outputs": [],
   "source": [
    "ecc = ECC(a, b, q, G)"
   ]
  },
  {
   "cell_type": "code",
   "execution_count": 4,
   "metadata": {
    "colab": {
     "base_uri": "https://localhost:8080/"
    },
    "id": "183dkozLVREj",
    "outputId": "b258534a-9488-47d5-81dc-0612de017154"
   },
   "outputs": [
    {
     "name": "stdout",
     "output_type": "stream",
     "text": [
      "PUBLIC-KEY: (351, 6576)\n"
     ]
    }
   ],
   "source": [
    "private_key = 8\n",
    "public_key = ecc.dot(private_key, G)\n",
    "print(f'PUBLIC-KEY: {public_key}')"
   ]
  },
  {
   "cell_type": "code",
   "execution_count": 5,
   "metadata": {
    "id": "UrjLbPKwYyHV"
   },
   "outputs": [],
   "source": [
    "ecc.generate_secret_key(public_key)"
   ]
  },
  {
   "cell_type": "code",
   "execution_count": 6,
   "metadata": {
    "colab": {
     "base_uri": "https://localhost:8080/"
    },
    "id": "Chyl6YQMYyJx",
    "outputId": "8ebe6b88-8adc-404e-b665-98275c8a9cf9"
   },
   "outputs": [
    {
     "name": "stdout",
     "output_type": "stream",
     "text": [
      "SECRET-KEY: (351, 6576)\n"
     ]
    }
   ],
   "source": [
    "secret_key = ecc.dot(private_key, ecc.get_public_key())\n",
    "print(f'SECRET-KEY: {secret_key}')"
   ]
  },
  {
   "cell_type": "code",
   "execution_count": 15,
   "metadata": {
    "colab": {
     "base_uri": "https://localhost:8080/"
    },
    "id": "MTglzQTCagVt",
    "outputId": "592bd525-dac6-4075-b511-4e565af2e2b6"
   },
   "outputs": [
    {
     "name": "stdout",
     "output_type": "stream",
     "text": [
      "MESSAGE: (2, 7), CIPHERTEXT: ((5, 2), (1.2808433428296553, 6.536217996997118))\n"
     ]
    }
   ],
   "source": [
    "message = (2, 7)\n",
    "ciphertext = ecc.encrypt(message, public_key)\n",
    "print(f'MESSAGE: {message}, CIPHERTEXT: {ciphertext}')"
   ]
  },
  {
   "cell_type": "code",
   "execution_count": 16,
   "metadata": {
    "colab": {
     "base_uri": "https://localhost:8080/"
    },
    "id": "B50A4gGyagXq",
    "outputId": "290c769e-2452-4723-e478-61a09ac8b956"
   },
   "outputs": [
    {
     "name": "stdout",
     "output_type": "stream",
     "text": [
      "DECRYPTED-TEXT: (2, 7)\n"
     ]
    }
   ],
   "source": [
    "decrypted_text = ecc.sub(ciphertext[1], ecc.dot(private_key, ciphertext[0]))\n",
    "print(f'DECRYPTED-TEXT: {decrypted_text}')"
   ]
  },
  {
   "cell_type": "code",
   "execution_count": null,
   "metadata": {},
   "outputs": [],
   "source": []
  }
 ],
 "metadata": {
  "colab": {
   "collapsed_sections": [
    "3S-5u1bouurw",
    "T5rMzpyY1FI8",
    "AI6xv2GM1YkE",
    "cAk4tB7-7NjB",
    "WdSGfExuHKZs",
    "Xf5dq6K4X8vO",
    "avoy5j0hFG9Q",
    "PHzpUZc2VeP5",
    "uCNin_f1cliv",
    "Ak9TVDlScou8",
    "WYpezy6rguhI",
    "GaDYqjw6llPn",
    "XiJZTdzMF1qP",
    "OhzGHnu5rhM8",
    "czVjaFe3rf_5"
   ],
   "name": "lp3.ipynb",
   "provenance": []
  },
  "kernelspec": {
   "display_name": "Python 3 (ipykernel)",
   "language": "python",
   "name": "python3"
  },
  "language_info": {
   "codemirror_mode": {
    "name": "ipython",
    "version": 3
   },
   "file_extension": ".py",
   "mimetype": "text/x-python",
   "name": "python",
   "nbconvert_exporter": "python",
   "pygments_lexer": "ipython3",
   "version": "3.9.1"
  }
 },
 "nbformat": 4,
 "nbformat_minor": 1
}
