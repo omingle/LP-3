{
 "cells": [
  {
   "cell_type": "code",
   "execution_count": 56,
   "id": "cb7341f9",
   "metadata": {},
   "outputs": [],
   "source": [
    "P = 101"
   ]
  },
  {
   "cell_type": "code",
   "execution_count": 57,
   "id": "11c09e26",
   "metadata": {},
   "outputs": [],
   "source": [
    "def modmul(a, b, m = P):\n",
    "  return ((a % m) * (b % m)) % m\n",
    "\n",
    "def mod_pow(a, b, m = P):\n",
    "  if b == 0:\n",
    "    return 1\n",
    "\n",
    "  r = mod_pow(a, b//2, m)\n",
    "  r = (r*r)%m\n",
    "\n",
    "  if b%2:\n",
    "    r = (r*a)%m\n",
    "    \n",
    "  return r\n",
    "\n",
    "\n",
    "def get_positive(a, m=P):\n",
    "    a = a % m\n",
    "    a += m\n",
    "    a = a % m\n",
    "    return a\n",
    "\n",
    "def moddiv(a, b, m = P):\n",
    "  return modmul(a, mod_pow(b, m-2, m), m)"
   ]
  },
  {
   "cell_type": "code",
   "execution_count": 58,
   "id": "8f345fd8",
   "metadata": {},
   "outputs": [],
   "source": [
    "class Point:\n",
    "  def __init__(self, x, y):\n",
    "    self.x = x\n",
    "    self.y = y\n",
    "  def __eq__(self, p2):\n",
    "    return self.x == p2.x and self.y == p2.y\n",
    "  def __str__(self) -> str:\n",
    "      return f\"({self.x}, {self.y})\""
   ]
  },
  {
   "cell_type": "code",
   "execution_count": 59,
   "id": "1592d1fd",
   "metadata": {},
   "outputs": [],
   "source": [
    "class EllipticCurve:\n",
    "  def __init__(self, a, b):\n",
    "    self.a = a\n",
    "    self.b = b\n",
    "  \n",
    "  def add(self, p1, p2, m = P):\n",
    "    l = 0\n",
    "    if p1 == p2:\n",
    "      num = 3 * p1.x * p1.x + self.a\n",
    "      den = 2 * p1.y\n",
    "    else:\n",
    "      num = p2.y - p1.y\n",
    "      den = p2.x - p1.x\n",
    "    \n",
    "    l = moddiv(num, den, m)\n",
    "    \n",
    "    x3 = l * l - p1.x - p2.x\n",
    "    y3 = l * (p1.x - x3) - p1.y\n",
    "    \n",
    "    x3 = get_positive(x3, m)\n",
    "    y3 = get_positive(y3, m)\n",
    "    \n",
    "    return Point(x3, y3)\n",
    "\n",
    "  def mul(self, k, p): # p is always generator point G\n",
    "    while k != 1:\n",
    "      p = self.add(p, p)\n",
    "      k -= 1 \n",
    "    return p\n",
    "  \n",
    "  def sub(self, p1, p2):\n",
    "    np = Point(p2.x, -p2.y)\n",
    "    return self.add(p1, np)"
   ]
  },
  {
   "cell_type": "code",
   "execution_count": 60,
   "id": "a9d76981",
   "metadata": {},
   "outputs": [],
   "source": [
    "curve = EllipticCurve(2, 4) # Points lying on this curve:{0, 2}, {0, 5}, {1, 0}, {2, 3}, {2, 4}, {3, 3}, {3, 4}, {6, 1}, {6, 6}\n",
    "G = Point(0, 2)"
   ]
  },
  {
   "cell_type": "code",
   "execution_count": 61,
   "id": "aaa9018f",
   "metadata": {},
   "outputs": [],
   "source": [
    "def encrypt(p, U):\n",
    "  k = 5\n",
    "  c = [\n",
    "       curve.mul(k, G),\n",
    "       curve.add(p, curve.mul(k, U))\n",
    "  ]\n",
    "  \n",
    "  return c"
   ]
  },
  {
   "cell_type": "code",
   "execution_count": 62,
   "id": "4db7c5af",
   "metadata": {},
   "outputs": [],
   "source": [
    "def decrypt(C, R):\n",
    "  p = curve.sub(C[1], curve.mul(R, C[0]))\n",
    "  return p"
   ]
  },
  {
   "cell_type": "code",
   "execution_count": 63,
   "id": "4163b19f",
   "metadata": {},
   "outputs": [
    {
     "name": "stdout",
     "output_type": "stream",
     "text": [
      "Private Key :  5\n",
      "Public Key  :  (64, 79)\n"
     ]
    }
   ],
   "source": [
    "R = 5               # Private key\n",
    "U = curve.mul(R, G) # Public key\n",
    "\n",
    "print(\"Private Key : \", R)\n",
    "print(\"Public Key  : \", U)"
   ]
  },
  {
   "cell_type": "code",
   "execution_count": 64,
   "id": "8c23fb59",
   "metadata": {},
   "outputs": [
    {
     "name": "stdout",
     "output_type": "stream",
     "text": [
      "Plaintext :  (3, 4)\n"
     ]
    }
   ],
   "source": [
    "plaintext = Point(3, 4)\n",
    "\n",
    "print(\"Plaintext : \", plaintext)"
   ]
  },
  {
   "cell_type": "code",
   "execution_count": 65,
   "id": "5eaa7e4d",
   "metadata": {},
   "outputs": [
    {
     "name": "stdout",
     "output_type": "stream",
     "text": [
      "Cipher text :  (64, 79) (17, 98)\n"
     ]
    }
   ],
   "source": [
    "ciphertext = encrypt(plaintext, U)\n",
    "\n",
    "print(\"Cipher text : \", ciphertext[0], ciphertext[1])"
   ]
  },
  {
   "cell_type": "code",
   "execution_count": 66,
   "id": "a8bc2eec",
   "metadata": {},
   "outputs": [
    {
     "name": "stdout",
     "output_type": "stream",
     "text": [
      "Decrypted Data :  (3, 4)\n"
     ]
    }
   ],
   "source": [
    "p = decrypt(ciphertext, R)\n",
    "\n",
    "# if((plaintext.x%P == p.x) or (plaintext.y%P == p.y)):\n",
    "#     print(plaintext, p)\n",
    "\n",
    "#     p = Point(plaintext.x, plaintext.y)\n",
    "\n",
    "print(\"Decrypted Data : \", p)"
   ]
  },
  {
   "cell_type": "code",
   "execution_count": 67,
   "id": "b9a8d1b8",
   "metadata": {},
   "outputs": [],
   "source": [
    "assert(p == plaintext)"
   ]
  },
  {
   "cell_type": "code",
   "execution_count": 68,
   "id": "0800b53e",
   "metadata": {},
   "outputs": [
    {
     "name": "stdout",
     "output_type": "stream",
     "text": [
      "p is same as plain text.\n"
     ]
    }
   ],
   "source": [
    "if(p==plaintext):\n",
    "    print(\"p is same as plain text.\")\n"
   ]
  }
 ],
 "metadata": {
  "kernelspec": {
   "display_name": "Python 3 (ipykernel)",
   "language": "python",
   "name": "python3"
  },
  "language_info": {
   "codemirror_mode": {
    "name": "ipython",
    "version": 3
   },
   "file_extension": ".py",
   "mimetype": "text/x-python",
   "name": "python",
   "nbconvert_exporter": "python",
   "pygments_lexer": "ipython3",
   "version": "3.9.1"
  }
 },
 "nbformat": 4,
 "nbformat_minor": 5
}
