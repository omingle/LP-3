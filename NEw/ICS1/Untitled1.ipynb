{
 "cells": [
  {
   "cell_type": "code",
   "execution_count": 7,
   "id": "fa655e9e",
   "metadata": {},
   "outputs": [],
   "source": [
    "#permutations for keys\n",
    "p10_seq = (3, 5, 2, 7, 4, 10, 1, 9, 8, 6)\n",
    "p8_seq = (6, 3, 7, 4, 8, 5, 10, 9)\n",
    "\n",
    "#permutations for text\n",
    "ip_seq = (2, 6, 3, 1, 4, 8, 5, 7)\n",
    "inv_ip_seq = (4, 1, 3, 5, 7, 2, 8, 6)\n",
    "\n",
    "#permutation to expand 4 bit to 8 bit\n",
    "ep_seq = (4, 1, 2, 3, 2, 3, 4, 1)\n",
    "\n",
    "#permutation for 4 bits\n",
    "p4_seq = (2, 4, 3, 1)\n",
    "\n",
    "#s boxes\n",
    "s0_seq = [\n",
    "            [\"01\", \"00\", \"11\", \"10\"],\n",
    "            [\"11\", \"10\", \"01\", \"00\"],\n",
    "            [\"00\", \"10\", \"01\", \"11\"],\n",
    "            [\"11\", \"01\", \"11\", \"10\"]\n",
    "         ]\n",
    "\n",
    "s1_seq = [\n",
    "            [\"00\", \"01\", \"10\", \"11\"],\n",
    "            [\"10\", \"00\", \"01\", \"11\"],\n",
    "            [\"11\", \"00\", \"01\", \"00\"],\n",
    "            [\"10\", \"01\", \"00\", \"11\"]\n",
    "         ]"
   ]
  },
  {
   "cell_type": "code",
   "execution_count": 8,
   "id": "cf195b11",
   "metadata": {},
   "outputs": [],
   "source": [
    "def left_shift(s, bits):\n",
    "    s = s[bits:] + s[:bits]\n",
    "    \n",
    "    return s"
   ]
  },
  {
   "cell_type": "code",
   "execution_count": 9,
   "id": "ca0195e2",
   "metadata": {},
   "outputs": [],
   "source": [
    "def permute_and_generate(ip, seq):\n",
    "    s=\"\"\n",
    "    \n",
    "    for val in seq:\n",
    "        s += ip[val-1]\n",
    "        \n",
    "    return s"
   ]
  },
  {
   "cell_type": "code",
   "execution_count": 10,
   "id": "4d67006d",
   "metadata": {},
   "outputs": [],
   "source": [
    "def generate_keys(key):\n",
    "    \n",
    "    p10 = permute_and_generate(key, p10_seq)\n",
    "    \n",
    "    print(\"P10(Key) : \", p10)\n",
    "    \n",
    "    p10_left = p10[0:5]\n",
    "    p10_right = p10[5:10]\n",
    "    \n",
    "    ls1_left = left_shift(p10_left, 1)\n",
    "    ls1_right = left_shift(p10_right, 1)\n",
    "    \n",
    "    print(\"Shift1(P10(Key)) : \", ls1_left + ls1_right)\n",
    "    \n",
    "    k1 = permute_and_generate(ls1_left + ls1_right, p8_seq)\n",
    "    \n",
    "    print(\"k1 : \", k1)\n",
    "    \n",
    "    ls2_left = left_shift(ls1_left, 2)\n",
    "    ls2_right = left_shift(ls1_right, 2)\n",
    "    \n",
    "    print(\"Shift3(P10(Key)) : \", ls2_left + ls2_right)\n",
    "    \n",
    "    k2 = permute_and_generate(ls2_left + ls2_right, p8_seq)\n",
    "    \n",
    "    \n",
    "    print(\"k2 : \", k2)\n",
    "    \n",
    "    return k1, k2"
   ]
  },
  {
   "cell_type": "code",
   "execution_count": 11,
   "id": "edb1559c",
   "metadata": {},
   "outputs": [],
   "source": [
    "def find_xor(s1, s2):\n",
    "    xor = \"\"\n",
    "    \n",
    "    for i in range(len(s1)):\n",
    "        if s1[i] == s2[i]:\n",
    "            xor += \"0\"\n",
    "        else:\n",
    "            xor += \"1\"\n",
    "            \n",
    "    return xor"
   ]
  },
  {
   "cell_type": "code",
   "execution_count": 12,
   "id": "61362b55",
   "metadata": {},
   "outputs": [],
   "source": [
    "def find_s0_s1(xor_half, lookup_table):\n",
    "    r = (int(xor_half[0]) * 2) + int(xor_half[3])\n",
    "    c = (int(xor_half[1]) * 2) + int(xor_half[2])\n",
    "    \n",
    "    return lookup_table[r][c]"
   ]
  },
  {
   "cell_type": "code",
   "execution_count": 13,
   "id": "9a293157",
   "metadata": {},
   "outputs": [],
   "source": [
    "def round_encrypt(ip, key):\n",
    "    \n",
    "    expanded_per = permute_and_generate(ip, ep_seq)\n",
    "    \n",
    "    print(\"EP(IP) : \", expanded_per)\n",
    "    \n",
    "    expanded_per_xor = find_xor(expanded_per, key)\n",
    "    \n",
    "    print(\"EP(IP) XOR key : \", expanded_per_xor)\n",
    "        \n",
    "    left_ep = expanded_per_xor[:4]\n",
    "    right_ep = expanded_per_xor[4:]\n",
    "    \n",
    "    s0 = find_s0_s1(left_ep, s0_seq)\n",
    "    s1 = find_s0_s1(right_ep, s1_seq)\n",
    "    \n",
    "    print(\"s0 : \", s0)\n",
    "    print(\"s1 : \", s1)\n",
    "    \n",
    "    p4 = permute_and_generate(s0 + s1, p4_seq)\n",
    "    \n",
    "    return p4"
   ]
  },
  {
   "cell_type": "code",
   "execution_count": 14,
   "id": "d9b68678",
   "metadata": {},
   "outputs": [],
   "source": [
    "def encrypt_decrypt(ip, k1, k2):\n",
    "    \n",
    "    ip_per = permute_and_generate(ip, ip_seq)\n",
    "    \n",
    "    print(\"IP(IP) : \", ip_per)\n",
    "    \n",
    "    left_ip_per = ip_per[:4]\n",
    "    right_ip_per = ip_per[4:]\n",
    "    \n",
    "    # round 1\n",
    "    r1_output = round_encrypt(right_ip_per, k1)\n",
    "    \n",
    "    print(\"round1(R, k1) : \", r1_output)\n",
    "    \n",
    "    r1_output = find_xor(r1_output, left_ip_per)\n",
    "    \n",
    "    print(\"L XOR round1(r1_output, k1) : \", r1_output)\n",
    "    \n",
    "    # round 2\n",
    "    r2_output = round_encrypt(r1_output, k2)\n",
    "    print(\"round2(r1_output, k2) : \", r2_output)\n",
    "    \n",
    "    r2_output = find_xor(r2_output, right_ip_per)\n",
    "    print(\"R XOR round2(r2_output, k2) : \", r2_output)\n",
    "    \n",
    "    ip_inv = permute_and_generate(r2_output + r1_output, inv_ip_seq)\n",
    "    \n",
    "    return ip_inv"
   ]
  },
  {
   "cell_type": "code",
   "execution_count": 20,
   "id": "293cab6d",
   "metadata": {},
   "outputs": [
    {
     "name": "stdout",
     "output_type": "stream",
     "text": [
      "P10(Key) :  0011001111\n",
      "Shift1(P10(Key)) :  0110011110\n",
      "k1 :  11101001\n",
      "Shift3(P10(Key)) :  1000111011\n",
      "k2 :  10100111\n"
     ]
    }
   ],
   "source": [
    "k1, k2 = generate_keys(\"1100011110\")"
   ]
  },
  {
   "cell_type": "code",
   "execution_count": 21,
   "id": "03c9fe29",
   "metadata": {},
   "outputs": [
    {
     "name": "stdout",
     "output_type": "stream",
     "text": [
      "Plaintext :  00101000 \n",
      "\n",
      "\n",
      "IP(IP) :  00100010\n",
      "EP(IP) :  00010100\n",
      "EP(IP) XOR key :  11111101\n",
      "s0 :  10\n",
      "s1 :  00\n",
      "round1(R, k1) :  0001\n",
      "L XOR round1(r1_output, k1) :  0011\n",
      "EP(IP) :  10010110\n",
      "EP(IP) XOR key :  00110001\n",
      "s0 :  10\n",
      "s1 :  10\n",
      "round2(r1_output, k2) :  0011\n",
      "R XOR round2(r2_output, k2) :  0001\n",
      "\n",
      "Ciphertext :  10001010 \n",
      "\n",
      "\n",
      "IP(IP) :  00010011\n",
      "EP(IP) :  10010110\n",
      "EP(IP) XOR key :  00110001\n",
      "s0 :  10\n",
      "s1 :  10\n",
      "round1(R, k1) :  0011\n",
      "L XOR round1(r1_output, k1) :  0010\n",
      "EP(IP) :  00010100\n",
      "EP(IP) XOR key :  11111101\n",
      "s0 :  10\n",
      "s1 :  00\n",
      "round2(r1_output, k2) :  0001\n",
      "R XOR round2(r2_output, k2) :  0010\n",
      "\n",
      "Decrypted text :  00101000\n"
     ]
    }
   ],
   "source": [
    "plaintext = \"00101000\"\n",
    "\n",
    "print(\"Plaintext : \", plaintext, \"\\n\\n\")\n",
    "\n",
    "ciphertext = encrypt_decrypt(plaintext, k1, k2)\n",
    "\n",
    "print(\"\\nCiphertext : \", ciphertext, \"\\n\\n\")\n",
    "\n",
    "decryptedtext = encrypt_decrypt(ciphertext, k2, k1)\n",
    "\n",
    "print(\"\\nDecrypted text : \", decryptedtext)"
   ]
  },
  {
   "cell_type": "code",
   "execution_count": null,
   "id": "a98fbfee",
   "metadata": {},
   "outputs": [],
   "source": []
  }
 ],
 "metadata": {
  "kernelspec": {
   "display_name": "Python 3 (ipykernel)",
   "language": "python",
   "name": "python3"
  },
  "language_info": {
   "codemirror_mode": {
    "name": "ipython",
    "version": 3
   },
   "file_extension": ".py",
   "mimetype": "text/x-python",
   "name": "python",
   "nbconvert_exporter": "python",
   "pygments_lexer": "ipython3",
   "version": "3.9.1"
  }
 },
 "nbformat": 4,
 "nbformat_minor": 5
}
