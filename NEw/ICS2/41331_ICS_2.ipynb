{
 "cells": [
  {
   "cell_type": "code",
   "execution_count": 1,
   "metadata": {
    "executionInfo": {
     "elapsed": 1070,
     "status": "ok",
     "timestamp": 1620795684696,
     "user": {
      "displayName": "Dhruv Inamdar",
      "photoUrl": "https://lh3.googleusercontent.com/a-/AOh14GiLaX8gRBxu0ricR2DToIydRc-ugAg0vaEn7xmbNg=s64",
      "userId": "17388413836305894064"
     },
     "user_tz": -330
    },
    "id": "7S7Sa4QSo_a2"
   },
   "outputs": [],
   "source": [
    "import sys\n",
    " \n",
    "# S-Box\n",
    "sBox  = [0x9, 0x4, 0xa, 0xb, 0xd, 0x1, 0x8, 0x5,\n",
    "\t\t 0x6, 0x2, 0x0, 0x3, 0xc, 0xe, 0xf, 0x7]\n",
    " \n",
    "# Inverse S-Box\n",
    "sBoxI = [0xa, 0x5, 0x9, 0xb, 0x1, 0x7, 0x8, 0xf,\n",
    "\t\t 0x6, 0x0, 0x2, 0x3, 0xc, 0x4, 0xd, 0xe]\n",
    " \n",
    "# Round keys: K0 = w0 + w1; K1 = w2 + w3; K2 = w4 + w5\n",
    "w = [None] * 6"
   ]
  },
  {
   "cell_type": "code",
   "execution_count": 2,
   "metadata": {
    "executionInfo": {
     "elapsed": 1061,
     "status": "ok",
     "timestamp": 1620795684698,
     "user": {
      "displayName": "Dhruv Inamdar",
      "photoUrl": "https://lh3.googleusercontent.com/a-/AOh14GiLaX8gRBxu0ricR2DToIydRc-ugAg0vaEn7xmbNg=s64",
      "userId": "17388413836305894064"
     },
     "user_tz": -330
    },
    "id": "IPr3uGAkpGTX"
   },
   "outputs": [],
   "source": [
    "def mult(p1, p2):\n",
    "    #Multiply two polynomials in (GF)(2^4)/x^4 + x + 1\n",
    "    p = 0\n",
    "    while p2:\n",
    "        if p2 & 0b1:\n",
    "            p ^= p1\n",
    "        p1 <<= 1\n",
    "        if p1 & 0b10000:\n",
    "            p1 ^= 0b11\n",
    "        p2 >>= 1\n",
    "    return p & 0b1111"
   ]
  },
  {
   "cell_type": "code",
   "execution_count": 3,
   "metadata": {
    "executionInfo": {
     "elapsed": 1619,
     "status": "ok",
     "timestamp": 1620795685262,
     "user": {
      "displayName": "Dhruv Inamdar",
      "photoUrl": "https://lh3.googleusercontent.com/a-/AOh14GiLaX8gRBxu0ricR2DToIydRc-ugAg0vaEn7xmbNg=s64",
      "userId": "17388413836305894064"
     },
     "user_tz": -330
    },
    "id": "415AzksjpTPa"
   },
   "outputs": [],
   "source": [
    "def intToVec(n):\n",
    "    #Convert a 2-byte integer into a 4-element vector\n",
    "    return [n >> 12, (n >> 4) & 0xf, (n >> 8) & 0xf,  n & 0xf]            \n",
    " \n",
    "def vecToInt(m):\n",
    "    #Convert a 4-element vector into 2-byte integer\n",
    "    return (m[0] << 12) + (m[2] << 8) + (m[1] << 4) + m[3]"
   ]
  },
  {
   "cell_type": "code",
   "execution_count": 4,
   "metadata": {
    "executionInfo": {
     "elapsed": 1614,
     "status": "ok",
     "timestamp": 1620795685264,
     "user": {
      "displayName": "Dhruv Inamdar",
      "photoUrl": "https://lh3.googleusercontent.com/a-/AOh14GiLaX8gRBxu0ricR2DToIydRc-ugAg0vaEn7xmbNg=s64",
      "userId": "17388413836305894064"
     },
     "user_tz": -330
    },
    "id": "X-OqHL8BpTSS"
   },
   "outputs": [],
   "source": [
    "def addKey(s1, s2):\n",
    "    #Add two keys in GF(2^4)\n",
    "    return [i ^ j for i, j in zip(s1, s2)]\n",
    "\n",
    "def nibble_substitution(sbox,s):\n",
    "    return [sbox[e] for e in s]\n",
    "\n",
    "def shiftRow(s):\n",
    "    return [s[0], s[1], s[3], s[2]]"
   ]
  },
  {
   "cell_type": "code",
   "execution_count": 5,
   "metadata": {
    "executionInfo": {
     "elapsed": 1610,
     "status": "ok",
     "timestamp": 1620795685266,
     "user": {
      "displayName": "Dhruv Inamdar",
      "photoUrl": "https://lh3.googleusercontent.com/a-/AOh14GiLaX8gRBxu0ricR2DToIydRc-ugAg0vaEn7xmbNg=s64",
      "userId": "17388413836305894064"
     },
     "user_tz": -330
    },
    "id": "ZKjixB7mpTd_"
   },
   "outputs": [],
   "source": [
    "def sub2Nib(b):\n",
    "    #Swap each nibble and substitute it using sBox\n",
    "    #accepts 8 bit key, thus taken nibble by nibble\n",
    "    return sBox[b >> 4] + (sBox[b & 0x0f] << 4)\n",
    "    \n",
    "def keyExp(key): \n",
    "    Rcon1, Rcon2 = 0b10000000, 0b00110000\n",
    "    w[0] = (key & 0xff00) >> 8 \n",
    "    w[1] = key & 0x00ff        \n",
    "    w[2] = w[0] ^ Rcon1 ^ sub2Nib(w[1])\n",
    "    w[3] = w[2] ^ w[1]\n",
    "    w[4] = w[2] ^ Rcon2 ^ sub2Nib(w[3])\n",
    "    w[5] = w[4] ^ w[3]"
   ]
  },
  {
   "cell_type": "code",
   "execution_count": 6,
   "metadata": {},
   "outputs": [],
   "source": [
    "def get_key(w):\n",
    "    keys = [((w[0] << 8) + w[1]), ((w[2] << 8) + w[3]), ((w[4] << 8) + w[5])]\n",
    "    return keys"
   ]
  },
  {
   "cell_type": "code",
   "execution_count": 7,
   "metadata": {},
   "outputs": [],
   "source": [
    "def mixCol(s):\n",
    "    return [s[0] ^ mult(4, s[2]), s[1] ^ mult(4, s[3]),\n",
    "    s[2] ^ mult(4, s[0]), s[3] ^ mult(4, s[1])] "
   ]
  },
  {
   "cell_type": "code",
   "execution_count": 8,
   "metadata": {
    "executionInfo": {
     "elapsed": 1608,
     "status": "ok",
     "timestamp": 1620795685269,
     "user": {
      "displayName": "Dhruv Inamdar",
      "photoUrl": "https://lh3.googleusercontent.com/a-/AOh14GiLaX8gRBxu0ricR2DToIydRc-ugAg0vaEn7xmbNg=s64",
      "userId": "17388413836305894064"
     },
     "user_tz": -330
    },
    "id": "WYzW8bnYpJIk"
   },
   "outputs": [],
   "source": [
    "def encrypt(plain_text):\n",
    "\n",
    "    keys = get_key(w)\n",
    "    \n",
    "    state = intToVec(keys[0] ^ plain_text)\n",
    "    \n",
    "    # Round 1\n",
    "    state = nibble_substitution(sBox,state)\n",
    "    state = shiftRow(state)\n",
    "    state = mixCol(state)\n",
    "    \n",
    "    state = addKey(intToVec(keys[1]), state)\n",
    "    \n",
    "    # Round 2\n",
    "    state = nibble_substitution(sBox,state)\n",
    "    state = shiftRow(state)\n",
    "  \n",
    "    state = addKey(intToVec(keys[2]), state) \n",
    "    \n",
    "    return vecToInt(state)"
   ]
  },
  {
   "cell_type": "code",
   "execution_count": 9,
   "metadata": {},
   "outputs": [],
   "source": [
    "def iMixCol(s):\n",
    "    return [mult(9, s[0]) ^ mult(2, s[2]), mult(9, s[1]) ^ mult(2, s[3]),\n",
    "        mult(9, s[2]) ^ mult(2, s[0]), mult(9, s[3]) ^ mult(2, s[1])]"
   ]
  },
  {
   "cell_type": "code",
   "execution_count": 10,
   "metadata": {
    "executionInfo": {
     "elapsed": 1605,
     "status": "ok",
     "timestamp": 1620795685270,
     "user": {
      "displayName": "Dhruv Inamdar",
      "photoUrl": "https://lh3.googleusercontent.com/a-/AOh14GiLaX8gRBxu0ricR2DToIydRc-ugAg0vaEn7xmbNg=s64",
      "userId": "17388413836305894064"
     },
     "user_tz": -330
    },
    "id": "B5vpePW8pJKR"
   },
   "outputs": [],
   "source": [
    "def decrypt(ctext):\n",
    "    state = intToVec(((w[4] << 8) + w[5]) ^ ctext)\n",
    "    state = nibble_substitution(sBoxI, shiftRow(state))\n",
    "    state = iMixCol(addKey(intToVec((w[2] << 8) + w[3]), state))\n",
    "    state = nibble_substitution(sBoxI, shiftRow(state))\n",
    "    \n",
    "    return vecToInt(addKey(intToVec((w[0] << 8) + w[1]), state))"
   ]
  },
  {
   "cell_type": "code",
   "execution_count": 13,
   "metadata": {
    "colab": {
     "base_uri": "https://localhost:8080/"
    },
    "executionInfo": {
     "elapsed": 7694,
     "status": "ok",
     "timestamp": 1620795791110,
     "user": {
      "displayName": "Dhruv Inamdar",
      "photoUrl": "https://lh3.googleusercontent.com/a-/AOh14GiLaX8gRBxu0ricR2DToIydRc-ugAg0vaEn7xmbNg=s64",
      "userId": "17388413836305894064"
     },
     "user_tz": -330
    },
    "id": "9uiEzjGppJOF",
    "outputId": "172bba07-483d-40ae-df99-e673aaeeb89c"
   },
   "outputs": [
    {
     "name": "stdout",
     "output_type": "stream",
     "text": [
      "Enter plaintext (Numeric value < 65536): 4545\n",
      "Enter key (Numeric value): 856\n",
      "Encrypted text:  30512\n",
      "Decrypted text:  4545\n"
     ]
    }
   ],
   "source": [
    "if __name__ == '__main__':\n",
    "\n",
    "    plaintext = int(input(\"Enter plaintext (Numeric value < 65536): \"))\n",
    "    key = int(input(\"Enter key (Numeric value): \"))\n",
    "    keyExp(key)\n",
    "\n",
    "    ciphertext = encrypt(plaintext)\n",
    "    print(\"Encrypted text: \", ciphertext)\n",
    "\n",
    "    dec = decrypt(ciphertext)\n",
    "\n",
    "    print(\"Decrypted text: \", dec)"
   ]
  },
  {
   "cell_type": "code",
   "execution_count": null,
   "metadata": {},
   "outputs": [],
   "source": []
  }
 ],
 "metadata": {
  "colab": {
   "authorship_tag": "ABX9TyNRyF6KVjxJi76CMU2rcs50",
   "name": "BE1_LP3_P1_41118_CS_A2.ipynb",
   "provenance": []
  },
  "kernelspec": {
   "display_name": "Python 3 (ipykernel)",
   "language": "python",
   "name": "python3"
  },
  "language_info": {
   "codemirror_mode": {
    "name": "ipython",
    "version": 3
   },
   "file_extension": ".py",
   "mimetype": "text/x-python",
   "name": "python",
   "nbconvert_exporter": "python",
   "pygments_lexer": "ipython3",
   "version": "3.9.1"
  }
 },
 "nbformat": 4,
 "nbformat_minor": 1
}
