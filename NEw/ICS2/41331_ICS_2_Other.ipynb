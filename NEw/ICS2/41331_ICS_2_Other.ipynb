{
 "cells": [
  {
   "cell_type": "code",
   "execution_count": 4,
   "id": "5133c383",
   "metadata": {},
   "outputs": [],
   "source": [
    "def nibblesubs(N):\n",
    "    n=int(len(N)/2)\n",
    "    left=N[:n]\n",
    "    right=N[n:]\n",
    "    l=\"\"\n",
    "    r=\"\"\n",
    "    for i in range(n):\n",
    "        l=l+str(left[i])\n",
    "        r=r+str(right[i])\n",
    "    \n",
    "    sbox=dict()\n",
    "    sbox['0000']='1001'\n",
    "    sbox['0001']='0100'\n",
    "    sbox['0010']='1010'\n",
    "    sbox['0011']='1011'\n",
    "    sbox['0100']='1101'\n",
    "    sbox['0101']='0001'\n",
    "    sbox['0110']='1000'\n",
    "    sbox['0111']='0101'\n",
    "    sbox['1000']='0110'\n",
    "    sbox['1001']='0010'\n",
    "    sbox['1010']='0000'\n",
    "    sbox['1011']='0011'\n",
    "    sbox['1100']='1100'\n",
    "    sbox['1101']='1110'\n",
    "    sbox['1110']='1111'\n",
    "    sbox['1111']='0111'\n",
    "    s=sbox[l]+sbox[r]\n",
    "    output=list()\n",
    "    \n",
    "    for i in s:\n",
    "        output.append(int(i))\n",
    "    return output"
   ]
  },
  {
   "cell_type": "code",
   "execution_count": 7,
   "id": "87d69e2f",
   "metadata": {},
   "outputs": [],
   "source": [
    "def inversenibblesubs(N):\n",
    "    n=int(len(N)/2)\n",
    "    left=N[:n]\n",
    "    right=N[n:]\n",
    "    l=\"\"\n",
    "    r=\"\"\n",
    "    for i in range(n):\n",
    "        l=l+str(left[i])\n",
    "        r=r+str(right[i])\n",
    "    sbox=dict()\n",
    "    sbox['0000']='1001'\n",
    "    sbox['0001']='0100'\n",
    "    sbox['0010']='1010'\n",
    "    sbox['0011']='1011'\n",
    "    sbox['0100']='1101'\n",
    "    sbox['0101']='0001'\n",
    "    sbox['0110']='1000'\n",
    "    sbox['0111']='0101'\n",
    "    sbox['1000']='0110'\n",
    "    sbox['1001']='0010'\n",
    "    sbox['1010']='0000'\n",
    "    sbox['1011']='0011'\n",
    "    sbox['1100']='1100'\n",
    "    sbox['1101']='1110'\n",
    "    sbox['1110']='1111'\n",
    "    sbox['1111']='0111'\n",
    "    decryptionsbox=dict()\n",
    "    for k,v in sbox.items():\n",
    "        decryptionsbox[v]=k\n",
    "    s=decryptionsbox[l]+decryptionsbox[r]\n",
    "    output=list()\n",
    "    for i in s:\n",
    "        output.append(int(i))\n",
    "    return output"
   ]
  },
  {
   "cell_type": "code",
   "execution_count": 8,
   "id": "a82de19b",
   "metadata": {},
   "outputs": [],
   "source": [
    "def shiftrow(N):\n",
    "    N0=N[:4]\n",
    "    N1=N[4:8]\n",
    "    N2=N[8:12]\n",
    "    N3=N[12:16]\n",
    "    return N0+N3+N2+N1"
   ]
  },
  {
   "cell_type": "code",
   "execution_count": 9,
   "id": "e3afe2a1",
   "metadata": {},
   "outputs": [],
   "source": [
    "def mixcolumns(N):\n",
    "    N0=N[:4]\n",
    "    N1=N[4:8]\n",
    "    N2=N[8:12]\n",
    "    N3=N[12:16]\n",
    "    b=list()\n",
    "    c=list()\n",
    "    for i in range(4):\n",
    "        b.append(N0[i])\n",
    "        c.append(N2[i])\n",
    "    for i in range(4):\n",
    "        b.append(N1[i])\n",
    "        c.append(N3[i])\n",
    "    row1=[b[0]^b[6],b[1]^b[4]^b[7],b[2]^b[4]^b[5],b[3]^b[5],c[0]^c[6],c[1]^c[4]^c[7],c[2]^c[4]^c[5],c[3]^c[5]]\n",
    "    row2=[b[2]^b[4],b[0]^b[3]^b[5],b[0]^b[1]^b[6],b[1]^b[7],c[2]^c[4],c[0]^c[3]^c[5],c[0]^c[1]^c[6],c[1]^c[7]]\n",
    "    N0=row1[:4]\n",
    "    N1=row2[:4]\n",
    "    N2=row1[4:]\n",
    "    N3=row2[4:]\n",
    "    return N0+N1+N2+N3"
   ]
  },
  {
   "cell_type": "code",
   "execution_count": 10,
   "id": "77efb6e9",
   "metadata": {},
   "outputs": [],
   "source": [
    "def rotatenibble(N):\n",
    "    n=int(len(N)/2)\n",
    "    left=N[:n]\n",
    "    right=N[n:]\n",
    "    return right+left"
   ]
  },
  {
   "cell_type": "code",
   "execution_count": 11,
   "id": "b923d449",
   "metadata": {},
   "outputs": [],
   "source": [
    "def exor(a,b):\n",
    "    out=list()\n",
    "    for i in range(len(a)):\n",
    "        out.append(a[i]^b[i])\n",
    "    return out"
   ]
  },
  {
   "cell_type": "code",
   "execution_count": 13,
   "id": "2579272f",
   "metadata": {},
   "outputs": [],
   "source": [
    "def keyschedule(k):\n",
    "    #converting string to list for easy calculations\n",
    "    key=list()\n",
    "    for i in k:\n",
    "        key.append(int(i))\n",
    "    w=list()\n",
    "    w.append(key[:8])\n",
    "    w.append(key[8:])\n",
    "    w.append(exor(exor(w[0],[1,0,0,0,0,0,0,0]),nibblesubs(rotatenibble(w[1]))))\n",
    "    w.append(exor(w[2],w[1]))\n",
    "    w.append(exor(exor(w[2],[0,0,1,1,0,0,0,0]),nibblesubs(rotatenibble(w[3]))))\n",
    "    w.append(exor(w[4],w[3]))\n",
    "    K0=w[0]+w[1]\n",
    "    K1=w[2]+w[3]\n",
    "    K2=w[4]+w[5]\n",
    "    return K0,K1,K2"
   ]
  },
  {
   "cell_type": "code",
   "execution_count": 14,
   "id": "7556ca39",
   "metadata": {},
   "outputs": [],
   "source": [
    "def encryption(K0,K1,K2,text):\n",
    "    t=list()\n",
    "    for i in text:\n",
    "        t.append(int(i))\n",
    "    #Round 0\n",
    "    round0=exor(t,K0)\n",
    "    #Round 1\"\n",
    "    nbsub1=nibblesubs(round0[:8])\n",
    "    nbsub2=nibblesubs(round0[8:])\n",
    "    nbsub=nbsub1+nbsub2\n",
    "    sr=shiftrow(nbsub)\n",
    "    mc=mixcolumns(sr)\n",
    "    round1=exor(mc,K1)\n",
    "    #Round 2\n",
    "    finalnbsub1=nibblesubs(round1[:8])\n",
    "    finalnbsub2=nibblesubs(round1[8:])\n",
    "    finalnbsub=finalnbsub1+finalnbsub2\n",
    "    finalsr=shiftrow(finalnbsub)\n",
    "    ciphertext=exor(finalsr,K2)\n",
    "    return ciphertext"
   ]
  },
  {
   "cell_type": "code",
   "execution_count": 16,
   "id": "be04854d",
   "metadata": {},
   "outputs": [],
   "source": [
    "def getString(l):\n",
    "    s=\"\"\n",
    "    for i in l:\n",
    "        s=s+str(i)\n",
    "    return s"
   ]
  },
  {
   "cell_type": "code",
   "execution_count": 17,
   "id": "a1356992",
   "metadata": {},
   "outputs": [
    {
     "name": "stdout",
     "output_type": "stream",
     "text": [
      "16 bit Key: 0100101011110101\n",
      "16 bit Plaintext: 1101010110101010\n",
      "Ciphertext: 0001010001100101\n"
     ]
    }
   ],
   "source": [
    "k='0100101011110101'\n",
    "plaintext='1101010110101010'\n",
    "Key0,Key1,Key2=keyschedule(k)\n",
    "cipher=encryption(Key0,Key1,Key2,plaintext)\n",
    "ciphertext=getString(cipher)\n",
    "print(\"16 bit Key:\",k)\n",
    "print(\"16 bit Plaintext:\",plaintext)\n",
    "print(\"Ciphertext:\",ciphertext)"
   ]
  }
 ],
 "metadata": {
  "kernelspec": {
   "display_name": "Python 3 (ipykernel)",
   "language": "python",
   "name": "python3"
  },
  "language_info": {
   "codemirror_mode": {
    "name": "ipython",
    "version": 3
   },
   "file_extension": ".py",
   "mimetype": "text/x-python",
   "name": "python",
   "nbconvert_exporter": "python",
   "pygments_lexer": "ipython3",
   "version": "3.9.1"
  }
 },
 "nbformat": 4,
 "nbformat_minor": 5
}
