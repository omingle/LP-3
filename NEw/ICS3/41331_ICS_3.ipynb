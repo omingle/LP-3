{
 "cells": [
  {
   "cell_type": "code",
   "execution_count": 1,
   "metadata": {},
   "outputs": [],
   "source": [
    "import random\n",
    "import math"
   ]
  },
  {
   "cell_type": "code",
   "execution_count": 2,
   "metadata": {
    "colab": {
     "base_uri": "https://localhost:8080/"
    },
    "id": "7J30av8r960F",
    "outputId": "31992d8b-2fba-4caf-d57c-bb1dc83907a8"
   },
   "outputs": [],
   "source": [
    "def generate(n,g):\n",
    "    print(\"Diffie-Hellman Key Exchange\\n\")\n",
    "    \n",
    "    print(\"Modulus chosen:\",n)\n",
    "    print(\"Base chosen:\",g)\n",
    "    \n",
    "    #Choose random numbers\n",
    "    a=random.randint(2,1000)\n",
    "    b=random.randint(2,1000)\n",
    "    \n",
    "    print(\"Number chosen by A:\",a)\n",
    "    print(\"Number chosen by B:\",b)\n",
    "    \n",
    "    print(\"\\nCalculating shared keys for both A and B\\n\")\n",
    "    A=pow(g,a)%n\n",
    "    B=pow(g,b)%n\n",
    "\n",
    "    print(\"A's calculated value:\",A)\n",
    "    print(\"B's calculated value:\",B)\n",
    "\n",
    "    #Exchange calculated values\n",
    "    print(\"\\nExchanging calculated values\\n\")\n",
    "    k1=pow(B,a)%n\n",
    "    k2=pow(A,b)%n\n",
    "    \n",
    "    print(\"A's secret key:\",k1)\n",
    "    print(\"B's secret key:\",k2)"
   ]
  },
  {
   "cell_type": "code",
   "execution_count": 7,
   "metadata": {},
   "outputs": [
    {
     "name": "stdout",
     "output_type": "stream",
     "text": [
      "Diffie-Hellman Key Exchange\n",
      "\n",
      "Modulus chosen: 95\n",
      "Base chosen: 23\n",
      "Number chosen by A: 521\n",
      "Number chosen by B: 697\n",
      "\n",
      "Calculating shared keys for both A and B\n",
      "\n",
      "A's calculated value: 43\n",
      "B's calculated value: 28\n",
      "\n",
      "Exchanging calculated values\n",
      "\n",
      "A's secret key: 93\n",
      "B's secret key: 93\n"
     ]
    }
   ],
   "source": [
    "generate(95,23)"
   ]
  },
  {
   "cell_type": "code",
   "execution_count": null,
   "metadata": {},
   "outputs": [],
   "source": []
  }
 ],
 "metadata": {
  "colab": {
   "name": "I&CS-3.ipynb",
   "provenance": []
  },
  "kernelspec": {
   "display_name": "Python 3 (ipykernel)",
   "language": "python",
   "name": "python3"
  },
  "language_info": {
   "codemirror_mode": {
    "name": "ipython",
    "version": 3
   },
   "file_extension": ".py",
   "mimetype": "text/x-python",
   "name": "python",
   "nbconvert_exporter": "python",
   "pygments_lexer": "ipython3",
   "version": "3.9.1"
  }
 },
 "nbformat": 4,
 "nbformat_minor": 1
}
