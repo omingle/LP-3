{
 "cells": [
  {
   "cell_type": "markdown",
   "metadata": {
    "id": "chpWpCuUGlE2"
   },
   "source": [
    "# Implementation of RSA Algorithm"
   ]
  },
  {
   "cell_type": "code",
   "execution_count": 9,
   "metadata": {},
   "outputs": [],
   "source": [
    "import random\n",
    "import ast"
   ]
  },
  {
   "cell_type": "code",
   "execution_count": 10,
   "metadata": {},
   "outputs": [],
   "source": [
    "def isPrime(n):\n",
    "    if n == 0 or n == 1:\n",
    "        return False\n",
    "\n",
    "    for i in range(2,int(n**0.5)+1):\n",
    "        if n%i==0:\n",
    "            return False\n",
    "        \n",
    "    return True\n",
    "\n",
    "def generate_primes():\n",
    "    primes = [ i for i in range(0, 999) if isPrime(i) ]\n",
    "    return random.choices(primes, k=2)"
   ]
  },
  {
   "cell_type": "code",
   "execution_count": 11,
   "metadata": {},
   "outputs": [],
   "source": [
    "class RSA : \n",
    "    \n",
    "    def __init__(self, p, q):\n",
    "        self.p = p\n",
    "        self.q = q\n",
    "        self.N = p * q\n",
    "        self.product = (p - 1) * (q - 1)\n",
    "        self.generate_keys()\n",
    "    # (N, E) (N, D)\n",
    "    def generate_keys(self) :\n",
    "        for i in range(1, 999999) :\n",
    "            if (self.product % i != 0):\n",
    "                self.E = i                \n",
    "                break\n",
    "\n",
    "        for i in range(1,self.product-1):\n",
    "            if(((i * self.E) % self.product) == 1):\n",
    "                self.D = i\n",
    "                break\n",
    "\n",
    "        print('Encryption Key : {}'.format(self.E))\n",
    "        print('Decryption Key : {}'.format(self.D))\n",
    "    \n",
    "    def encrypt(self, text) :\n",
    "#         pt = []\n",
    "#         ct = []\n",
    "#         for i in text:\n",
    "#             pt.append(ord(i))\n",
    "    \n",
    "#         for i in pt:\n",
    "#             ct.append((i ** self.E) % self.N)\n",
    "        \n",
    "        ct = (int(text) ** self.E) % self.N\n",
    "\n",
    "        return ct\n",
    "\n",
    "    def decrypt(self, cipher) :\n",
    "#         dt = []\n",
    "#         for i in cipher:\n",
    "#             dt.append(chr(((i ** self.D) % self.N)))\n",
    "\n",
    "#         return ''.join(dt)\n",
    "\n",
    "        dt = (int(cipher) ** self.D) % self.N\n",
    "        \n",
    "        return dt"
   ]
  },
  {
   "cell_type": "code",
   "execution_count": 12,
   "metadata": {},
   "outputs": [
    {
     "name": "stdout",
     "output_type": "stream",
     "text": [
      "Enter p : 17\n",
      "Enter q : 29\n",
      "Generated Primes are p = 17, q = 29\n",
      "Encryption Key : 3\n",
      "Decryption Key : 299\n",
      "Enter text to encrypt : 10\n",
      "Encrypted text : 14\n",
      "Descrypted Message : 10\n"
     ]
    }
   ],
   "source": [
    "if __name__ ==  \"__main__\" :\n",
    "    p = int(input('Enter p : '))\n",
    "    q = int(input('Enter q : '))\n",
    "\n",
    "    print('Generated Primes are p = {}, q = {}'.format(p,q))\n",
    "    rsa = RSA(p, q)\n",
    "\n",
    "    text = input('Enter text to encrypt : ')\n",
    "\n",
    "    ct = rsa.encrypt(text)\n",
    "    \n",
    "    print('Encrypted text : {}'.format(ct))\n",
    "\n",
    "    decrypted_text = rsa.decrypt(ct)\n",
    "\n",
    "    print('Descrypted Message : {}'.format(decrypted_text))"
   ]
  },
  {
   "cell_type": "code",
   "execution_count": null,
   "metadata": {},
   "outputs": [],
   "source": []
  }
 ],
 "metadata": {
  "colab": {
   "name": "I&CS-4.ipynb",
   "provenance": []
  },
  "kernelspec": {
   "display_name": "Python 3 (ipykernel)",
   "language": "python",
   "name": "python3"
  },
  "language_info": {
   "codemirror_mode": {
    "name": "ipython",
    "version": 3
   },
   "file_extension": ".py",
   "mimetype": "text/x-python",
   "name": "python",
   "nbconvert_exporter": "python",
   "pygments_lexer": "ipython3",
   "version": "3.9.1"
  }
 },
 "nbformat": 4,
 "nbformat_minor": 1
}
