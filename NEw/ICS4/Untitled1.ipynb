{
 "cells": [
  {
   "cell_type": "code",
   "execution_count": 2,
   "id": "1c35c064",
   "metadata": {},
   "outputs": [],
   "source": [
    "import random"
   ]
  },
  {
   "cell_type": "code",
   "execution_count": 3,
   "id": "76a8043b",
   "metadata": {},
   "outputs": [],
   "source": [
    "def isPrime(n):\n",
    "    if n==0 or n==1:\n",
    "        return False\n",
    "    \n",
    "    r = int(n/2)\n",
    "    \n",
    "    for i in range(2, r):\n",
    "        if(n%i == 0):\n",
    "            return False\n",
    "        \n",
    "    return True"
   ]
  },
  {
   "cell_type": "code",
   "execution_count": 4,
   "id": "65e8b73e",
   "metadata": {},
   "outputs": [],
   "source": [
    "def generatePrimes():\n",
    "    primes = [i for i in range(1, 999) if isPrime(i)]\n",
    "    \n",
    "    return random.choices(primes, k=2)"
   ]
  },
  {
   "cell_type": "code",
   "execution_count": 7,
   "id": "c212e4af",
   "metadata": {},
   "outputs": [],
   "source": [
    "class RSA:\n",
    "    def __init__(self, p, q):\n",
    "        self.p = p\n",
    "        self.q = q\n",
    "        self.N = p * q\n",
    "        self.product = (p-1) * (q-1)\n",
    "        self.generateKeys()\n",
    "        \n",
    "    def generateKeys(self):\n",
    "        \n",
    "        for i in range(1, 999999):\n",
    "            if(self.product % i != 0):\n",
    "                self.E = i\n",
    "                break\n",
    "                \n",
    "        for i in range(1, self.product-1):\n",
    "            if((i*self.E) % self.product == 1):\n",
    "                self.D = i\n",
    "                break\n",
    "                \n",
    "        print(\"Encryption Key (N, E): (\", self.N, \", \", self.E, \")\")\n",
    "        print(\"Decryption Key (N, D): (\", self.N, \", \", self.D, \")\")\n",
    "        \n",
    "    \n",
    "    def encrypt(self, plaintext):\n",
    "        \n",
    "        pt = []\n",
    "        ct = []\n",
    "        \n",
    "        for i in plaintext:\n",
    "            pt.append(ord(i))\n",
    "            \n",
    "        for i in pt:\n",
    "            ct.append((i**self.E)%self.N)\n",
    "            \n",
    "        return ct\n",
    "    \n",
    "    def decrypt(self, ciphertext):\n",
    "        dt = []\n",
    "        \n",
    "        for i in ciphertext:\n",
    "            dt.append(chr((i**self.D)%self.N))\n",
    "            \n",
    "        return ''.join(dt)\n",
    "    \n",
    "    \n",
    "    def encrypt_2(self, plaintext):\n",
    "        ct = (int(plaintext)**self.E) % self.N\n",
    "        \n",
    "        return ct\n",
    "    \n",
    "    def decrypt_2(self, ciphertext):\n",
    "        dt = (int(ciphertext)**self.D) % self.N\n",
    "        \n",
    "        return dt"
   ]
  },
  {
   "cell_type": "code",
   "execution_count": 9,
   "id": "b71af184",
   "metadata": {},
   "outputs": [
    {
     "name": "stdout",
     "output_type": "stream",
     "text": [
      "Enter P: 17\n",
      "Enter Q: 29\n",
      "----------------------------------\n",
      "Encryption Key (N, E): ( 493 ,  3 )\n",
      "Decryption Key (N, D): ( 493 ,  299 )\n",
      "----------------------------------\n",
      "Enter the Plaintext: 10\n",
      "----------------------------------\n",
      "Encrypted Ciphertext :  [315, 160]\n",
      "Decrypted Text:  10\n",
      "----------------------------------\n",
      "Encrypted Ciphertext :  14\n",
      "Decrypted Text:  10\n"
     ]
    }
   ],
   "source": [
    "if __name__ == \"__main__\":\n",
    "    \n",
    "#     p, q = generatePrimes()\n",
    "#     print(\"Generated Primes are:\\nP = \", p, \"\\nQ = \", q)\n",
    "\n",
    "    p = int(input(\"Enter P: \"))\n",
    "    q = int(input(\"Enter Q: \"))\n",
    "    \n",
    "    print(\"----------------------------------\")\n",
    "\n",
    "    rsa = RSA(p, q)\n",
    "\n",
    "    print(\"----------------------------------\")\n",
    "\n",
    "    pt = input(\"Enter the Plaintext: \")\n",
    "\n",
    "    print(\"----------------------------------\")\n",
    "\n",
    "    ct = rsa.encrypt(pt)\n",
    "\n",
    "    print(\"Encrypted Ciphertext : \", ct)\n",
    "\n",
    "    dt = rsa.decrypt(ct)\n",
    "\n",
    "    print(\"Decrypted Text: \", dt)\n",
    "\n",
    "\n",
    "    print(\"----------------------------------\")\n",
    "\n",
    "    ct2 = rsa.encrypt_2(pt)\n",
    "\n",
    "    print(\"Encrypted Ciphertext : \", ct2)\n",
    "\n",
    "    dt2 = rsa.decrypt_2(ct2)\n",
    "\n",
    "    print(\"Decrypted Text: \", dt2)\n",
    "    "
   ]
  },
  {
   "cell_type": "code",
   "execution_count": null,
   "id": "8bb36ade",
   "metadata": {},
   "outputs": [],
   "source": []
  }
 ],
 "metadata": {
  "kernelspec": {
   "display_name": "Python 3 (ipykernel)",
   "language": "python",
   "name": "python3"
  },
  "language_info": {
   "codemirror_mode": {
    "name": "ipython",
    "version": 3
   },
   "file_extension": ".py",
   "mimetype": "text/x-python",
   "name": "python",
   "nbconvert_exporter": "python",
   "pygments_lexer": "ipython3",
   "version": "3.9.1"
  }
 },
 "nbformat": 4,
 "nbformat_minor": 5
}
