{
 "cells": [
  {
   "cell_type": "code",
   "execution_count": 1,
   "id": "c844222a",
   "metadata": {},
   "outputs": [],
   "source": [
    "import pandas as pd\n",
    "import numpy as np\n",
    "import matplotlib.pyplot as plt"
   ]
  },
  {
   "cell_type": "code",
   "execution_count": 7,
   "id": "eebf291c",
   "metadata": {},
   "outputs": [
    {
     "data": {
      "image/png": "[encoded data removed]",
      "text/plain": [
       "<Figure size 432x288 with 1 Axes>"
      ]
     },
     "metadata": {
      "needs_background": "light"
     },
     "output_type": "display_data"
    }
   ],
   "source": [
    "X_driving_hours = [10, 9, 2, 15, 10, 16, 11, 16]\n",
    "y_risk_score = [95, 80, 10, 50, 45, 98, 38, 93]\n",
    "\n",
    "plt.plot(X_driving_hours, y_risk_score, \"o\")\n",
    "plt.xlabel(\"Number of Hours spent driving (x)\")\n",
    "plt.ylabel(\"Risk score on a scale of 0-100 (y)\")\n",
    "\n",
    "plt.show()"
   ]
  },
  {
   "cell_type": "code",
   "execution_count": 8,
   "id": "c59ebb37",
   "metadata": {},
   "outputs": [],
   "source": [
    "def mean(values):\n",
    "    return sum(values)/float(len(values))"
   ]
  },
  {
   "cell_type": "code",
   "execution_count": 9,
   "id": "626418d1",
   "metadata": {},
   "outputs": [],
   "source": [
    "def variance(values, mean):\n",
    "    return sum([(x-mean)**2 for x in values])"
   ]
  },
  {
   "cell_type": "code",
   "execution_count": 10,
   "id": "d6a58346",
   "metadata": {},
   "outputs": [],
   "source": [
    "def covariance(x, x_mean, y, y_mean):\n",
    "    cv = 0.0\n",
    "    \n",
    "    for i in range(len(x)):\n",
    "        cv += (x[i] - x_mean) * (y[i] - y_mean)\n",
    "        \n",
    "    return cv"
   ]
  },
  {
   "cell_type": "code",
   "execution_count": 16,
   "id": "b81f11ce",
   "metadata": {},
   "outputs": [],
   "source": [
    "def find_coefficients(x, y):\n",
    "    x_mean = mean(x)\n",
    "    y_mean = mean(y)\n",
    "    \n",
    "    b1 = covariance(x, x_mean, y, y_mean) / variance(x, x_mean)\n",
    "    b0 = y_mean - b1 * x_mean\n",
    "    \n",
    "    return [b0, b1]"
   ]
  },
  {
   "cell_type": "code",
   "execution_count": 23,
   "id": "0be7655d",
   "metadata": {},
   "outputs": [
    {
     "name": "stdout",
     "output_type": "stream",
     "text": [
      "Coefficents are :\n",
      "B0 = 12.585 \n",
      "B1 = 4.588\n"
     ]
    }
   ],
   "source": [
    "b0, b1 = find_coefficients(X_driving_hours, y_risk_score)\n",
    "print(\"Coefficents are :\\nB0 = %.3f \\nB1 = %.3f\" % (b0, b1))"
   ]
  },
  {
   "cell_type": "code",
   "execution_count": 27,
   "id": "49cc2e3b",
   "metadata": {},
   "outputs": [
    {
     "name": "stdout",
     "output_type": "stream",
     "text": [
      "The equation of the best fit line (y = b0 + b1x) is : y = 12.585 + 4.588x\n"
     ]
    }
   ],
   "source": [
    "print(\"The equation of the best fit line (y = b0 + b1x) is : y = %.3f + %.3fx\" %(b0, b1))"
   ]
  },
  {
   "cell_type": "code",
   "execution_count": 29,
   "id": "fc0fe3eb",
   "metadata": {},
   "outputs": [],
   "source": [
    "# Checking if coefficients are correct or not\n",
    "\n",
    "from sklearn.linear_model import LinearRegression\n",
    "\n",
    "X = np.array(X_driving_hours).reshape(-1, 1)\n",
    "y = np.array(y_risk_score).reshape(-1, 1)\n",
    "\n",
    "lr = LinearRegression().fit(X, y)"
   ]
  },
  {
   "cell_type": "code",
   "execution_count": 30,
   "id": "82a5666c",
   "metadata": {},
   "outputs": [
    {
     "data": {
      "text/plain": [
       "array([[4.58789861]])"
      ]
     },
     "execution_count": 30,
     "metadata": {},
     "output_type": "execute_result"
    }
   ],
   "source": [
    "lr.coef_"
   ]
  },
  {
   "cell_type": "code",
   "execution_count": 31,
   "id": "0cf2208d",
   "metadata": {},
   "outputs": [
    {
     "data": {
      "text/plain": [
       "array([12.58462796])"
      ]
     },
     "execution_count": 31,
     "metadata": {},
     "output_type": "execute_result"
    }
   ],
   "source": [
    "lr.intercept_"
   ]
  },
  {
   "cell_type": "code",
   "execution_count": 43,
   "id": "bf9610c1",
   "metadata": {},
   "outputs": [],
   "source": [
    "def abline(intercept, slope):\n",
    "    axes = plt.gca()\n",
    "    xvals = np.array(axes.get_xlim())\n",
    "    yvals = intercept + slope * xvals\n",
    "    \n",
    "    plt.plot(xvals, yvals, \"--\")"
   ]
  },
  {
   "cell_type": "code",
   "execution_count": 44,
   "id": "c4ec145d",
   "metadata": {},
   "outputs": [
    {
     "data": {
      "image/png": "[encoded data removed]",
      "text/plain": [
       "<Figure size 432x288 with 1 Axes>"
      ]
     },
     "metadata": {
      "needs_background": "light"
     },
     "output_type": "display_data"
    }
   ],
   "source": [
    "plt.plot(X_driving_hours, y_risk_score, \"o\")\n",
    "abline(b0, b1)"
   ]
  },
  {
   "cell_type": "code",
   "execution_count": 50,
   "id": "989b7ecb",
   "metadata": {},
   "outputs": [],
   "source": [
    "# Prediction\n",
    "\n",
    "def linear_regression(X_train, y_train, X_test):\n",
    "    predictions = list()\n",
    "    \n",
    "    b0, b1 = find_coefficients(X_train, y_train)\n",
    "    \n",
    "    for row in X_test:\n",
    "        y_pred = b0 + b1 * row\n",
    "        predictions.append(y_pred)\n",
    "        \n",
    "    return predictions"
   ]
  },
  {
   "cell_type": "code",
   "execution_count": 52,
   "id": "c76ec92c",
   "metadata": {},
   "outputs": [
    {
     "name": "stdout",
     "output_type": "stream",
     "text": [
      "Enter the number of predictions required: 3\n",
      "3\n",
      "7\n",
      "14\n"
     ]
    },
    {
     "data": {
      "text/plain": [
       "[26.348323793949305, 44.699918233851186, 76.81520850367949]"
      ]
     },
     "execution_count": 52,
     "metadata": {},
     "output_type": "execute_result"
    }
   ],
   "source": [
    "n = int(input(\"Enter the number of predictions required: \"))\n",
    "\n",
    "res = []\n",
    "\n",
    "for i in range(n):\n",
    "    ele = int(input())\n",
    "    res.append(ele)\n",
    "    \n",
    "predictions = linear_regression(X_driving_hours, y_risk_score, res)\n",
    "\n",
    "predictions"
   ]
  },
  {
   "cell_type": "code",
   "execution_count": 63,
   "id": "e5af8139",
   "metadata": {},
   "outputs": [],
   "source": [
    "# Calculate RMSE\n",
    "\n",
    "from math import sqrt\n",
    "\n",
    "def calc_rmse(actual, prediction):\n",
    "    sum_err = 0.0\n",
    "    \n",
    "    for i in range(len(actual)):\n",
    "        pred_err = prediction[i] - actual[i]\n",
    "        sum_err += (pred_err ** 2)\n",
    "    \n",
    "    mean_err = sum_err / float(len(actual))\n",
    "        \n",
    "    return sqrt(mean_err)"
   ]
  },
  {
   "cell_type": "code",
   "execution_count": 77,
   "id": "27b6d9c3",
   "metadata": {},
   "outputs": [
    {
     "name": "stdout",
     "output_type": "stream",
     "text": [
      "Root Mean Squared Error (RMSE):  29.547856861944695\n"
     ]
    }
   ],
   "source": [
    "# Splitting the data\n",
    "from sklearn.model_selection import train_test_split\n",
    "\n",
    "X_train, X_test, y_train, y_test = train_test_split(X_driving_hours, y_risk_score, test_size= 1/3, random_state=0)\n",
    "\n",
    "pred = linear_regression(X_train, y_train, X_test)\n",
    "rmse = calc_rmse(y_test, pred)\n",
    "\n",
    "print(\"Root Mean Squared Error (RMSE): \", rmse)"
   ]
  },
  {
   "cell_type": "code",
   "execution_count": 78,
   "id": "da1a2b99",
   "metadata": {},
   "outputs": [
    {
     "data": {
      "image/png": "[encoded data removed]",
      "text/plain": [
       "<Figure size 432x288 with 1 Axes>"
      ]
     },
     "metadata": {
      "needs_background": "light"
     },
     "output_type": "display_data"
    }
   ],
   "source": [
    "plt.plot(X_train, y_train, \"bo\")\n",
    "plt.plot(X_test, y_test, \"ro\")\n",
    "plt.plot(X_test, pred, \"y\")\n",
    "\n",
    "plt.plot()\n",
    "\n",
    "abline(b0, b1)\n",
    "plt.show()"
   ]
  },
  {
   "cell_type": "code",
   "execution_count": null,
   "id": "7de8333f",
   "metadata": {},
   "outputs": [],
   "source": []
  }
 ],
 "metadata": {
  "kernelspec": {
   "display_name": "Python 3 (ipykernel)",
   "language": "python",
   "name": "python3"
  },
  "language_info": {
   "codemirror_mode": {
    "name": "ipython",
    "version": 3
   },
   "file_extension": ".py",
   "mimetype": "text/x-python",
   "name": "python",
   "nbconvert_exporter": "python",
   "pygments_lexer": "ipython3",
   "version": "3.9.1"
  }
 },
 "nbformat": 4,
 "nbformat_minor": 5
}
