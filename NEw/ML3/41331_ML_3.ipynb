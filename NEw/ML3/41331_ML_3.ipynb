{
 "cells": [
  {
   "cell_type": "markdown",
   "metadata": {
    "id": "bYRROTfglvmr"
   },
   "source": [
    "## K-NN Classification Implementation"
   ]
  },
  {
   "cell_type": "markdown",
   "metadata": {},
   "source": [
    "In the following diagram let blue circles indicate positive examples and orange squares indicate negative examples. We want to use k-NN algorithm for classifying the points. If k=3, find the class of the point (6,6). Extend the same example for Distance-Weighted k-NN and Locally weighted Averaging."
   ]
  },
  {
   "cell_type": "code",
   "execution_count": 16,
   "metadata": {},
   "outputs": [],
   "source": [
    "import math\n",
    "import pandas as pd\n",
    "import warnings\n",
    "warnings.filterwarnings('ignore')"
   ]
  },
  {
   "cell_type": "code",
   "execution_count": 17,
   "metadata": {},
   "outputs": [],
   "source": [
    "xdata=[2,4,4,4,6,6]\n",
    "ydata=[4,2,4,6,2,4]\n",
    "res  =[0,0,1,0,1,0]"
   ]
  },
  {
   "cell_type": "code",
   "execution_count": 18,
   "metadata": {
    "colab": {
     "base_uri": "https://localhost:8080/",
     "height": 0
    },
    "id": "hVLyRt8GZFfL",
    "outputId": "4baf4ffe-1bd9-48f3-bb39-1c94d0bfd3f1"
   },
   "outputs": [],
   "source": [
    "def knn_classification(xtest, ytest):\n",
    "    for i in range(len(xtest)):\n",
    "        for j in range(len(xtrain)):\n",
    "            xd=(xtest[i]-xtrain[j])**2\n",
    "            yd=(ytest[i]-ytrain[j])**2\n",
    "            d=math.sqrt(xd+yd)\n",
    "            row=(xtest[i],ytest[i],xtrain[j],ytrain[j],trainclass[j],d)\n",
    "            distances.append(row)\n",
    "    \n",
    "        l=[x[5] for x in distances if distances[0]==xtest[0] and distances[1]==ytest[0]]\n",
    "        l.sort()\n",
    "        \n",
    "        topclasses=list(l)\n",
    "        topclasses=topclasses[:k]\n",
    "        pos=topclasses.count(1)\n",
    "        neg=topclasses.count(0)\n",
    "    \n",
    "        cl=-1\n",
    "        if pos>=neg:\n",
    "            cl=1\n",
    "        else:\n",
    "            cl=0\n",
    "        \n",
    "        predclass.append(cl)\n",
    "        print(\"Prediction for (\"+str(xtest[i])+\",\"+str(ytest[i])+\"):\",cl)"
   ]
  },
  {
   "cell_type": "code",
   "execution_count": 19,
   "metadata": {},
   "outputs": [
    {
     "name": "stdout",
     "output_type": "stream",
     "text": [
      "Prediction for (6,2): 1\n",
      "Prediction for (6,4): 1\n"
     ]
    }
   ],
   "source": [
    "k=3\n",
    "predclass=list()\n",
    "distances=list()\n",
    "\n",
    "xtrain=xdata[:4]\n",
    "ytrain=ydata[:4]\n",
    "xtest=xdata[4:]\n",
    "ytest=ydata[4:]\n",
    "\n",
    "trainclass=res[:4]\n",
    "testclass=res[4:]\n",
    "\n",
    "knn_classification(xtest, ytest)"
   ]
  },
  {
   "cell_type": "code",
   "execution_count": 20,
   "metadata": {},
   "outputs": [
    {
     "name": "stdout",
     "output_type": "stream",
     "text": [
      "Accuracy Score: 0.5\n"
     ]
    }
   ],
   "source": [
    "hit=0\n",
    "for i in range(len(testclass)):\n",
    "    if testclass[i]==predclass[i]:\n",
    "        hit=hit+1\n",
    "\n",
    "n=len(testclass)\n",
    "acc=hit/n\n",
    "print(\"Accuracy Score:\",acc)"
   ]
  },
  {
   "cell_type": "markdown",
   "metadata": {
    "id": "ZxT_O8t6l1VT"
   },
   "source": [
    "K-NN Classification for (6,6)"
   ]
  },
  {
   "cell_type": "code",
   "execution_count": 21,
   "metadata": {
    "colab": {
     "base_uri": "https://localhost:8080/",
     "height": 0
    },
    "id": "hGwrNViykXlH",
    "outputId": "6b9e3e52-65c0-458e-85d9-e600472d2347"
   },
   "outputs": [
    {
     "name": "stdout",
     "output_type": "stream",
     "text": [
      "Prediction for (6,6): Can be 0 or 1\n"
     ]
    }
   ],
   "source": [
    "xtest=[6]\n",
    "ytest=[6]\n",
    "k=3\n",
    "distances=list()\n",
    "\n",
    "for i in range(len(xtest)):\n",
    "    for j in range(len(xtrain)):\n",
    "        xd=(xtest[i]-xtrain[j])**2\n",
    "        yd=(ytest[i]-ytrain[j])**2\n",
    "        d=math.sqrt(xd+yd)\n",
    "        row=(xtest[i],ytest[i],xtrain[j],ytrain[j],trainclass[j],d)\n",
    "    distances.append(row)\n",
    "\n",
    "    l=[x[5] for x in distances if distances[0]==xtest[0] and distances[1]==ytest[0]]\n",
    "    l.sort()\n",
    "    \n",
    "    topclasses=list(l)    \n",
    "    topclasses=topclasses[:k]\n",
    "    pos=topclasses.count(1)\n",
    "    neg=topclasses.count(0) \n",
    "    \n",
    "    cl=-1\n",
    "    if pos>neg:\n",
    "        cl=1\n",
    "    elif pos<neg:\n",
    "        cl=0\n",
    "    else:\n",
    "        cl=\"Can be 0 or 1\"\n",
    "\n",
    "    print(\"Prediction for (\"+str(xtest[i])+\",\"+str(ytest[i])+\"):\",cl)"
   ]
  },
  {
   "cell_type": "markdown",
   "metadata": {
    "id": "NYU-9DQAl9Kl"
   },
   "source": [
    "Weighted K-NN Classification"
   ]
  },
  {
   "cell_type": "code",
   "execution_count": 22,
   "metadata": {},
   "outputs": [],
   "source": [
    "import math\n",
    "\n",
    "xdata=[2,4,4,4,6,6]\n",
    "ydata=[4,2,4,6,2,4]\n",
    "res  =[0,0,1,0,1,0]\n",
    "\n",
    "data=[[2,4,0],[4,2,0],[4,4,1],[4,6,0],[6,2,1],[6,4,0]]\n",
    "df=pd.DataFrame(data,columns=['X-Coordinate','Y-Coordinate','Class'])\n",
    "\n",
    "xtrain=xdata[:4]\n",
    "ytrain=ydata[:4]\n",
    "xtest=xdata[4:]\n",
    "ytest=ydata[4:]\n",
    "trainclass=res[:4]\n",
    "testclass=res[4:]"
   ]
  },
  {
   "cell_type": "code",
   "execution_count": 23,
   "metadata": {
    "colab": {
     "base_uri": "https://localhost:8080/",
     "height": 0
    },
    "id": "UZZtlkJ_l8rK",
    "outputId": "c1b6b14e-48cb-415e-dfb8-1ca80bcf3307"
   },
   "outputs": [
    {
     "name": "stdout",
     "output_type": "stream",
     "text": [
      "Prediction for (6,2): 0\n",
      "Prediction for (6,4): 0\n",
      "Accuracy Score: 0.5\n"
     ]
    }
   ],
   "source": [
    "k=3\n",
    "predclass=list()\n",
    "distances=list()\n",
    "for i in range(len(xtest)):\n",
    "    for j in range(len(xtrain)):\n",
    "        xd=(xtest[i]-xtrain[j])**2\n",
    "        yd=(ytest[i]-ytrain[j])**2\n",
    "        d=math.sqrt(xd+yd)\n",
    "        row=(d,trainclass[j])\n",
    "        distances.append(row)\n",
    "    distances = sorted(distances)[:k] \n",
    "\n",
    "    freq1=0\n",
    "    freq2=0\n",
    "\n",
    "    for d in distances:\n",
    "        if d[1]==0:\n",
    "            freq1=freq1+(1/d[0])\n",
    "        else:\n",
    "            freq2=freq2+(1/d[0])\n",
    "    \n",
    "    if freq1>freq2:\n",
    "        cl=0\n",
    "    else:\n",
    "        cl=1\n",
    "        \n",
    "    predclass.append(cl)\n",
    "    print(\"Prediction for (\"+str(xtest[i])+\",\"+str(ytest[i])+\"):\",cl)\n",
    "\n",
    "hit=0\n",
    "for i in range(len(testclass)):\n",
    "    if testclass[i]==predclass[i]:\n",
    "        hit=hit+1\n",
    "\n",
    "n=len(testclass)\n",
    "acc=hit/n\n",
    "print(\"Accuracy Score:\",acc)"
   ]
  },
  {
   "cell_type": "markdown",
   "metadata": {
    "id": "sC9xM0bppBqa"
   },
   "source": [
    "Weighted K-NN Classification for (6,6)"
   ]
  },
  {
   "cell_type": "code",
   "execution_count": 24,
   "metadata": {
    "colab": {
     "base_uri": "https://localhost:8080/",
     "height": 0
    },
    "id": "2VvoeDk3oupt",
    "outputId": "a8da4faf-aaef-4526-961a-a83c7bc85874"
   },
   "outputs": [
    {
     "name": "stdout",
     "output_type": "stream",
     "text": [
      "0.7236067977499789 0.35355339059327373\n",
      "Prediction for (6,6): 0\n"
     ]
    }
   ],
   "source": [
    "xtest=[6]\n",
    "ytest=[6]\n",
    "k=3\n",
    "distances=list()\n",
    "for i in range(len(xtest)):\n",
    "    for j in range(len(xtrain)):\n",
    "        xd=(xtest[i]-xtrain[j])**2\n",
    "        yd=(ytest[i]-ytrain[j])**2\n",
    "        d=math.sqrt(xd+yd)\n",
    "        row=(d,trainclass[j])\n",
    "        distances.append(row)\n",
    "    distances = sorted(distances)[:k] \n",
    "    \n",
    "    freq1=0\n",
    "    freq2=0\n",
    "    \n",
    "    for d in distances:\n",
    "        if d[1]==0:\n",
    "            freq1=freq1+(1/d[0])\n",
    "        else:\n",
    "            freq2=freq2+(1/d[0])\n",
    "    \n",
    "    if freq1>freq2:\n",
    "        cl=0\n",
    "    else:\n",
    "        cl=1\n",
    "        \n",
    "    print(freq1,freq2)\n",
    "    print(\"Prediction for (\"+str(xtest[i])+\",\"+str(ytest[i])+\"):\",cl)"
   ]
  },
  {
   "cell_type": "markdown",
   "metadata": {
    "id": "0kncpHWlpVuV"
   },
   "source": [
    "K-NN Classification using Scikit-learn"
   ]
  },
  {
   "cell_type": "code",
   "execution_count": 25,
   "metadata": {
    "colab": {
     "base_uri": "https://localhost:8080/",
     "height": 227
    },
    "id": "XFq8xdI_OWD4",
    "outputId": "5d2e1176-05c6-4bc3-edc9-7f28774e39e6"
   },
   "outputs": [
    {
     "data": {
      "text/html": [
       "<div>\n",
       "<style scoped>\n",
       "    .dataframe tbody tr th:only-of-type {\n",
       "        vertical-align: middle;\n",
       "    }\n",
       "\n",
       "    .dataframe tbody tr th {\n",
       "        vertical-align: top;\n",
       "    }\n",
       "\n",
       "    .dataframe thead th {\n",
       "        text-align: right;\n",
       "    }\n",
       "</style>\n",
       "<table border=\"1\" class=\"dataframe\">\n",
       "  <thead>\n",
       "    <tr style=\"text-align: right;\">\n",
       "      <th></th>\n",
       "      <th>X-Coordinate</th>\n",
       "      <th>Y-Coordinate</th>\n",
       "      <th>Class</th>\n",
       "    </tr>\n",
       "  </thead>\n",
       "  <tbody>\n",
       "    <tr>\n",
       "      <th>0</th>\n",
       "      <td>2</td>\n",
       "      <td>4</td>\n",
       "      <td>0</td>\n",
       "    </tr>\n",
       "    <tr>\n",
       "      <th>1</th>\n",
       "      <td>4</td>\n",
       "      <td>2</td>\n",
       "      <td>0</td>\n",
       "    </tr>\n",
       "    <tr>\n",
       "      <th>2</th>\n",
       "      <td>4</td>\n",
       "      <td>4</td>\n",
       "      <td>1</td>\n",
       "    </tr>\n",
       "    <tr>\n",
       "      <th>3</th>\n",
       "      <td>4</td>\n",
       "      <td>6</td>\n",
       "      <td>0</td>\n",
       "    </tr>\n",
       "    <tr>\n",
       "      <th>4</th>\n",
       "      <td>6</td>\n",
       "      <td>2</td>\n",
       "      <td>1</td>\n",
       "    </tr>\n",
       "    <tr>\n",
       "      <th>5</th>\n",
       "      <td>6</td>\n",
       "      <td>4</td>\n",
       "      <td>0</td>\n",
       "    </tr>\n",
       "  </tbody>\n",
       "</table>\n",
       "</div>"
      ],
      "text/plain": [
       "   X-Coordinate  Y-Coordinate  Class\n",
       "0             2             4      0\n",
       "1             4             2      0\n",
       "2             4             4      1\n",
       "3             4             6      0\n",
       "4             6             2      1\n",
       "5             6             4      0"
      ]
     },
     "execution_count": 25,
     "metadata": {},
     "output_type": "execute_result"
    }
   ],
   "source": [
    "import pandas as pd\n",
    "\n",
    "data=[[2,4,0],[4,2,0],[4,4,1],[4,6,0],[6,2,1],[6,4,0]]\n",
    "df=pd.DataFrame(data,columns=['X-Coordinate','Y-Coordinate','Class'])\n",
    "df\n",
    "\n",
    "#1 indicates Positive Samples and 0 indicates negative samples"
   ]
  },
  {
   "cell_type": "code",
   "execution_count": 26,
   "metadata": {},
   "outputs": [],
   "source": [
    "import numpy as np\n",
    "from sklearn.model_selection import train_test_split\n",
    "from sklearn.neighbors import KNeighborsClassifier\n",
    "from sklearn.metrics import accuracy_score"
   ]
  },
  {
   "cell_type": "code",
   "execution_count": 27,
   "metadata": {
    "colab": {
     "base_uri": "https://localhost:8080/",
     "height": 0
    },
    "id": "IDk6l7gxQwUj",
    "outputId": "e398e505-3d65-4184-814f-58679f6a0cd5"
   },
   "outputs": [
    {
     "name": "stdout",
     "output_type": "stream",
     "text": [
      "Accuracy: 0.5\n",
      "Prediction for sample (6,6): [0]\n"
     ]
    }
   ],
   "source": [
    "X=df.drop('Class',axis=1)\n",
    "y=df.Class\n",
    "\n",
    "X_train, X_test, y_train, y_test = train_test_split(X,y,test_size=0.2,random_state=42)\n",
    "\n",
    "knn = KNeighborsClassifier(n_neighbors=3)\n",
    "knn.fit(X_train,y_train)\n",
    "\n",
    "ypred1 = knn.predict(X_test)\n",
    "accuracy1=accuracy_score(ypred1,y_test)\n",
    "print(\"Accuracy:\",accuracy_score(ypred1,y_test))\n",
    "\n",
    "test=np.array([6,6])\n",
    "pred=knn.predict(test.reshape(1,-1))\n",
    "print(\"Prediction for sample (6,6):\",pred)"
   ]
  },
  {
   "cell_type": "markdown",
   "metadata": {
    "id": "eLoaUdPepbHo"
   },
   "source": [
    "Weighted K-NN Classification for K-NN"
   ]
  },
  {
   "cell_type": "code",
   "execution_count": 28,
   "metadata": {
    "colab": {
     "base_uri": "https://localhost:8080/",
     "height": 0
    },
    "id": "G8tL32hiTJRg",
    "outputId": "bf5ae0ff-f3b5-4924-e03d-0926736aa78d"
   },
   "outputs": [
    {
     "name": "stdout",
     "output_type": "stream",
     "text": [
      "Accuracy: 1.0\n",
      "Prediction for sample (6,6): [0]\n"
     ]
    }
   ],
   "source": [
    "distanceknn = KNeighborsClassifier(n_neighbors=3,weights='distance')\n",
    "distanceknn.fit(X,y)\n",
    "\n",
    "ypred2 = distanceknn.predict(X_test)\n",
    "accuracy2=accuracy_score(ypred2,y_test)\n",
    "print(\"Accuracy:\",accuracy_score(ypred2,y_test))\n",
    "\n",
    "test=np.array([6,6])\n",
    "ypred=distanceknn.predict(test.reshape(1,-1))\n",
    "print(\"Prediction for sample (6,6):\",ypred)"
   ]
  },
  {
   "cell_type": "markdown",
   "metadata": {
    "id": "aS8KCnIape6A"
   },
   "source": [
    "Weighted Average Accuracy"
   ]
  },
  {
   "cell_type": "code",
   "execution_count": 29,
   "metadata": {
    "colab": {
     "base_uri": "https://localhost:8080/",
     "height": 0
    },
    "id": "OQHpDqM3XDS1",
    "outputId": "95b04d4a-818f-446c-eee9-f079700a04d3",
    "scrolled": true
   },
   "outputs": [
    {
     "name": "stdout",
     "output_type": "stream",
     "text": [
      "Average Accuracy: 0.75\n",
      "Weighted average Accuracy: 0.8\n"
     ]
    }
   ],
   "source": [
    "averagepred=((0.5*accuracy1+0.5*accuracy2))\n",
    "print(\"Average Accuracy:\",averagepred)\n",
    "\n",
    "averagepred=((0.4*accuracy1+0.6*accuracy2))\n",
    "print(\"Weighted average Accuracy:\",averagepred)"
   ]
  },
  {
   "cell_type": "code",
   "execution_count": null,
   "metadata": {},
   "outputs": [],
   "source": []
  }
 ],
 "metadata": {
  "colab": {
   "name": "ML-3.ipynb",
   "provenance": []
  },
  "kernelspec": {
   "display_name": "Python 3 (ipykernel)",
   "language": "python",
   "name": "python3"
  },
  "language_info": {
   "codemirror_mode": {
    "name": "ipython",
    "version": 3
   },
   "file_extension": ".py",
   "mimetype": "text/x-python",
   "name": "python",
   "nbconvert_exporter": "python",
   "pygments_lexer": "ipython3",
   "version": "3.9.1"
  }
 },
 "nbformat": 4,
 "nbformat_minor": 1
}
