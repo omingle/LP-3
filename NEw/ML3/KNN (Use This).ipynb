{
 "cells": [
  {
   "cell_type": "code",
   "execution_count": 33,
   "id": "e1370c0f",
   "metadata": {},
   "outputs": [],
   "source": [
    "import numpy as np\n",
    "import statistics"
   ]
  },
  {
   "cell_type": "code",
   "execution_count": 34,
   "id": "3524d2d1",
   "metadata": {},
   "outputs": [],
   "source": [
    "class kNN:\n",
    "  def __init__(self, k):\n",
    "    self.k = k\n",
    "    self.X = []\n",
    "    self.y = []\n",
    "\n",
    "  def fit(self, X, y):\n",
    "    self.X = self.X + X\n",
    "    self.y = self.y + y\n",
    "\n",
    "  def __distance(self, x, y):\n",
    "    return (x[0] - y[0]) ** 2 + (x[1] - y[1]) ** 2\n",
    "\n",
    "  def __get_class(self, X):\n",
    "    distances = []\n",
    "    for i in range(len(self.X)):\n",
    "      distances.append((self.__distance(X, self.X[i]), self.y[i]))\n",
    "    distances.sort()\n",
    "    distances = distances[:self.k]\n",
    "    \n",
    "    counts = {}\n",
    "    for d in distances:\n",
    "      try: counts[d[1]] += 1\n",
    "      except: counts[d[1]] = 1\n",
    "    return max(counts, key = lambda i: counts[i])\n",
    "\n",
    "  def predict(self, X):\n",
    "    preds = []\n",
    "    for x in X:\n",
    "      preds.append(self.__get_class(x))\n",
    "    return preds\n",
    "\n",
    "  def __get_weighted_class(self, X):\n",
    "    distances = []\n",
    "    for i in range(len(self.X)):\n",
    "      distances.append((self.__distance(X, self.X[i]), self.y[i]))\n",
    "    distances.sort()\n",
    "    distances = distances[:self.k]\n",
    "    counts = {}\n",
    "    for d in distances:\n",
    "      try: counts[d[1]] += 1 / d[0]\n",
    "      except: counts[d[1]] = 0\n",
    "    return max(counts, key = lambda i: counts[i])\n",
    "\n",
    "  def predict_weighted(self, X):\n",
    "    preds = []\n",
    "    for x in X:\n",
    "      preds.append(self.__get_weighted_class(x))\n",
    "    return preds\n",
    "\n",
    "  def __get_locally_weighted_average_class(self, X):\n",
    "    distances = []\n",
    "    for i in range(len(self.X)):\n",
    "      distances.append((self.__distance(X, self.X[i]), self.y[i]))\n",
    "    distances.sort()\n",
    "    distances = distances[:self.k]\n",
    "    counts = {}\n",
    "    for d in distances:\n",
    "      try: counts[d[1]].append(1 / d[0])\n",
    "      except: counts[d[1]] = [0]\n",
    "    for c in counts:\n",
    "      counts[c] = statistics.mean(counts[c])\n",
    "    return max(counts, key = lambda i: counts[i])\n",
    "\n",
    "  def predict_locally_weighted_average(self, X):\n",
    "    preds = []\n",
    "    for x in X:\n",
    "      preds.append(self.__get_locally_weighted_average_class(x))\n",
    "    return preds"
   ]
  },
  {
   "cell_type": "code",
   "execution_count": 35,
   "id": "086ad5d0",
   "metadata": {},
   "outputs": [],
   "source": [
    "X = [\n",
    "     (2, 4),\n",
    "     (4, 6),\n",
    "     (4, 4),\n",
    "     (4, 2),\n",
    "     (6, 4),\n",
    "     (6 ,2)\n",
    "]\n",
    "y = ['Y', 'Y', 'B', 'Y', 'Y', 'B']"
   ]
  },
  {
   "cell_type": "code",
   "execution_count": 36,
   "id": "08b901be",
   "metadata": {},
   "outputs": [],
   "source": [
    "model = kNN(3)"
   ]
  },
  {
   "cell_type": "code",
   "execution_count": 37,
   "id": "83b845ae",
   "metadata": {},
   "outputs": [],
   "source": [
    "model.fit(X, y)"
   ]
  },
  {
   "cell_type": "code",
   "execution_count": 38,
   "id": "50888f42",
   "metadata": {},
   "outputs": [
    {
     "name": "stdout",
     "output_type": "stream",
     "text": [
      "Standard k-NN: ['Y']\n"
     ]
    }
   ],
   "source": [
    "print(f'Standard k-NN: {model.predict([(6, 6)])}')"
   ]
  },
  {
   "cell_type": "code",
   "execution_count": 39,
   "id": "7faa05f6",
   "metadata": {},
   "outputs": [
    {
     "name": "stdout",
     "output_type": "stream",
     "text": [
      "Distance Weighted k-NN: ['Y']\n"
     ]
    }
   ],
   "source": [
    "print(f'Distance Weighted k-NN: {model.predict_weighted([(6, 6)])}')"
   ]
  },
  {
   "cell_type": "code",
   "execution_count": 40,
   "id": "18d7f9a6",
   "metadata": {},
   "outputs": [
    {
     "name": "stdout",
     "output_type": "stream",
     "text": [
      "Locally Weighted Average k-NN: ['Y']\n"
     ]
    }
   ],
   "source": [
    "print(f'Locally Weighted Average k-NN: {model.predict_locally_weighted_average([(6, 6)])}')"
   ]
  },
  {
   "cell_type": "code",
   "execution_count": 41,
   "id": "b814443b",
   "metadata": {},
   "outputs": [
    {
     "name": "stdout",
     "output_type": "stream",
     "text": [
      "Prediction using Standard KNN for (6,6) :  ['Y']\n"
     ]
    }
   ],
   "source": [
    "# using sklearn\n",
    "\n",
    "# standard kNN\n",
    "\n",
    "from sklearn.neighbors import KNeighborsClassifier\n",
    "\n",
    "knn = KNeighborsClassifier(n_neighbors = 3)\n",
    "\n",
    "knn.fit(X, y)\n",
    "\n",
    "ypred1 = knn.predict([(6, 6)])\n",
    "\n",
    "print(\"Prediction using Standard KNN for (6,6) : \", ypred1)"
   ]
  },
  {
   "cell_type": "code",
   "execution_count": 42,
   "id": "c1eea887",
   "metadata": {},
   "outputs": [
    {
     "name": "stdout",
     "output_type": "stream",
     "text": [
      "Prediction using Distance Weighted KNN for (6,6) :  ['Y']\n"
     ]
    }
   ],
   "source": [
    "# using sklearn\n",
    "# Weighted kNN\n",
    "\n",
    "wknn = KNeighborsClassifier(n_neighbors = 3, weights='distance')\n",
    "\n",
    "wknn.fit(X, y)\n",
    "\n",
    "ypred2 = wknn.predict([(6, 6)])\n",
    "\n",
    "print(\"Prediction using Distance Weighted KNN for (6,6) : \", ypred2)"
   ]
  },
  {
   "cell_type": "code",
   "execution_count": null,
   "id": "17973e07",
   "metadata": {},
   "outputs": [],
   "source": []
  }
 ],
 "metadata": {
  "kernelspec": {
   "display_name": "Python 3 (ipykernel)",
   "language": "python",
   "name": "python3"
  },
  "language_info": {
   "codemirror_mode": {
    "name": "ipython",
    "version": 3
   },
   "file_extension": ".py",
   "mimetype": "text/x-python",
   "name": "python",
   "nbconvert_exporter": "python",
   "pygments_lexer": "ipython3",
   "version": "3.9.1"
  }
 },
 "nbformat": 4,
 "nbformat_minor": 5
}
