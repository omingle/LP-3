{
 "cells": [
  {
   "cell_type": "code",
   "execution_count": 8,
   "id": "6ca76c85",
   "metadata": {},
   "outputs": [],
   "source": [
    "import numpy as np\n",
    "import pandas as pd\n",
    "\n",
    "from sklearn.model_selection import train_test_split\n",
    "from sklearn.metrics import accuracy_score\n",
    "from sklearn.neighbors import KNeighborsClassifier\n",
    "\n",
    "import warnings\n",
    "warnings.filterwarnings('ignore')"
   ]
  },
  {
   "cell_type": "code",
   "execution_count": 9,
   "id": "4ce4db67",
   "metadata": {},
   "outputs": [
    {
     "data": {
      "text/html": [
       "<div>\n",
       "<style scoped>\n",
       "    .dataframe tbody tr th:only-of-type {\n",
       "        vertical-align: middle;\n",
       "    }\n",
       "\n",
       "    .dataframe tbody tr th {\n",
       "        vertical-align: top;\n",
       "    }\n",
       "\n",
       "    .dataframe thead th {\n",
       "        text-align: right;\n",
       "    }\n",
       "</style>\n",
       "<table border=\"1\" class=\"dataframe\">\n",
       "  <thead>\n",
       "    <tr style=\"text-align: right;\">\n",
       "      <th></th>\n",
       "      <th>X-coordinate</th>\n",
       "      <th>Y-coordinate</th>\n",
       "      <th>Class</th>\n",
       "    </tr>\n",
       "  </thead>\n",
       "  <tbody>\n",
       "    <tr>\n",
       "      <th>0</th>\n",
       "      <td>2</td>\n",
       "      <td>4</td>\n",
       "      <td>0</td>\n",
       "    </tr>\n",
       "    <tr>\n",
       "      <th>1</th>\n",
       "      <td>4</td>\n",
       "      <td>2</td>\n",
       "      <td>0</td>\n",
       "    </tr>\n",
       "    <tr>\n",
       "      <th>2</th>\n",
       "      <td>4</td>\n",
       "      <td>4</td>\n",
       "      <td>1</td>\n",
       "    </tr>\n",
       "    <tr>\n",
       "      <th>3</th>\n",
       "      <td>4</td>\n",
       "      <td>6</td>\n",
       "      <td>0</td>\n",
       "    </tr>\n",
       "    <tr>\n",
       "      <th>4</th>\n",
       "      <td>6</td>\n",
       "      <td>2</td>\n",
       "      <td>1</td>\n",
       "    </tr>\n",
       "    <tr>\n",
       "      <th>5</th>\n",
       "      <td>6</td>\n",
       "      <td>4</td>\n",
       "      <td>0</td>\n",
       "    </tr>\n",
       "  </tbody>\n",
       "</table>\n",
       "</div>"
      ],
      "text/plain": [
       "   X-coordinate  Y-coordinate  Class\n",
       "0             2             4      0\n",
       "1             4             2      0\n",
       "2             4             4      1\n",
       "3             4             6      0\n",
       "4             6             2      1\n",
       "5             6             4      0"
      ]
     },
     "execution_count": 9,
     "metadata": {},
     "output_type": "execute_result"
    }
   ],
   "source": [
    "data = [[2, 4, 0],[4, 2, 0],[4, 4, 1],[4, 6, 0],[6, 2, 1], [6, 4, 0]]\n",
    "\n",
    "df = pd.DataFrame(data, columns=['X-coordinate', 'Y-coordinate', 'Class'])\n",
    "\n",
    "df"
   ]
  },
  {
   "cell_type": "code",
   "execution_count": 12,
   "id": "bc837d31",
   "metadata": {},
   "outputs": [
    {
     "name": "stdout",
     "output_type": "stream",
     "text": [
      "Accuracy Score:  0.5\n",
      "Prediction for (6,6) :  [0]\n"
     ]
    }
   ],
   "source": [
    "X = df.drop('Class', axis=1)\n",
    "y = df.Class\n",
    "\n",
    "\n",
    "X_train, X_test, y_train, y_test = train_test_split(X, y, test_size=0.2, random_state=42)\n",
    "\n",
    "knn = KNeighborsClassifier(n_neighbors = 3)\n",
    "\n",
    "knn.fit(X_train, y_train)\n",
    "\n",
    "ypred1 = knn.predict(X_test)\n",
    "\n",
    "accuracy1 = accuracy_score(ypred1, y_test)\n",
    "\n",
    "print(\"Accuracy Score: \", accuracy1)\n",
    "\n",
    "test = np.array([6,6])\n",
    "\n",
    "pred = knn.predict(test.reshape(1, -1))\n",
    "\n",
    "print(\"Prediction for (6,6) : \", pred)"
   ]
  },
  {
   "cell_type": "code",
   "execution_count": 14,
   "id": "ce37c2af",
   "metadata": {},
   "outputs": [
    {
     "name": "stdout",
     "output_type": "stream",
     "text": [
      "Accuracy Score:  1.0\n",
      "Prediction for (6,6) :  [0]\n"
     ]
    }
   ],
   "source": [
    "# Weighted kNN\n",
    "\n",
    "wknn = KNeighborsClassifier(n_neighbors = 3, weights='distance')\n",
    "\n",
    "wknn.fit(X, y)\n",
    "\n",
    "ypred2 = wknn.predict(X_test)\n",
    "\n",
    "accuracy2 = accuracy_score(ypred2, y_test)\n",
    "\n",
    "print(\"Accuracy Score: \", accuracy2)\n",
    "\n",
    "test = np.array([6,6])\n",
    "\n",
    "pred = wknn.predict(test.reshape(1, -1))\n",
    "\n",
    "print(\"Prediction for (6,6) : \", pred)"
   ]
  },
  {
   "cell_type": "code",
   "execution_count": 17,
   "id": "921004cb",
   "metadata": {},
   "outputs": [
    {
     "name": "stdout",
     "output_type": "stream",
     "text": [
      "Avg acc :  0.75\n",
      "weighted Avg acc :  0.8\n"
     ]
    }
   ],
   "source": [
    "averagepred = ((0.5*accuracy1) + (0.5*accuracy2))\n",
    "print(\"Avg acc : \", averagepred)\n",
    "\n",
    "averagepred = ((0.4*accuracy1) + (0.6*accuracy2))\n",
    "print(\"weighted Avg acc : \", averagepred)"
   ]
  }
 ],
 "metadata": {
  "kernelspec": {
   "display_name": "Python 3 (ipykernel)",
   "language": "python",
   "name": "python3"
  },
  "language_info": {
   "codemirror_mode": {
    "name": "ipython",
    "version": 3
   },
   "file_extension": ".py",
   "mimetype": "text/x-python",
   "name": "python",
   "nbconvert_exporter": "python",
   "pygments_lexer": "ipython3",
   "version": "3.9.1"
  }
 },
 "nbformat": 4,
 "nbformat_minor": 5
}
