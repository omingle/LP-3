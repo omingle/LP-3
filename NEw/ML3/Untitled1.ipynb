{
 "cells": [
  {
   "cell_type": "code",
   "execution_count": 1,
   "id": "4881d0f1",
   "metadata": {},
   "outputs": [],
   "source": [
    "import numpy as np\n",
    "import pandas as  pd\n",
    "import math"
   ]
  },
  {
   "cell_type": "code",
   "execution_count": 33,
   "id": "ce5dee48",
   "metadata": {},
   "outputs": [],
   "source": [
    "class kNN:\n",
    "    def __init__(self, k):\n",
    "        self.k = k\n",
    "        self.X = []\n",
    "        self.y = []\n",
    "        \n",
    "    def fit(self, X, y):\n",
    "        self.X = self.X + X\n",
    "        self.y = self.y + y\n",
    "        \n",
    "    def distance(self, x, y):\n",
    "        return (x[0] - y[0]) ** 2 + (x[1] - y[1]) ** 2\n",
    "    \n",
    "    def get_class(self, X):\n",
    "        distances = []\n",
    "        \n",
    "        for i in range(len(self.X)):\n",
    "            distances.append((self.distance(X, self.X[i]), self.y[i]))\n",
    "        \n",
    "        distances.sort()\n",
    "        \n",
    "        distances = distances[:self.k]\n",
    "        \n",
    "        counts = {}\n",
    "        \n",
    "        for d in distances:\n",
    "            try: counts[d[1]] += 1\n",
    "            except: counts[d[1]] = 1\n",
    "                \n",
    "        return max(counts, key= lambda i : counts[i])\n",
    "    \n",
    "    def predict(self, X):\n",
    "        preds = []\n",
    "        \n",
    "        for x in X:\n",
    "            preds.append(self.get_class(x))\n",
    "            \n",
    "        return preds\n",
    "    \n",
    "    \n",
    "    def get_distance_weighted_class(self, X):\n",
    "        distances = []\n",
    "        \n",
    "        for i in range(len(self.X)):\n",
    "            distances.append((self.distance(X, self.X[i]), self.y[i]))\n",
    "        \n",
    "        distances.sort()\n",
    "        \n",
    "        distances = distances[:self.k]\n",
    "        \n",
    "        counts = {}\n",
    "        \n",
    "        for d in distances:\n",
    "            try: counts[d[1]] += 1 / d[0]\n",
    "            except: counts[d[1]] = 0\n",
    "                \n",
    "        return max(counts, key= lambda i : counts[i])\n",
    "    \n",
    "    def predict_distance_weighted(self, X):\n",
    "        preds = []\n",
    "        \n",
    "        for x in X:\n",
    "            preds.append(self.get_distance_weighted_class(x))\n",
    "            \n",
    "        return preds\n",
    "    \n",
    "    def get_class_locally_weighted_average(self, x):\n",
    "        distances = []\n",
    "        \n",
    "        for i in range(len(self.X)):\n",
    "            distances.append((self.distance(x, self.X[i]), self.y[i]))\n",
    "        \n",
    "        distances.sort()\n",
    "        \n",
    "        distances = distances[:self.k]\n",
    "        \n",
    "        counts = {}\n",
    "        \n",
    "        for d in distances:\n",
    "            try: counts[d[1]].append(1/d[0])\n",
    "            except: counts[d[1]] = 0\n",
    "                \n",
    "        for c in counts:\n",
    "            counts[c] = np.mean(counts[c])\n",
    "                \n",
    "        return max(counts, key= lambda i : counts[i])\n",
    "    \n",
    "    def predict_locally_weighted_average(self, X):\n",
    "        preds = []\n",
    "        \n",
    "        for x in X:\n",
    "            preds.append(self.get_class_locally_weighted_average(x))\n",
    "            \n",
    "        return preds"
   ]
  },
  {
   "cell_type": "code",
   "execution_count": 34,
   "id": "d04a3026",
   "metadata": {},
   "outputs": [],
   "source": [
    "X = [(2, 4), (4, 2), (4, 4), (4, 6), (6, 2), (6, 4)]\n",
    "y = ['Y', 'Y', 'B', 'Y', 'B', 'Y']"
   ]
  },
  {
   "cell_type": "code",
   "execution_count": 35,
   "id": "8b292e8f",
   "metadata": {},
   "outputs": [],
   "source": [
    "model = kNN(3)\n",
    "\n",
    "model.fit(X, y)"
   ]
  },
  {
   "cell_type": "code",
   "execution_count": 36,
   "id": "49f67f4d",
   "metadata": {},
   "outputs": [
    {
     "name": "stdout",
     "output_type": "stream",
     "text": [
      "Prediction using Standard KNN for (6,6) :  ['Y']\n",
      "Prediction using Distance Weighted KNN for (6,6) :  ['Y']\n",
      "Prediction using Locally Weighted Average KNN for (6,6) :  ['Y']\n"
     ]
    }
   ],
   "source": [
    "print(\"Prediction using Standard KNN for (6,6) : \", model.predict([(6, 6)]))\n",
    "\n",
    "print(\"Prediction using Distance Weighted KNN for (6,6) : \", model.predict_distance_weighted([(6, 6)]))\n",
    "\n",
    "print(\"Prediction using Locally Weighted Average KNN for (6,6) : \", model.predict_locally_weighted_average([(6, 6)]))"
   ]
  },
  {
   "cell_type": "code",
   "execution_count": 37,
   "id": "22715dfb",
   "metadata": {},
   "outputs": [
    {
     "name": "stdout",
     "output_type": "stream",
     "text": [
      "Prediction using Standard KNN for (6,6) :  ['Y']\n"
     ]
    }
   ],
   "source": [
    "# using sklearn\n",
    "\n",
    "from sklearn.neighbors import KNeighborsClassifier\n",
    "\n",
    "# standard KNN\n",
    "knn = KNeighborsClassifier(n_neighbors = 3)\n",
    "\n",
    "knn.fit(X, y)\n",
    "\n",
    "ypred1 = knn.predict([(6, 6)])\n",
    "\n",
    "print(\"Prediction using Standard KNN for (6,6) : \", ypred1)"
   ]
  },
  {
   "cell_type": "code",
   "execution_count": 38,
   "id": "ba6f86f9",
   "metadata": {},
   "outputs": [
    {
     "name": "stdout",
     "output_type": "stream",
     "text": [
      "Prediction using Distance Weighted KNN for (6,6) :  ['Y']\n"
     ]
    }
   ],
   "source": [
    "# Distance weighted KNN\n",
    "wknn = KNeighborsClassifier(n_neighbors = 3, weights='distance')\n",
    "\n",
    "wknn.fit(X, y)\n",
    "\n",
    "ypred2 = wknn.predict([(6, 6)])\n",
    "\n",
    "print(\"Prediction using Distance Weighted KNN for (6,6) : \", ypred2)"
   ]
  },
  {
   "cell_type": "code",
   "execution_count": null,
   "id": "ce694f99",
   "metadata": {},
   "outputs": [],
   "source": []
  }
 ],
 "metadata": {
  "kernelspec": {
   "display_name": "Python 3 (ipykernel)",
   "language": "python",
   "name": "python3"
  },
  "language_info": {
   "codemirror_mode": {
    "name": "ipython",
    "version": 3
   },
   "file_extension": ".py",
   "mimetype": "text/x-python",
   "name": "python",
   "nbconvert_exporter": "python",
   "pygments_lexer": "ipython3",
   "version": "3.9.1"
  }
 },
 "nbformat": 4,
 "nbformat_minor": 5
}
