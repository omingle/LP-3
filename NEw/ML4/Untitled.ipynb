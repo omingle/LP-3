{
 "cells": [
  {
   "cell_type": "code",
   "execution_count": 135,
   "id": "df612c5c",
   "metadata": {},
   "outputs": [],
   "source": [
    "import pandas as pd\n",
    "import numpy as np\n",
    "import matplotlib.pyplot as plt"
   ]
  },
  {
   "cell_type": "code",
   "execution_count": 136,
   "id": "97618f9e",
   "metadata": {},
   "outputs": [],
   "source": [
    "P1=[0.1,0.6]\n",
    "P2=[0.15,0.71]\n",
    "P3=[0.08,0.9]\n",
    "P4=[0.16, 0.85]\n",
    "P5=[0.2,0.3]\n",
    "P6=[0.25,0.5]\n",
    "P7=[0.24,0.1]\n",
    "P8=[0.3,0.2]\n",
    "\n",
    "K = 2\n",
    "\n",
    "points = [P1, P2, P3, P4, P5, P6, P7, P8]"
   ]
  },
  {
   "cell_type": "code",
   "execution_count": 137,
   "id": "e1eaf604",
   "metadata": {},
   "outputs": [
    {
     "name": "stdout",
     "output_type": "stream",
     "text": [
      "Centroid : \n",
      " [[0.148      0.712     ]\n",
      " [0.24666667 0.2       ]]\n",
      "Labels :  [0 0 0 0 1 0 1 1]\n"
     ]
    },
    {
     "name": "stderr",
     "output_type": "stream",
     "text": [
      "c:\\python39\\lib\\site-packages\\sklearn\\cluster\\_kmeans.py:1148: RuntimeWarning: Explicit initial center position passed: performing only one init in KMeans instead of n_init=10.\n",
      "  self._check_params(X)\n"
     ]
    },
    {
     "data": {
      "image/png": "[encoded data removed]",
      "text/plain": [
       "<Figure size 432x288 with 1 Axes>"
      ]
     },
     "metadata": {
      "needs_background": "light"
     },
     "output_type": "display_data"
    }
   ],
   "source": [
    "# K-means using sklearn\n",
    "\n",
    "from sklearn.cluster import KMeans\n",
    "\n",
    "tot_num_points = 8\n",
    "cluster_centers =[(0.1, 0.6), (0.3, 0.2)]\n",
    "num_classes = len(cluster_centers)\n",
    "X = np.array(points)\n",
    "\n",
    "init_centroids = []\n",
    "init_centroids.append(P1)\n",
    "init_centroids.append(P8)\n",
    "init_centroids_arr = np.array(init_centroids)\n",
    "kmeans = KMeans(init=init_centroids_arr, n_clusters=num_classes)\n",
    "\n",
    "# kmeans = KMeans(init=\"k-means++\", n_clusters=num_classes)\n",
    "\n",
    "kmeans.fit(X)\n",
    "\n",
    "P = kmeans.predict(X)\n",
    "\n",
    "print(\"Centroid : \\n\", kmeans.cluster_centers_)\n",
    "print(\"Labels : \", kmeans.labels_)\n",
    "\n",
    "colors = list(map(lambda x: 'blue' if x==1 else 'red', P))\n",
    "plt.scatter(X[:,0], X[:,1], c=colors, marker=\"o\", picker=True)\n",
    "plt.title(\"Two clusters of Data\")\n",
    "\n",
    "plt.show()"
   ]
  },
  {
   "cell_type": "code",
   "execution_count": 138,
   "id": "65ebe19d",
   "metadata": {},
   "outputs": [],
   "source": [
    "# Implementing K-means\n",
    "import math\n",
    "\n",
    "# def dist(A, B):\n",
    "#     xd = (A[0]-B[0])**2\n",
    "#     yd = (A[1]-B[1])**2\n",
    "    \n",
    "#     d = math.sqrt(xd+yd)\n",
    "    \n",
    "#     return d\n",
    "\n",
    "\n",
    "def dist(A, B):\n",
    "    S = 0\n",
    "    for i in range(len(A)):\n",
    "        S += math.pow(A[i]-B[i], 2)\n",
    "        \n",
    "    \n",
    "    d = math.sqrt(S)\n",
    "    \n",
    "    return d"
   ]
  },
  {
   "cell_type": "code",
   "execution_count": 139,
   "id": "c124d86f",
   "metadata": {},
   "outputs": [],
   "source": [
    "def cluster(C1, C2):\n",
    "    c1 = C1\n",
    "    c2 = C2\n",
    "    \n",
    "    cluster1 = list()\n",
    "    cluster2 = list()\n",
    "    \n",
    "    for p in points:\n",
    "        d1 = dist(p, C1)\n",
    "        d2 = dist(p, C2)\n",
    "        \n",
    "        if d1<d2:\n",
    "            cluster1.append(p)\n",
    "        else:\n",
    "            cluster2.append(p)\n",
    "            \n",
    "    \n",
    "    x1 = 0\n",
    "    y1 = 0\n",
    "    \n",
    "    for i in cluster1:\n",
    "        x1 = x1 + i[0]\n",
    "        y1 = y1 + i[1]\n",
    "        \n",
    "    x1 = x1/len(cluster1)\n",
    "    y1 = y1/len(cluster1)\n",
    "    \n",
    "    centroid1 = [x1, y1]\n",
    "    \n",
    "    \n",
    "    x2 = 0\n",
    "    y2 = 0\n",
    "    \n",
    "    for i in cluster2:\n",
    "        x2 = x2 + i[0]\n",
    "        y2 = y2 + i[1]\n",
    "        \n",
    "    x2 = x2/len(cluster2)\n",
    "    y2 = y2/len(cluster2)\n",
    "    \n",
    "    centroid2 = [x2, y2]\n",
    "    \n",
    "    \n",
    "    C1 = centroid1\n",
    "    C2 = centroid2\n",
    "    \n",
    "    if centroid1[0] == c1[0] and centroid1[1] == c1[1] and centroid2[0] == c2[0] and centroid2[1] == c2[1]:\n",
    "        print(\"Clusters are : \")\n",
    "        print(cluster1)\n",
    "        print(cluster2)\n",
    "        \n",
    "        if(P6 in cluster1):\n",
    "            print(\"P6 belongs to Cluster 1\")\n",
    "        elif(P6 in cluster2):\n",
    "            print(\"P6 belongs to Cluster 2\")\n",
    "            \n",
    "        print(\"Population of cluster around m2 : \", len(cluster2))\n",
    "        \n",
    "        print(\"\\nUpdated values of m1 and m2:\")\n",
    "        print(\"m1/C1 : \", C1)\n",
    "        print(\"m2/C2 : \", C2)\n",
    "        \n",
    "        \n",
    "        P = list()\n",
    "        \n",
    "        for i in points:\n",
    "            if i in cluster1:\n",
    "                P.append(0)\n",
    "            else:\n",
    "                P.append(1)\n",
    "                \n",
    "        X = np.array(points)\n",
    "        \n",
    "        C = []\n",
    "        C.append(C1)\n",
    "        C.append(C2)\n",
    "        C_p = np.array(C)\n",
    "        \n",
    "        \n",
    "        print(\"\\nData Points and centroids after Clustering:\")\n",
    "        \n",
    "        colors = list(map(lambda x: 'blue' if x==1 else 'red', P))\n",
    "        plt.scatter(X[:,0], X[:,1], c=colors, marker=\"o\", picker=True)\n",
    "        plt.scatter(C_p[:,0], C_p[:,1], c='g', marker = 'x')\n",
    "        plt.title(\"Two clusters of Data\")\n",
    "\n",
    "        plt.show()\n",
    "        \n",
    "    else:\n",
    "        cluster(C1, C2)"
   ]
  },
  {
   "cell_type": "code",
   "execution_count": 140,
   "id": "fad8aad1",
   "metadata": {
    "scrolled": false
   },
   "outputs": [
    {
     "name": "stdout",
     "output_type": "stream",
     "text": [
      "Initial Data Points and centroids :\n",
      "\n"
     ]
    },
    {
     "data": {
      "image/png": "[encoded data removed]",
      "text/plain": [
       "<Figure size 432x288 with 1 Axes>"
      ]
     },
     "metadata": {
      "needs_background": "light"
     },
     "output_type": "display_data"
    },
    {
     "name": "stdout",
     "output_type": "stream",
     "text": [
      "Points are : \n",
      " [[0.1, 0.6], [0.15, 0.71], [0.08, 0.9], [0.16, 0.85], [0.2, 0.3], [0.25, 0.5], [0.24, 0.1], [0.3, 0.2]]\n",
      "Clusters are : \n",
      "[[0.1, 0.6], [0.15, 0.71], [0.08, 0.9], [0.16, 0.85], [0.25, 0.5]]\n",
      "[[0.2, 0.3], [0.24, 0.1], [0.3, 0.2]]\n",
      "P6 belongs to Cluster 1\n",
      "Population of cluster around m2 :  3\n",
      "\n",
      "Updated values of m1 and m2:\n",
      "m1/C1 :  [0.148, 0.712]\n",
      "m2/C2 :  [0.24666666666666667, 0.20000000000000004]\n",
      "\n",
      "Data Points and centroids after Clustering:\n"
     ]
    },
    {
     "data": {
      "image/png": "[encoded data removed]",
      "text/plain": [
       "<Figure size 432x288 with 1 Axes>"
      ]
     },
     "metadata": {
      "needs_background": "light"
     },
     "output_type": "display_data"
    }
   ],
   "source": [
    "C1 = P1\n",
    "C2 = P8\n",
    "\n",
    "C = []\n",
    "C.append(C1)\n",
    "C.append(C2)\n",
    "C_p = np.array(C)\n",
    "\n",
    "print(\"Initial Data Points and centroids :\\n\")\n",
    "plt.scatter(X[:,0], X[:,1], marker=\"o\", picker=True)\n",
    "plt.scatter(C_p[:,0], C_p[:,1], c='r', marker = 'x')\n",
    "plt.title(\"Data Points\")\n",
    "\n",
    "plt.show()\n",
    "\n",
    "print(\"Points are : \\n\", points)\n",
    "\n",
    "cluster(C1, C2)"
   ]
  },
  {
   "cell_type": "code",
   "execution_count": null,
   "id": "87c9051e",
   "metadata": {},
   "outputs": [],
   "source": []
  }
 ],
 "metadata": {
  "kernelspec": {
   "display_name": "Python 3 (ipykernel)",
   "language": "python",
   "name": "python3"
  },
  "language_info": {
   "codemirror_mode": {
    "name": "ipython",
    "version": 3
   },
   "file_extension": ".py",
   "mimetype": "text/x-python",
   "name": "python",
   "nbconvert_exporter": "python",
   "pygments_lexer": "ipython3",
   "version": "3.9.1"
  }
 },
 "nbformat": 4,
 "nbformat_minor": 5
}
