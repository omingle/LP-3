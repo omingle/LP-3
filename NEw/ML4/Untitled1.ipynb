{
 "cells": [
  {
   "cell_type": "code",
   "execution_count": 11,
   "source": [
    "import numpy as np\r\n",
    "import pandas as pd\r\n",
    "import matplotlib.pyplot as plt\r\n",
    "\r\n",
    "import warnings\r\n",
    "warnings.filterwarnings('ignore')"
   ],
   "outputs": [],
   "metadata": {}
  },
  {
   "cell_type": "code",
   "execution_count": 12,
   "source": [
    "P1 = [0.1, 0.6]\r\n",
    "P2 = [0.15, 0.71]\r\n",
    "P3 = [0.08, 0.9]\r\n",
    "P4 = [0.16, 0.85]\r\n",
    "P5 = [0.2, 0.3]\r\n",
    "P6 = [0.25, 0.5]\r\n",
    "P7 = [0.24, 0.1]\r\n",
    "P8 = [0.3, 0.2]\r\n",
    "\r\n",
    "points = [P1, P2, P3, P4, P5, P6, P7, P8]"
   ],
   "outputs": [],
   "metadata": {}
  },
  {
   "cell_type": "code",
   "execution_count": 13,
   "source": [
    "# using sklearn\r\n",
    "\r\n",
    "from sklearn.cluster import KMeans\r\n",
    "\r\n",
    "X = np.array(points)\r\n",
    "\r\n",
    "initial_centroids = [P1, P8]\r\n",
    "\r\n",
    "kmeans = KMeans(init=np.array(initial_centroids), n_clusters = 2)\r\n",
    "\r\n",
    "# kmeans = KMeans(init=\"k-means++\", n_clusters = 2)\r\n",
    "\r\n",
    "kmeans.fit(X)\r\n",
    "\r\n",
    "pred = kmeans.predict(X)\r\n",
    "\r\n",
    "print(\"Centroids are :\\n \", kmeans.cluster_centers_)\r\n",
    "print(\"Labels : \", kmeans.labels_)\r\n",
    "\r\n",
    "colors = list(map(lambda x: 'blue' if x==1 else 'red', pred))\r\n",
    "plt.scatter(X[:,0], X[:,1], c=colors, marker=\"o\")\r\n",
    "plt.show()"
   ],
   "outputs": [
    {
     "output_type": "stream",
     "name": "stdout",
     "text": [
      "Centroids are :\n",
      "  [[0.148      0.712     ]\n",
      " [0.24666667 0.2       ]]\n",
      "Labels :  [0 0 0 0 1 0 1 1]\n"
     ]
    },
    {
     "output_type": "display_data",
     "data": {
      "image/png": "[encoded data removed]",
      "text/plain": [
       "<Figure size 432x288 with 1 Axes>"
      ]
     },
     "metadata": {
      "needs_background": "light"
     }
    }
   ],
   "metadata": {}
  },
  {
   "cell_type": "code",
   "execution_count": 28,
   "source": [
    "# Implementing k-means from scratch\r\n",
    "\r\n",
    "import math\r\n",
    "\r\n",
    "def dist(A, B):\r\n",
    "    S = 0\r\n",
    "    \r\n",
    "    for i in range(len(A)):\r\n",
    "        S += ((A[i] - B[i]) ** 2)\r\n",
    "        \r\n",
    "    return math.sqrt(S)\r\n",
    "\r\n",
    "\r\n",
    "def cluster(C1, C2):\r\n",
    "    c1 = C1\r\n",
    "    c2 = C2\r\n",
    "    \r\n",
    "    cluster1 = list()\r\n",
    "    cluster2 = list()\r\n",
    "    \r\n",
    "    for p in points:\r\n",
    "        d1 = dist(p, C1)\r\n",
    "        d2 = dist(p, C2)\r\n",
    "        \r\n",
    "        if(d1<d2):\r\n",
    "            cluster1.append(p)\r\n",
    "        else:\r\n",
    "            cluster2.append(p)\r\n",
    "            \r\n",
    "    x1 = 0\r\n",
    "    y1 = 0\r\n",
    "    \r\n",
    "    for i in cluster1:\r\n",
    "        x1 = x1 + i[0]\r\n",
    "        y1 = y1 + i[1]\r\n",
    "        \r\n",
    "    x1 = x1/len(cluster1)\r\n",
    "    y1 = y1/len(cluster1)\r\n",
    "    \r\n",
    "    centroid1 = [x1, y1]\r\n",
    "    \r\n",
    "    \r\n",
    "    x2 = 0\r\n",
    "    y2 = 0\r\n",
    "    \r\n",
    "    for i in cluster2:\r\n",
    "        x2 = x2 + i[0]\r\n",
    "        y2 = y2 + i[1]\r\n",
    "        \r\n",
    "    x2 = x2/len(cluster2)\r\n",
    "    y2 = y2/len(cluster2)\r\n",
    "    \r\n",
    "    centroid2 = [x2, y2]\r\n",
    "    \r\n",
    "    \r\n",
    "    C1 = centroid1\r\n",
    "    C2 = centroid2\r\n",
    "    \r\n",
    "    if centroid1[0]==c1[0] and centroid1[1]==c1[1] and centroid2[0]==c2[0] and centroid2[1]==c2[1]:\r\n",
    "        \r\n",
    "        \r\n",
    "        print(\"Clusters are:\")\r\n",
    "        print(\"Cluster 1: \", cluster1)\r\n",
    "        print(\"Cluster 2: \", cluster2)\r\n",
    "        \r\n",
    "        if P6 in cluster1:\r\n",
    "            print(\"Point P6 belongs to cluster 1\")\r\n",
    "        else:\r\n",
    "            print(\"Point P6 belongs to cluster 2\")\r\n",
    "            \r\n",
    "        \r\n",
    "        print(\"The population of cluster around m2 : \", len(cluster2))\r\n",
    "        \r\n",
    "        print(\"Updated value of m1 and m2\")\r\n",
    "        print(\"m1/c1 : \", C1)\r\n",
    "        print(\"m2/c2 : \", C2)\r\n",
    "        \r\n",
    "        C = [C1, C2]\r\n",
    "        C_arr = np.array(C)\r\n",
    "        \r\n",
    "        P = list()\r\n",
    "        \r\n",
    "        for i in points:\r\n",
    "            if i in cluster1:\r\n",
    "                P.append(0)\r\n",
    "            else:\r\n",
    "                P.append(1)\r\n",
    "                \r\n",
    "        X = np.array(points)\r\n",
    "        \r\n",
    "        colors = list(map(lambda x: 'blue' if x==1 else 'red', P))\r\n",
    "        plt.scatter(X[:,0], X[:,1], c=colors, marker=\"o\")\r\n",
    "        plt.scatter(C_arr[:,0], C_arr[:,1], c='g', marker=\"x\")\r\n",
    "        plt.show()\r\n",
    "        \r\n",
    "        \r\n",
    "    else:\r\n",
    "        cluster(C1, C2)\r\n",
    "    \r\n",
    "    \r\n",
    "    "
   ],
   "outputs": [],
   "metadata": {}
  },
  {
   "cell_type": "code",
   "execution_count": 29,
   "source": [
    "print(\"Initial Data Points and their centroids : \")\r\n",
    "print(\"Points : \", points)\r\n",
    "\r\n",
    "C1 = P1\r\n",
    "C2 = P8\r\n",
    "\r\n",
    "C = [C1, C2]\r\n",
    "C_arr = np.array(C)\r\n",
    "\r\n",
    "plt.scatter(X[:,0], X[:,1], marker=\"o\")\r\n",
    "plt.scatter(C_arr[:,0], C_arr[:,1], c='r', marker=\"x\")\r\n",
    "plt.show()\r\n",
    "\r\n",
    "cluster(C1, C2)"
   ],
   "outputs": [
    {
     "output_type": "stream",
     "name": "stdout",
     "text": [
      "Initial Data Points and their centroids : \n",
      "Points :  [[0.1, 0.6], [0.15, 0.71], [0.08, 0.9], [0.16, 0.85], [0.2, 0.3], [0.25, 0.5], [0.24, 0.1], [0.3, 0.2]]\n"
     ]
    },
    {
     "output_type": "display_data",
     "data": {
      "image/png": "[encoded data removed]",
      "text/plain": [
       "<Figure size 432x288 with 1 Axes>"
      ]
     },
     "metadata": {
      "needs_background": "light"
     }
    },
    {
     "output_type": "stream",
     "name": "stdout",
     "text": [
      "Clusters are:\n",
      "Cluster 1:  [[0.1, 0.6], [0.15, 0.71], [0.08, 0.9], [0.16, 0.85], [0.25, 0.5]]\n",
      "Cluster 2:  [[0.2, 0.3], [0.24, 0.1], [0.3, 0.2]]\n",
      "Point P6 belongs to cluster 1\n",
      "The population of cluster around m2 :  3\n",
      "Updated value of m1 and m2\n",
      "m1/c1 :  [0.148, 0.712]\n",
      "m2/c2 :  [0.24666666666666667, 0.20000000000000004]\n"
     ]
    },
    {
     "output_type": "display_data",
     "data": {
      "image/png": "[encoded data removed]",
      "text/plain": [
       "<Figure size 432x288 with 1 Axes>"
      ]
     },
     "metadata": {
      "needs_background": "light"
     }
    }
   ],
   "metadata": {}
  },
  {
   "cell_type": "code",
   "execution_count": null,
   "source": [],
   "outputs": [],
   "metadata": {}
  }
 ],
 "metadata": {
  "kernelspec": {
   "display_name": "Python 3 (ipykernel)",
   "language": "python",
   "name": "python3"
  },
  "language_info": {
   "codemirror_mode": {
    "name": "ipython",
    "version": 3
   },
   "file_extension": ".py",
   "mimetype": "text/x-python",
   "name": "python",
   "nbconvert_exporter": "python",
   "pygments_lexer": "ipython3",
   "version": "3.9.1"
  }
 },
 "nbformat": 4,
 "nbformat_minor": 5
}