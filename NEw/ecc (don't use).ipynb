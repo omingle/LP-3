{
 "cells": [
  {
   "cell_type": "code",
   "execution_count": 2,
   "id": "9931cd8b",
   "metadata": {},
   "outputs": [
    {
     "name": "stdout",
     "output_type": "stream",
     "text": [
      "enter a6\n",
      "enter b1\n",
      "generating\n",
      "Enter the text:5\n",
      "Public Key A: [117, 364]\n",
      "Public Key B: [135, 420]\n",
      "Ciphertext: [74, 1115]\n",
      "Plaintext: 5\n"
     ]
    }
   ],
   "source": [
    "import math\n",
    "import random\n",
    "\n",
    "def generate_points(a, b): \n",
    "    if (4 * (a ** 3) + 27 * (b ** 2) != 0):\n",
    "        x = 1\n",
    "        print(\"generating\")\n",
    "        \n",
    "        while True :\n",
    "            rhs = (x ** 3) + (a * x) + b\n",
    "            y = int (math.sqrt(rhs))\n",
    "            lhs = (y ** 2)\n",
    "            if lhs == rhs :\n",
    "                return [x , y]\n",
    "            else :\n",
    "                x += 1\n",
    "    else : \n",
    "        print(\"enter other coffiecient\")\n",
    "        \n",
    "a = int(input(\"enter a\"))\n",
    "b = int(input(\"enter b\")) \n",
    "\n",
    "Private_a = 13\n",
    "Private_b = 15\n",
    "\n",
    "generators = generate_points(a , b)\n",
    "\n",
    "msg = int(input(\"Enter the text:\")) \n",
    "\n",
    "public_a = [generators [0] * Private_a , generators [1] * Private_a]\n",
    "public_b = [generators [0] * Private_b , generators [1] * Private_b]\n",
    "\n",
    "print(\"Public Key A:\", public_a)\n",
    "print(\"Public Key B:\", public_b) \n",
    "\n",
    "k = random.randint(0, 10)\n",
    "\n",
    "c1 = k * (generators[0] + generators[1]) \n",
    "c2 = msg + (k * public_b[0] + k * public_b[1])\n",
    "\n",
    "ciphertext = [c1 , c2]\n",
    "print(\"Ciphertext:\" , ciphertext)\n",
    "\n",
    "r=Private_b*c1\n",
    "plaintext=c2-r\n",
    "\n",
    "print(\"Plaintext:\",plaintext)"
   ]
  },
  {
   "cell_type": "code",
   "execution_count": null,
   "id": "16a3c85c",
   "metadata": {},
   "outputs": [],
   "source": []
  }
 ],
 "metadata": {
  "kernelspec": {
   "display_name": "Python 3 (ipykernel)",
   "language": "python",
   "name": "python3"
  },
  "language_info": {
   "codemirror_mode": {
    "name": "ipython",
    "version": 3
   },
   "file_extension": ".py",
   "mimetype": "text/x-python",
   "name": "python",
   "nbconvert_exporter": "python",
   "pygments_lexer": "ipython3",
   "version": "3.9.1"
  }
 },
 "nbformat": 4,
 "nbformat_minor": 5
}
