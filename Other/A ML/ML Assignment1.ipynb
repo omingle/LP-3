{
 "cells": [
  {
   "cell_type": "code",
   "execution_count": 1,
   "id": "b7a1c874",
   "metadata": {},
   "outputs": [],
   "source": [
    "#ML Assignment 1\n",
    "#Rohit Jain 41434\n",
    "\n",
    "import numpy as np\n",
    "import matplotlib.pyplot as mp"
   ]
  },
  {
   "cell_type": "code",
   "execution_count": 5,
   "id": "a652ab40",
   "metadata": {},
   "outputs": [],
   "source": [
    "x = np.array([10,9,2,15,10,16,11,16])\n",
    "y=np.array([95,80,10,50,45,98,38,93])"
   ]
  },
  {
   "cell_type": "code",
   "execution_count": 6,
   "id": "15f23f29",
   "metadata": {},
   "outputs": [
    {
     "data": {
      "text/plain": [
       "Text(0, 0.5, 'Risk Score(Y)')"
      ]
     },
     "execution_count": 6,
     "metadata": {},
     "output_type": "execute_result"
    },
    {
     "data": {
      "image/png": "[encoded data removed]",
      "text/plain": [
       "<Figure size 432x288 with 1 Axes>"
      ]
     },
     "metadata": {
      "needs_background": "light"
     },
     "output_type": "display_data"
    }
   ],
   "source": [
    "mp.scatter(x, y,color='red')\n",
    "mp.xlabel('Hours(X)')\n",
    "mp.ylabel('Risk Score(Y)')"
   ]
  },
  {
   "cell_type": "code",
   "execution_count": 7,
   "id": "c33bbf31",
   "metadata": {},
   "outputs": [
    {
     "name": "stdout",
     "output_type": "stream",
     "text": [
      "Mean value(X) : 11.125\n",
      "Mean value(Y) : 63.625\n"
     ]
    }
   ],
   "source": [
    "# Implementing Linear Regression from scratch\n",
    "# Calculating mean\n",
    "x_mean=sum(x)/len(x)\n",
    "y_mean=sum(y)/len(y)\n",
    "print(\"Mean value(X) :\",x_mean)\n",
    "print(\"Mean value(Y) :\",y_mean)"
   ]
  },
  {
   "cell_type": "code",
   "execution_count": 8,
   "id": "f6233cc7",
   "metadata": {},
   "outputs": [
    {
     "name": "stdout",
     "output_type": "stream",
     "text": [
      "b0 = 12.584627964022893\n",
      "b1 = 4.58789860997547\n"
     ]
    }
   ],
   "source": [
    "#Calculate b0 and b1\n",
    "numerator=0\n",
    "denominator=0\n",
    "\n",
    "for i in range(len(x)):\n",
    "    numerator+=(x[i]-x_mean)*(y[i]-y_mean)\n",
    "    denominator+=(x[i]-x_mean)**2\n",
    "b1=numerator/denominator\n",
    "b0=y_mean-b1*x_mean\n",
    "\n",
    "print(\"b0 =\",b0)\n",
    "print(\"b1 =\",b1)"
   ]
  },
  {
   "cell_type": "code",
   "execution_count": 9,
   "id": "d385fae7",
   "metadata": {},
   "outputs": [
    {
     "name": "stdout",
     "output_type": "stream",
     "text": [
      "y = x* 4.58789860997547 + 12.584627964022893\n"
     ]
    }
   ],
   "source": [
    "# Equation obtained \n",
    "print(\"y = x*\",b1,\"+\",b0)"
   ]
  },
  {
   "cell_type": "code",
   "execution_count": 10,
   "id": "96db5db6",
   "metadata": {},
   "outputs": [
    {
     "name": "stdout",
     "output_type": "stream",
     "text": [
      "58.46361406377759\n",
      "53.87571545380212\n",
      "21.760425183973833\n",
      "81.40310711365495\n",
      "58.46361406377759\n",
      "85.99100572363042\n",
      "63.05151267375307\n",
      "85.99100572363042\n"
     ]
    }
   ],
   "source": [
    "predict=[]\n",
    "for i in range(len(x)):\n",
    "    y_pred = b0 + b1 * x[i]\n",
    "    predict.append(y_pred)\n",
    "    print(y_pred)"
   ]
  },
  {
   "cell_type": "code",
   "execution_count": 11,
   "id": "b1dfe005",
   "metadata": {},
   "outputs": [
    {
     "data": {
      "text/plain": [
       "[<matplotlib.lines.Line2D at 0x1bb863d9030>]"
      ]
     },
     "execution_count": 11,
     "metadata": {},
     "output_type": "execute_result"
    },
    {
     "data": {
      "image/png": "[encoded data removed]",
      "text/plain": [
       "<Figure size 432x288 with 1 Axes>"
      ]
     },
     "metadata": {
      "needs_background": "light"
     },
     "output_type": "display_data"
    }
   ],
   "source": [
    "mp.scatter(x, y,color='red')\n",
    "mp.xlabel('Hours')\n",
    "mp.ylabel('Risk Score')\n",
    "mp.plot(x, predict)"
   ]
  },
  {
   "cell_type": "code",
   "execution_count": 12,
   "id": "7f9a121f",
   "metadata": {
    "scrolled": true
   },
   "outputs": [
    {
     "name": "stdout",
     "output_type": "stream",
     "text": [
      "RMSE : 22.759716640449565\n",
      "Coefficient of determination: 0.44\n"
     ]
    }
   ],
   "source": [
    "from sklearn.metrics import mean_squared_error,r2_score\n",
    "rmse = mean_squared_error(y, predict, squared=False)\n",
    "print(\"RMSE :\",rmse)\n",
    "print(\"Coefficient of determination: %.2f\"%r2_score(y,predict))"
   ]
  },
  {
   "cell_type": "code",
   "execution_count": 13,
   "id": "e977a621",
   "metadata": {
    "scrolled": true
   },
   "outputs": [
    {
     "name": "stdout",
     "output_type": "stream",
     "text": [
      "[58.46361406 53.87571545 21.76042518 81.40310711 58.46361406 85.99100572\n",
      " 63.05151267 85.99100572]\n"
     ]
    }
   ],
   "source": [
    "# Implementation of Linear Regression using Sklearn\n",
    "x=x.reshape(-1,1)\n",
    "\n",
    "from sklearn import linear_model\n",
    "model = linear_model.LinearRegression()\n",
    "model.fit(x,y)\n",
    "print(model.predict(x))"
   ]
  },
  {
   "cell_type": "code",
   "execution_count": 14,
   "id": "8fa981d5",
   "metadata": {
    "scrolled": false
   },
   "outputs": [
    {
     "name": "stdout",
     "output_type": "stream",
     "text": [
      "RMSE : 22.759716640449565\n",
      "Coefficient of determination: 0.44\n"
     ]
    }
   ],
   "source": [
    "print(\"RMSE :\",mean_squared_error(y, model.predict(x), squared=False))\n",
    "print(\"Coefficient of determination: %.2f\"%r2_score(y,model.predict(x)))"
   ]
  },
  {
   "cell_type": "code",
   "execution_count": null,
   "id": "6e14a3e7",
   "metadata": {},
   "outputs": [],
   "source": []
  }
 ],
 "metadata": {
  "kernelspec": {
   "display_name": "Python 3 (ipykernel)",
   "language": "python",
   "name": "python3"
  },
  "language_info": {
   "codemirror_mode": {
    "name": "ipython",
    "version": 3
   },
   "file_extension": ".py",
   "mimetype": "text/x-python",
   "name": "python",
   "nbconvert_exporter": "python",
   "pygments_lexer": "ipython3",
   "version": "3.9.1"
  }
 },
 "nbformat": 4,
 "nbformat_minor": 5
}
