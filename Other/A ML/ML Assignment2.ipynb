{
 "cells": [
  {
   "cell_type": "code",
   "execution_count": 1,
   "id": "41f30f46",
   "metadata": {},
   "outputs": [],
   "source": [
    "#ML Assignment 2\n",
    "#Rohit Jain 41434\n",
    "\n",
    "import numpy as np\n",
    "import pandas as pd\n",
    "from sklearn import tree\n",
    "import matplotlib.pyplot as mp\n",
    "from sklearn.tree import DecisionTreeClassifier\n",
    "import math"
   ]
  },
  {
   "cell_type": "code",
   "execution_count": 2,
   "id": "cc0e2f9f",
   "metadata": {},
   "outputs": [],
   "source": [
    "data = {\n",
    "    'age': ['<21', '<21', '21-35', '>35', '>35', '>35', '21-35', '<21', '<21', '>35', '<21', '21-35', '21-35', '>35'], \n",
    "    'income':['high','high','high','medium','low','low','low','medium','low','medium','medium','medium','high','medium'],\n",
    "    'gender':['male','male','male','male','female','female','female','male','female','female','female','male','female','male'],\n",
    "    'marital_status':['single', 'married', 'single', 'single', 'single', 'married', 'married', 'single', 'married','single','married','married','single','married'],\n",
    "    'buys':['no','no','yes','yes','yes','no','yes','no','yes','yes','yes','yes','yes','no']\n",
    "} \n",
    "df = pd.DataFrame.from_dict(data) "
   ]
  },
  {
   "cell_type": "code",
   "execution_count": 3,
   "id": "73108c81",
   "metadata": {},
   "outputs": [
    {
     "data": {
      "text/html": [
       "<div>\n",
       "<style scoped>\n",
       "    .dataframe tbody tr th:only-of-type {\n",
       "        vertical-align: middle;\n",
       "    }\n",
       "\n",
       "    .dataframe tbody tr th {\n",
       "        vertical-align: top;\n",
       "    }\n",
       "\n",
       "    .dataframe thead th {\n",
       "        text-align: right;\n",
       "    }\n",
       "</style>\n",
       "<table border=\"1\" class=\"dataframe\">\n",
       "  <thead>\n",
       "    <tr style=\"text-align: right;\">\n",
       "      <th></th>\n",
       "      <th>age</th>\n",
       "      <th>income</th>\n",
       "      <th>gender</th>\n",
       "      <th>marital_status</th>\n",
       "      <th>buys</th>\n",
       "    </tr>\n",
       "  </thead>\n",
       "  <tbody>\n",
       "    <tr>\n",
       "      <th>0</th>\n",
       "      <td>&lt;21</td>\n",
       "      <td>high</td>\n",
       "      <td>male</td>\n",
       "      <td>single</td>\n",
       "      <td>no</td>\n",
       "    </tr>\n",
       "    <tr>\n",
       "      <th>1</th>\n",
       "      <td>&lt;21</td>\n",
       "      <td>high</td>\n",
       "      <td>male</td>\n",
       "      <td>married</td>\n",
       "      <td>no</td>\n",
       "    </tr>\n",
       "    <tr>\n",
       "      <th>2</th>\n",
       "      <td>21-35</td>\n",
       "      <td>high</td>\n",
       "      <td>male</td>\n",
       "      <td>single</td>\n",
       "      <td>yes</td>\n",
       "    </tr>\n",
       "    <tr>\n",
       "      <th>3</th>\n",
       "      <td>&gt;35</td>\n",
       "      <td>medium</td>\n",
       "      <td>male</td>\n",
       "      <td>single</td>\n",
       "      <td>yes</td>\n",
       "    </tr>\n",
       "    <tr>\n",
       "      <th>4</th>\n",
       "      <td>&gt;35</td>\n",
       "      <td>low</td>\n",
       "      <td>female</td>\n",
       "      <td>single</td>\n",
       "      <td>yes</td>\n",
       "    </tr>\n",
       "  </tbody>\n",
       "</table>\n",
       "</div>"
      ],
      "text/plain": [
       "     age  income  gender marital_status buys\n",
       "0    <21    high    male         single   no\n",
       "1    <21    high    male        married   no\n",
       "2  21-35    high    male         single  yes\n",
       "3    >35  medium    male         single  yes\n",
       "4    >35     low  female         single  yes"
      ]
     },
     "execution_count": 3,
     "metadata": {},
     "output_type": "execute_result"
    }
   ],
   "source": [
    "df.head()"
   ]
  },
  {
   "cell_type": "code",
   "execution_count": 4,
   "id": "3a26a9b5",
   "metadata": {},
   "outputs": [
    {
     "data": {
      "text/html": [
       "<div>\n",
       "<style scoped>\n",
       "    .dataframe tbody tr th:only-of-type {\n",
       "        vertical-align: middle;\n",
       "    }\n",
       "\n",
       "    .dataframe tbody tr th {\n",
       "        vertical-align: top;\n",
       "    }\n",
       "\n",
       "    .dataframe thead th {\n",
       "        text-align: right;\n",
       "    }\n",
       "</style>\n",
       "<table border=\"1\" class=\"dataframe\">\n",
       "  <thead>\n",
       "    <tr style=\"text-align: right;\">\n",
       "      <th></th>\n",
       "      <th>age</th>\n",
       "      <th>income</th>\n",
       "      <th>gender</th>\n",
       "      <th>marital_status</th>\n",
       "      <th>buys</th>\n",
       "    </tr>\n",
       "  </thead>\n",
       "  <tbody>\n",
       "    <tr>\n",
       "      <th>count</th>\n",
       "      <td>14</td>\n",
       "      <td>14</td>\n",
       "      <td>14</td>\n",
       "      <td>14</td>\n",
       "      <td>14</td>\n",
       "    </tr>\n",
       "    <tr>\n",
       "      <th>unique</th>\n",
       "      <td>3</td>\n",
       "      <td>3</td>\n",
       "      <td>2</td>\n",
       "      <td>2</td>\n",
       "      <td>2</td>\n",
       "    </tr>\n",
       "    <tr>\n",
       "      <th>top</th>\n",
       "      <td>&lt;21</td>\n",
       "      <td>medium</td>\n",
       "      <td>male</td>\n",
       "      <td>single</td>\n",
       "      <td>yes</td>\n",
       "    </tr>\n",
       "    <tr>\n",
       "      <th>freq</th>\n",
       "      <td>5</td>\n",
       "      <td>6</td>\n",
       "      <td>7</td>\n",
       "      <td>7</td>\n",
       "      <td>9</td>\n",
       "    </tr>\n",
       "  </tbody>\n",
       "</table>\n",
       "</div>"
      ],
      "text/plain": [
       "        age  income gender marital_status buys\n",
       "count    14      14     14             14   14\n",
       "unique    3       3      2              2    2\n",
       "top     <21  medium   male         single  yes\n",
       "freq      5       6      7              7    9"
      ]
     },
     "execution_count": 4,
     "metadata": {},
     "output_type": "execute_result"
    }
   ],
   "source": [
    "df.describe()"
   ]
  },
  {
   "cell_type": "code",
   "execution_count": 5,
   "id": "766b55eb",
   "metadata": {},
   "outputs": [
    {
     "name": "stdout",
     "output_type": "stream",
     "text": [
      "Gini(Dataset) :  0.4591836734693877\n"
     ]
    }
   ],
   "source": [
    "rows = df.shape[0]\n",
    "labels = df.buys.unique()\n",
    "values= df.buys.value_counts()\n",
    "target_gini =0\n",
    "\n",
    "for i in range(0,len(values)):\n",
    "    probability = values[labels[i]]/rows\n",
    "    target_gini = target_gini + (probability**2)\n",
    "\n",
    "target_gini = 1 - target_gini\n",
    "\n",
    "print(\"Gini(Dataset) : \",target_gini)"
   ]
  },
  {
   "cell_type": "code",
   "execution_count": 6,
   "id": "f57804ca",
   "metadata": {},
   "outputs": [],
   "source": [
    "def gini(feature,target,count):\n",
    "    gini= 0\n",
    "    gini_values=list()\n",
    "    \n",
    "    yes_probability = 0\n",
    "    no_probability = 0\n",
    "    labels=np.unique(feature) \n",
    "    \n",
    "    for i in range(0,len(labels)):\n",
    "        yes_probability = 0\n",
    "        gini = 0\n",
    "        no_probability = 0\n",
    "        for j in range(0,len(values)):\n",
    "            if feature[j]==labels[i] and target[j]=='yes':\n",
    "                yes_probability = yes_probability+1\n",
    "            if feature[j]==labels[i] and target[j]=='no':\n",
    "                no_probability = no_probability+1\n",
    "        gini = ((yes_probability/count[labels[i]])**2) + ((no_probability/count[labels[i]])**2)\n",
    "        gini = 1 - gini\n",
    "        gini_values.append(gini)\n",
    "        print(\"Gini(\",labels[i],\"): \",gini)\n",
    "    return gini_values\n",
    "        "
   ]
  },
  {
   "cell_type": "code",
   "execution_count": 7,
   "id": "586b5259",
   "metadata": {},
   "outputs": [],
   "source": [
    "#Calculating Information Gain\n",
    "def info_gain(feature,gini_values,target_gini,count):\n",
    "    gain = 0\n",
    "    labels=np.unique(feature)\n",
    "    for i in range(0,len(labels)):\n",
    "        gain = gain+count[labels[i]]/rows * gini_values[i]\n",
    "    return target_gini - gain"
   ]
  },
  {
   "cell_type": "code",
   "execution_count": 8,
   "id": "713e2b38",
   "metadata": {},
   "outputs": [
    {
     "name": "stdout",
     "output_type": "stream",
     "text": [
      "Gini( 21-35 ):  0.0\n",
      "Gini( <21 ):  0.48\n",
      "Gini( >35 ):  0.48\n",
      "Information gain(age) :  0.11632653061224485\n"
     ]
    }
   ],
   "source": [
    "values = df['age'].values\n",
    "target = df['buys'].values\n",
    "count = df['age'].value_counts()\n",
    "gini_age = gini(values,target,count)\n",
    "gain_age = info_gain(values,gini_age,target_gini,count)\n",
    "print(\"Information gain(age) : \",gain_age)"
   ]
  },
  {
   "cell_type": "code",
   "execution_count": 9,
   "id": "7286e7c0",
   "metadata": {},
   "outputs": [
    {
     "name": "stdout",
     "output_type": "stream",
     "text": [
      "Gini( high ):  0.5\n",
      "Gini( low ):  0.375\n",
      "Gini( medium ):  0.4444444444444444\n",
      "Information gain(income) :  0.018707482993197244\n"
     ]
    }
   ],
   "source": [
    "values = df['income'].values\n",
    "count = df['income'].value_counts()\n",
    "gini_income = gini(values,target,count)\n",
    "gain_income = info_gain(values,gini_income,target_gini,count)\n",
    "print(\"Information gain(income) : \",gain_income)"
   ]
  },
  {
   "cell_type": "code",
   "execution_count": 10,
   "id": "931d5b65",
   "metadata": {},
   "outputs": [
    {
     "name": "stdout",
     "output_type": "stream",
     "text": [
      "Gini( female ):  0.24489795918367352\n",
      "Gini( male ):  0.48979591836734704\n",
      "Information gain(gender) :  0.09183673469387743\n"
     ]
    }
   ],
   "source": [
    "values = df['gender'].values\n",
    "count = df['gender'].value_counts()\n",
    "gini_gender = gini(values,target,count)\n",
    "gain_gender = info_gain(values,gini_gender,target_gini,count)\n",
    "print(\"Information gain(gender) : \",gain_gender)"
   ]
  },
  {
   "cell_type": "code",
   "execution_count": 11,
   "id": "ed487230",
   "metadata": {},
   "outputs": [
    {
     "name": "stdout",
     "output_type": "stream",
     "text": [
      "Gini( married ):  0.48979591836734704\n",
      "Gini( single ):  0.40816326530612246\n",
      "Information gain(marital_status) :  0.010204081632652962\n"
     ]
    }
   ],
   "source": [
    "values = df['marital_status'].values\n",
    "count = df['marital_status'].value_counts()\n",
    "gini_marital_status = gini(values,target,count)\n",
    "gain_marital_status = info_gain(values,gini_marital_status,target_gini,count)\n",
    "print(\"Information gain(marital_status) : \",gain_marital_status)"
   ]
  },
  {
   "cell_type": "code",
   "execution_count": 12,
   "id": "0b9fed85",
   "metadata": {},
   "outputs": [
    {
     "name": "stdout",
     "output_type": "stream",
     "text": [
      "0.11632653061224485\n"
     ]
    }
   ],
   "source": [
    "root = max(gain_age,gain_income,gain_gender,gain_marital_status)\n",
    "print(root)"
   ]
  },
  {
   "cell_type": "code",
   "execution_count": 13,
   "id": "faeab07e",
   "metadata": {},
   "outputs": [],
   "source": [
    "X = df.iloc[:,[0,1,2,3]].values\n",
    "Y = df.iloc[:,-1].values"
   ]
  },
  {
   "cell_type": "code",
   "execution_count": 14,
   "id": "366602aa",
   "metadata": {},
   "outputs": [
    {
     "name": "stdout",
     "output_type": "stream",
     "text": [
      "[['<21' 'high' 'male' 'single']\n",
      " ['<21' 'high' 'male' 'married']\n",
      " ['21-35' 'high' 'male' 'single']\n",
      " ['>35' 'medium' 'male' 'single']\n",
      " ['>35' 'low' 'female' 'single']\n",
      " ['>35' 'low' 'female' 'married']\n",
      " ['21-35' 'low' 'female' 'married']\n",
      " ['<21' 'medium' 'male' 'single']\n",
      " ['<21' 'low' 'female' 'married']\n",
      " ['>35' 'medium' 'female' 'single']\n",
      " ['<21' 'medium' 'female' 'married']\n",
      " ['21-35' 'medium' 'male' 'married']\n",
      " ['21-35' 'high' 'female' 'single']\n",
      " ['>35' 'medium' 'male' 'married']]\n",
      "['no' 'no' 'yes' 'yes' 'yes' 'no' 'yes' 'no' 'yes' 'yes' 'yes' 'yes' 'yes'\n",
      " 'no']\n"
     ]
    }
   ],
   "source": [
    "print(X)\n",
    "print(Y)"
   ]
  },
  {
   "cell_type": "code",
   "execution_count": 15,
   "id": "e1dfa8d2",
   "metadata": {},
   "outputs": [],
   "source": [
    "from sklearn.preprocessing import LabelEncoder\n",
    "le = LabelEncoder()\n",
    "length = X.shape[1]\n",
    "i = 0\n",
    "while i < length:\n",
    "    X[:,i] = le.fit_transform(X[:,i])\n",
    "    i = i+1"
   ]
  },
  {
   "cell_type": "code",
   "execution_count": 16,
   "id": "da00bdb3",
   "metadata": {},
   "outputs": [],
   "source": [
    "#Using sklearn Decision Tree model with GINI INDEX \n",
    "dc = DecisionTreeClassifier(criterion='gini')\n",
    "dc = dc.fit(X,Y)"
   ]
  },
  {
   "cell_type": "code",
   "execution_count": 17,
   "id": "32de2945",
   "metadata": {},
   "outputs": [
    {
     "data": {
      "image/png": "[encoded data removed]",
      "text/plain": [
       "<Figure size 720x1080 with 1 Axes>"
      ]
     },
     "metadata": {
      "needs_background": "light"
     },
     "output_type": "display_data"
    }
   ],
   "source": [
    "from sklearn import tree\n",
    "fig = mp.figure(figsize=(10,15))\n",
    "image = tree.plot_tree(dc)"
   ]
  },
  {
   "cell_type": "code",
   "execution_count": 18,
   "id": "b6b41591",
   "metadata": {},
   "outputs": [
    {
     "name": "stdout",
     "output_type": "stream",
     "text": [
      "Age < 21 (1), Income = Low (1), Gender = Female (0), Marital Status = Married (0)\n",
      "Prediction:  ['yes']\n"
     ]
    }
   ],
   "source": [
    "predicted_set = dc.predict(X)\n",
    "# Predicting\n",
    "print(\"Age < 21 (1), Income = Low (1), Gender = Female (0), Marital Status = Married (0)\")\n",
    "print(\"Prediction: \" , dc.predict([[1, 1, 0, 0]]))"
   ]
  },
  {
   "cell_type": "code",
   "execution_count": 19,
   "id": "3fa55915",
   "metadata": {},
   "outputs": [
    {
     "name": "stdout",
     "output_type": "stream",
     "text": [
      "Confusion Matrix: \n",
      " [[5 0]\n",
      " [0 9]]\n",
      "Accuracy Score:  1.0\n",
      "F1-Score:  1.0\n"
     ]
    }
   ],
   "source": [
    "from sklearn.metrics import confusion_matrix,accuracy_score, f1_score\n",
    "\n",
    "cm = confusion_matrix(Y, predicted_set)\n",
    "ascore = accuracy_score(Y, predicted_set)\n",
    "fscore = f1_score(Y, predicted_set, pos_label=\"no\")\n",
    "\n",
    "print(\"Confusion Matrix: \\n\", cm)\n",
    "print(\"Accuracy Score: \", ascore)\n",
    "print(\"F1-Score: \", fscore)"
   ]
  },
  {
   "cell_type": "code",
   "execution_count": null,
   "id": "b532f353",
   "metadata": {},
   "outputs": [],
   "source": []
  }
 ],
 "metadata": {
  "kernelspec": {
   "display_name": "Python 3 (ipykernel)",
   "language": "python",
   "name": "python3"
  },
  "language_info": {
   "codemirror_mode": {
    "name": "ipython",
    "version": 3
   },
   "file_extension": ".py",
   "mimetype": "text/x-python",
   "name": "python",
   "nbconvert_exporter": "python",
   "pygments_lexer": "ipython3",
   "version": "3.9.1"
  }
 },
 "nbformat": 4,
 "nbformat_minor": 5
}
