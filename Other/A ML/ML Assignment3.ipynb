{
 "cells": [
  {
   "cell_type": "code",
   "execution_count": 3,
   "id": "d903f7fa",
   "metadata": {},
   "outputs": [],
   "source": [
    "#ML Assignment 3\n",
    "#Rohit Jain 41434\n",
    "\n",
    "import numpy as np\n",
    "import pandas as pd\n",
    "import math"
   ]
  },
  {
   "cell_type": "code",
   "execution_count": 4,
   "id": "bac9cf32",
   "metadata": {},
   "outputs": [],
   "source": [
    "x=np.array([[2,4],[4,2],[4,4],[4,6],[6,2],[6,4]])\n",
    "y=np.array([0,0,1,0,1,0])  #  0=negative 1=positive class"
   ]
  },
  {
   "cell_type": "code",
   "execution_count": 5,
   "id": "385dd4bd",
   "metadata": {},
   "outputs": [],
   "source": [
    "def eucledian_distance(x1,y1,x2,y2):\n",
    "    return math.sqrt((x1-x2)**2+(y1-y2)**2)\n"
   ]
  },
  {
   "cell_type": "code",
   "execution_count": 6,
   "id": "69a87dbc",
   "metadata": {},
   "outputs": [],
   "source": [
    "def chooseK(arr):\n",
    "    print(\"Size of array :\",arr.shape[0])\n",
    "    k=round(math.sqrt(arr.shape[0]))\n",
    "    if(k%2==0):\n",
    "        k=k+1;\n",
    "    #k should be odd so that classfication can be done properly(No chance of 50%-50% classification)\n",
    "    print(\"Choosen value of K : \",k)\n",
    "    return k;"
   ]
  },
  {
   "cell_type": "code",
   "execution_count": 7,
   "id": "1d71c1d0",
   "metadata": {},
   "outputs": [
    {
     "name": "stdout",
     "output_type": "stream",
     "text": [
      "Size of array : 6\n",
      "Choosen value of K :  3\n"
     ]
    },
    {
     "data": {
      "text/plain": [
       "3"
      ]
     },
     "execution_count": 7,
     "metadata": {},
     "output_type": "execute_result"
    }
   ],
   "source": [
    "chooseK(x)"
   ]
  },
  {
   "cell_type": "code",
   "execution_count": 8,
   "id": "292d7026",
   "metadata": {},
   "outputs": [],
   "source": [
    "def classifyPoint(x,y,point,k):\n",
    "    inputSize=x.shape[0];\n",
    "    \n",
    "    distance=[]; #for string eucledian distance\n",
    "    for i in range(inputSize):\n",
    "        distance.append(eucledian_distance(point[0],point[1],x[i][0],x[i][1]));\n",
    "        \n",
    "    mergedList=list(zip(distance,y));\n",
    "    mergedList.sort(); #sort according to increasing distance\n",
    "    \n",
    "    freq0=0; #Freq of group 0 (negative)\n",
    "    freq1=0; #Freq of group 1 (positive)\n",
    "    \n",
    "    for i in range(k): #Iterate for k neighbours\n",
    "        if(mergedList[i][1]==0):\n",
    "            freq0=freq0+1;\n",
    "        elif (mergedList[i][1]==1):\n",
    "            freq1=freq1+1;\n",
    "    \n",
    "    if(freq0>freq1):\n",
    "        return 0;\n",
    "    else:\n",
    "        return 1;"
   ]
  },
  {
   "cell_type": "code",
   "execution_count": 9,
   "id": "cf3f8480",
   "metadata": {},
   "outputs": [],
   "source": [
    "def main():\n",
    "    \n",
    "    print(\"Input X coordinate\");\n",
    "    x_co=int(input())\n",
    "    print(\"Enter Y coordinate \")\n",
    "    y_co=int(input())\n",
    "\n",
    "    pointt=(x_co,y_co)\n",
    "    print(pointt)\n",
    "    k=chooseK(x);\n",
    "    label=\"--\"\n",
    "    if(classifyPoint(x=x,y=y,point=pointt,k=k)==0):\n",
    "        label=\"Negative\";\n",
    "    else:\n",
    "        label:\"Positive\";\n",
    "    print(\"Point {} belongs to {} class\".format(pointt,label))\n",
    "    print (classifyPoint(x=x,y=y,point=pointt,k=k))"
   ]
  },
  {
   "cell_type": "code",
   "execution_count": 12,
   "id": "2466d639",
   "metadata": {},
   "outputs": [
    {
     "name": "stdout",
     "output_type": "stream",
     "text": [
      "Input X coordinate\n",
      "4\n",
      "Enter Y coordinate \n",
      "4\n",
      "(4, 4)\n",
      "Size of array : 6\n",
      "Choosen value of K :  3\n",
      "Point (4, 4) belongs to Negative class\n",
      "0\n"
     ]
    }
   ],
   "source": [
    "main()"
   ]
  },
  {
   "cell_type": "code",
   "execution_count": null,
   "id": "ab3c893f",
   "metadata": {},
   "outputs": [],
   "source": []
  }
 ],
 "metadata": {
  "kernelspec": {
   "display_name": "Python 3 (ipykernel)",
   "language": "python",
   "name": "python3"
  },
  "language_info": {
   "codemirror_mode": {
    "name": "ipython",
    "version": 3
   },
   "file_extension": ".py",
   "mimetype": "text/x-python",
   "name": "python",
   "nbconvert_exporter": "python",
   "pygments_lexer": "ipython3",
   "version": "3.9.1"
  }
 },
 "nbformat": 4,
 "nbformat_minor": 5
}
